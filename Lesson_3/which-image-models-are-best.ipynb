{
 "cells": [
  {
   "cell_type": "markdown",
   "id": "78b45edd",
   "metadata": {
    "papermill": {
     "duration": 0.026777,
     "end_time": "2022-06-13T09:22:09.250706",
     "exception": false,
     "start_time": "2022-06-13T09:22:09.223929",
     "status": "completed"
    },
    "tags": []
   },
   "source": [
    "*The data, concept, and initial implementation of this notebook was done in Colab by Ross Wightman, the creator of timm. I (Jeremy Howard) did some refactoring, curating, and expanding of the analysis, and added prose.*"
   ]
  },
  {
   "cell_type": "markdown",
   "id": "6dce3a99",
   "metadata": {
    "papermill": {
     "duration": 0.024675,
     "end_time": "2022-06-13T09:22:09.301001",
     "exception": false,
     "start_time": "2022-06-13T09:22:09.276326",
     "status": "completed"
    },
    "tags": []
   },
   "source": [
    "## timm\n",
    "\n",
    "[PyTorch Image Models](https://timm.fast.ai/) (timm) is a wonderful library by Ross Wightman which provides state-of-the-art pre-trained computer vision models. It's like Huggingface Transformers, but for computer vision instead of NLP (and it's not restricted to transformers-based models)!\n",
    "\n",
    "Ross has been kind enough to help me understand how to best take advantage of this library by identifying the top models. I'm going to share here so of what I've learned from him, plus some additional ideas."
   ]
  },
  {
   "cell_type": "markdown",
   "id": "d53ed431",
   "metadata": {
    "papermill": {
     "duration": 0.024891,
     "end_time": "2022-06-13T09:22:09.351342",
     "exception": false,
     "start_time": "2022-06-13T09:22:09.326451",
     "status": "completed"
    },
    "tags": []
   },
   "source": [
    "## The data\n",
    "\n",
    "Ross regularly benchmarks new models as they are added to timm, and puts the results in a CSV in the project's GitHub repo. To analyse the data, we'll first clone the repo:"
   ]
  },
  {
   "cell_type": "code",
   "execution_count": 1,
   "id": "d31f4ecf",
   "metadata": {
    "execution": {
     "iopub.execute_input": "2022-06-13T09:22:09.404185Z",
     "iopub.status.busy": "2022-06-13T09:22:09.403508Z",
     "iopub.status.idle": "2022-06-13T09:22:12.840034Z",
     "shell.execute_reply": "2022-06-13T09:22:12.839116Z"
    },
    "papermill": {
     "duration": 3.465848,
     "end_time": "2022-06-13T09:22:12.842268",
     "exception": false,
     "start_time": "2022-06-13T09:22:09.376420",
     "status": "completed"
    },
    "tags": []
   },
   "outputs": [
    {
     "name": "stdout",
     "output_type": "stream",
     "text": [
      "Cloning into 'pytorch-image-models'...\r\n",
      "remote: Enumerating objects: 415, done.\u001b[K\r\n",
      "remote: Counting objects: 100% (415/415), done.\u001b[K\r\n",
      "remote: Compressing objects: 100% (398/398), done.\u001b[K\r\n",
      "remote: Total 415 (delta 143), reused 91 (delta 6), pack-reused 0\u001b[K\r\n",
      "Receiving objects: 100% (415/415), 1006.97 KiB | 1.38 MiB/s, done.\r\n",
      "Resolving deltas: 100% (143/143), done.\r\n",
      "/kaggle/working/pytorch-image-models/results\n"
     ]
    }
   ],
   "source": [
    "! git clone --depth 1 https://github.com/rwightman/pytorch-image-models.git\n",
    "%cd pytorch-image-models/results"
   ]
  },
  {
   "cell_type": "markdown",
   "id": "26fd6628",
   "metadata": {
    "papermill": {
     "duration": 0.030163,
     "end_time": "2022-06-13T09:22:12.904592",
     "exception": false,
     "start_time": "2022-06-13T09:22:12.874429",
     "status": "completed"
    },
    "tags": []
   },
   "source": [
    "Using Pandas, we can read the two CSV files we need, and merge them together."
   ]
  },
  {
   "cell_type": "code",
   "execution_count": 2,
   "id": "862c8da2",
   "metadata": {
    "execution": {
     "iopub.execute_input": "2022-06-13T09:22:12.967790Z",
     "iopub.status.busy": "2022-06-13T09:22:12.967207Z",
     "iopub.status.idle": "2022-06-13T09:22:12.981297Z",
     "shell.execute_reply": "2022-06-13T09:22:12.980457Z"
    },
    "papermill": {
     "duration": 0.048437,
     "end_time": "2022-06-13T09:22:12.983418",
     "exception": false,
     "start_time": "2022-06-13T09:22:12.934981",
     "status": "completed"
    },
    "tags": []
   },
   "outputs": [],
   "source": [
    "import pandas as pd\n",
    "df_results = pd.read_csv('results-imagenet.csv')"
   ]
  },
  {
   "cell_type": "markdown",
   "id": "f17d89e0",
   "metadata": {
    "papermill": {
     "duration": 0.029948,
     "end_time": "2022-06-13T09:22:13.043532",
     "exception": false,
     "start_time": "2022-06-13T09:22:13.013584",
     "status": "completed"
    },
    "tags": []
   },
   "source": [
    "We'll also add a \"family\" column that will allow us to group architectures into categories with similar characteristics:\n",
    "\n",
    "Ross has told me which models he's found the most usable in practice, so I'll limit the charts to just look at these. (I also include VGG, not because it's good, but as a comparison to show how far things have come in the last few years.)"
   ]
  },
  {
   "cell_type": "code",
   "execution_count": 3,
   "id": "27c3cc99",
   "metadata": {
    "execution": {
     "iopub.execute_input": "2022-06-13T09:22:13.108029Z",
     "iopub.status.busy": "2022-06-13T09:22:13.107726Z",
     "iopub.status.idle": "2022-06-13T09:22:13.115882Z",
     "shell.execute_reply": "2022-06-13T09:22:13.114914Z"
    },
    "papermill": {
     "duration": 0.041923,
     "end_time": "2022-06-13T09:22:13.118089",
     "exception": false,
     "start_time": "2022-06-13T09:22:13.076166",
     "status": "completed"
    },
    "tags": []
   },
   "outputs": [],
   "source": [
    "def get_data(part, col):\n",
    "    df = pd.read_csv(f'benchmark-{part}-amp-nhwc-pt111-cu113-rtx3090.csv').merge(df_results, on='model')\n",
    "    df['secs'] = 1. / df[col]\n",
    "    df['family'] = df.model.str.extract('^([a-z]+?(?:v2)?)(?:\\d|_|$)')\n",
    "    df = df[~df.model.str.endswith('gn')]\n",
    "    df.loc[df.model.str.contains('in22'),'family'] = df.loc[df.model.str.contains('in22'),'family'] + '_in22'\n",
    "    df.loc[df.model.str.contains('resnet.*d'),'family'] = df.loc[df.model.str.contains('resnet.*d'),'family'] + 'd'\n",
    "    return df[df.family.str.contains('^re[sg]netd?|beit|convnext|levit|efficient|vit|vgg|swin')]"
   ]
  },
  {
   "cell_type": "code",
   "execution_count": 4,
   "id": "32b34bbd",
   "metadata": {
    "execution": {
     "iopub.execute_input": "2022-06-13T09:22:13.180892Z",
     "iopub.status.busy": "2022-06-13T09:22:13.180395Z",
     "iopub.status.idle": "2022-06-13T09:22:13.219983Z",
     "shell.execute_reply": "2022-06-13T09:22:13.219218Z"
    },
    "papermill": {
     "duration": 0.073511,
     "end_time": "2022-06-13T09:22:13.222250",
     "exception": false,
     "start_time": "2022-06-13T09:22:13.148739",
     "status": "completed"
    },
    "tags": []
   },
   "outputs": [],
   "source": [
    "df = get_data('infer', 'infer_samples_per_sec')"
   ]
  },
  {
   "cell_type": "markdown",
   "id": "14567eec",
   "metadata": {
    "papermill": {
     "duration": 0.030165,
     "end_time": "2022-06-13T09:22:13.282972",
     "exception": false,
     "start_time": "2022-06-13T09:22:13.252807",
     "status": "completed"
    },
    "tags": []
   },
   "source": [
    "## Inference results"
   ]
  },
  {
   "cell_type": "markdown",
   "id": "3f47de97",
   "metadata": {
    "papermill": {
     "duration": 0.030606,
     "end_time": "2022-06-13T09:22:13.344249",
     "exception": false,
     "start_time": "2022-06-13T09:22:13.313643",
     "status": "completed"
    },
    "tags": []
   },
   "source": [
    "Here's the results for inference performance (see the last section for training performance). In this chart:\n",
    "\n",
    "- the x axis shows how many seconds it takes to process one image (**note**: it's a log scale)\n",
    "- the y axis is the accuracy on Imagenet\n",
    "- the size of each bubble is proportional to the size of images used in testing\n",
    "- the color shows what \"family\" the architecture is from.\n",
    "\n",
    "Hover your mouse over a marker to see details about the model. Double-click in the legend to display just one family. Single-click in the legend to show or hide a family.\n",
    "\n",
    "**Note**: on my screen, Kaggle cuts off the family selector and some plotly functionality -- to see the whole thing, collapse the table of contents on the right by clicking the little arrow to the right of \"*Contents*\"."
   ]
  },
  {
   "cell_type": "code",
   "execution_count": 5,
   "id": "ce794b91",
   "metadata": {
    "execution": {
     "iopub.execute_input": "2022-06-13T09:22:13.406472Z",
     "iopub.status.busy": "2022-06-13T09:22:13.405453Z",
     "iopub.status.idle": "2022-06-13T09:22:14.897377Z",
     "shell.execute_reply": "2022-06-13T09:22:14.896252Z"
    },
    "papermill": {
     "duration": 1.525857,
     "end_time": "2022-06-13T09:22:14.900166",
     "exception": false,
     "start_time": "2022-06-13T09:22:13.374309",
     "status": "completed"
    },
    "tags": []
   },
   "outputs": [],
   "source": [
    "import plotly.express as px\n",
    "w,h = 1000,800\n",
    "\n",
    "def show_all(df, title, size):\n",
    "    return px.scatter(df, width=w, height=h, size=df[size]**2, title=title,\n",
    "        x='secs',  y='top1', log_x=True, color='family', hover_name='model', hover_data=[size])"
   ]
  },
  {
   "cell_type": "code",
   "execution_count": 6,
   "id": "761cc012",
   "metadata": {
    "execution": {
     "iopub.execute_input": "2022-06-13T09:22:14.965061Z",
     "iopub.status.busy": "2022-06-13T09:22:14.964756Z",
     "iopub.status.idle": "2022-06-13T09:22:16.214849Z",
     "shell.execute_reply": "2022-06-13T09:22:16.213710Z"
    },
    "papermill": {
     "duration": 1.28517,
     "end_time": "2022-06-13T09:22:16.217446",
     "exception": false,
     "start_time": "2022-06-13T09:22:14.932276",
     "status": "completed"
    },
    "tags": []
   },
   "outputs": [
    {
     "data": {
      "text/html": [
       "        <script type=\"text/javascript\">\n",
       "        window.PlotlyConfig = {MathJaxConfig: 'local'};\n",
       "        if (window.MathJax) {MathJax.Hub.Config({SVG: {font: \"STIX-Web\"}});}\n",
       "        if (typeof require !== 'undefined') {\n",
       "        require.undef(\"plotly\");\n",
       "        requirejs.config({\n",
       "            paths: {\n",
       "                'plotly': ['https://cdn.plot.ly/plotly-2.11.1.min']\n",
       "            }\n",
       "        });\n",
       "        require(['plotly'], function(Plotly) {\n",
       "            window._Plotly = Plotly;\n",
       "        });\n",
       "        }\n",
       "        </script>\n",
       "        "
      ]
     },
     "metadata": {},
     "output_type": "display_data"
    },
    {
     "data": {
      "text/html": [
       "<div>                            <div id=\"1d462966-a2ac-419f-9f86-48837fc1eb38\" class=\"plotly-graph-div\" style=\"height:800px; width:1000px;\"></div>            <script type=\"text/javascript\">                require([\"plotly\"], function(Plotly) {                    window.PLOTLYENV=window.PLOTLYENV || {};                                    if (document.getElementById(\"1d462966-a2ac-419f-9f86-48837fc1eb38\")) {                    Plotly.newPlot(                        \"1d462966-a2ac-419f-9f86-48837fc1eb38\",                        [{\"customdata\":[[224],[224],[224],[224],[224]],\"hovertemplate\":\"<b>%{hovertext}</b><br><br>family=levit<br>secs=%{x}<br>top1=%{y}<br>size=%{marker.size}<br>infer_img_size=%{customdata[0]}<extra></extra>\",\"hovertext\":[\"levit_128s\",\"levit_128\",\"levit_192\",\"levit_256\",\"levit_384\"],\"legendgroup\":\"levit\",\"marker\":{\"color\":\"#636efa\",\"size\":[50176,50176,50176,50176,50176],\"sizemode\":\"area\",\"sizeref\":655.36,\"symbol\":\"circle\"},\"mode\":\"markers\",\"name\":\"levit\",\"orientation\":\"v\",\"showlegend\":true,\"x\":[0.00004654236751715086,0.00006822292249261998,0.00007756230968148262,0.00010599687945186893,0.00017720128293728847],\"xaxis\":\"x\",\"y\":[76.52,78.492,79.832,81.506,82.588],\"yaxis\":\"y\",\"type\":\"scatter\"},{\"customdata\":[[224],[224],[224],[224],[224],[224],[224],[224],[224],[224],[224],[224]],\"hovertemplate\":\"<b>%{hovertext}</b><br><br>family=regnetx<br>secs=%{x}<br>top1=%{y}<br>size=%{marker.size}<br>infer_img_size=%{customdata[0]}<extra></extra>\",\"hovertext\":[\"regnetx_002\",\"regnetx_004\",\"regnetx_008\",\"regnetx_006\",\"regnetx_016\",\"regnetx_032\",\"regnetx_040\",\"regnetx_080\",\"regnetx_064\",\"regnetx_120\",\"regnetx_160\",\"regnetx_320\"],\"legendgroup\":\"regnetx\",\"marker\":{\"color\":\"#EF553B\",\"size\":[50176,50176,50176,50176,50176,50176,50176,50176,50176,50176,50176,50176],\"sizemode\":\"area\",\"sizeref\":655.36,\"symbol\":\"circle\"},\"mode\":\"markers\",\"name\":\"regnetx\",\"orientation\":\"v\",\"showlegend\":true,\"x\":[0.00005611048828469115,0.00006925193368711838,0.00011822399190402103,0.0001259786970023369,0.00026479614668647344,0.0006228278877415016,0.0006304057291272663,0.0007938902208602596,0.0008572212316554657,0.0012854296548621376,0.001604157977477622,0.0038134462113411888],\"xaxis\":\"x\",\"y\":[68.756,72.392,75.034,73.86,76.95,78.172,78.482,79.202,79.066,79.592,79.85,80.24],\"yaxis\":\"y\",\"type\":\"scatter\"},{\"customdata\":[[224],[224],[224],[224],[224],[288],[288],[224],[288],[288],[224],[288]],\"hovertemplate\":\"<b>%{hovertext}</b><br><br>family=regnety<br>secs=%{x}<br>top1=%{y}<br>size=%{marker.size}<br>infer_img_size=%{customdata[0]}<extra></extra>\",\"hovertext\":[\"regnety_002\",\"regnety_006\",\"regnety_004\",\"regnety_008\",\"regnety_016\",\"regnety_032\",\"regnety_040\",\"regnety_120\",\"regnety_080\",\"regnety_064\",\"regnety_320\",\"regnety_160\"],\"legendgroup\":\"regnety\",\"marker\":{\"color\":\"#00cc96\",\"size\":[50176,50176,50176,50176,50176,82944,82944,50176,82944,82944,50176,82944],\"sizemode\":\"area\",\"sizeref\":655.36,\"symbol\":\"circle\"},\"mode\":\"markers\",\"name\":\"regnety\",\"orientation\":\"v\",\"showlegend\":true,\"x\":[0.000059976920880845045,0.00010017450398594352,0.00010468376082691796,0.00012704688411164372,0.00029335406368716726,0.0007311277645768598,0.0011773986554107355,0.0013256445946841651,0.0018643499011894553,0.0021192726656211586,0.002407666008571291,0.0024128362890577875],\"xaxis\":\"x\",\"y\":[70.254,75.25,74.024,76.31,77.86,82.726,83.036,80.376,83.926,83.72,80.81,83.69],\"yaxis\":\"y\",\"type\":\"scatter\"},{\"customdata\":[[224],[224],[224],[224],[224],[384],[224],[384],[224],[384],[384],[224],[224],[224],[224],[384],[384],[384],[224],[384],[384],[224],[384],[384]],\"hovertemplate\":\"<b>%{hovertext}</b><br><br>family=vit<br>secs=%{x}<br>top1=%{y}<br>size=%{marker.size}<br>infer_img_size=%{customdata[0]}<extra></extra>\",\"hovertext\":[\"vit_small_patch32_224\",\"vit_tiny_r_s16_p8_224\",\"vit_tiny_patch16_224\",\"vit_base_patch32_224_sam\",\"vit_base_patch32_224\",\"vit_small_patch32_384\",\"vit_small_patch16_224\",\"vit_tiny_r_s16_p8_384\",\"vit_small_r26_s32_224\",\"vit_tiny_patch16_384\",\"vit_base_patch32_384\",\"vit_base_patch16_224_miil\",\"vit_base_patch16_224_sam\",\"vit_base_patch16_224\",\"vit_large_r50_s32_224\",\"vit_small_patch16_384\",\"vit_small_r26_s32_384\",\"vit_large_patch32_384\",\"vit_large_patch16_224\",\"vit_base_patch16_384\",\"vit_large_r50_s32_384\",\"vit_base_patch8_224\",\"vit_base_r50_s16_384\",\"vit_large_patch16_384\"],\"legendgroup\":\"vit\",\"marker\":{\"color\":\"#ab63fa\",\"size\":[50176,50176,50176,50176,50176,147456,50176,147456,50176,147456,147456,50176,50176,50176,50176,147456,147456,147456,50176,147456,147456,50176,147456,147456],\"sizemode\":\"area\",\"sizeref\":655.36,\"symbol\":\"circle\"},\"mode\":\"markers\",\"name\":\"vit\",\"orientation\":\"v\",\"showlegend\":true,\"x\":[0.0000826542597112556,0.00010105327831992861,0.0001606500543800434,0.0002309404820189741,0.00023169601482854495,0.0002629917946560067,0.0003523347461956656,0.0003702675182819587,0.0005623284898106078,0.0006846126461648,0.0007257578726585237,0.0009018027036045053,0.0009314282520817422,0.0009315670821455853,0.0013855980934170233,0.0014628865677755345,0.0017152952880838436,0.002085723224528105,0.0028202380280895707,0.0036026948157221604,0.004231729507849859,0.005465078150617554,0.005822416302765648,0.010594342621040365],\"xaxis\":\"x\",\"y\":[75.986,71.792,75.462,73.694,80.722,80.484,81.396,75.954,81.856,78.434,83.348,84.272,80.242,84.528,84.424,83.804,84.042,81.506,85.838,86.01,86.182,85.794,84.97,87.08],\"yaxis\":\"y\",\"type\":\"scatter\"},{\"customdata\":[[224],[224],[224],[256],[224],[256],[256],[224],[288],[288],[224]],\"hovertemplate\":\"<b>%{hovertext}</b><br><br>family=resnet<br>secs=%{x}<br>top1=%{y}<br>size=%{marker.size}<br>infer_img_size=%{customdata[0]}<extra></extra>\",\"hovertext\":[\"resnet18\",\"resnet34\",\"resnet26\",\"resnet26t\",\"resnet50\",\"resnet32ts\",\"resnet33ts\",\"resnet101\",\"resnet51q\",\"resnet61q\",\"resnet152\"],\"legendgroup\":\"resnet\",\"marker\":{\"color\":\"#FFA15A\",\"size\":[50176,50176,50176,65536,50176,65536,65536,50176,82944,82944,50176],\"sizemode\":\"area\",\"sizeref\":655.36,\"symbol\":\"circle\"},\"mode\":\"markers\",\"name\":\"resnet\",\"orientation\":\"v\",\"showlegend\":true,\"x\":[0.00009236979323021786,0.00015969338869370808,0.00017561482751111642,0.0002638710409448694,0.00028338807446305045,0.00029286350217890445,0.00029674294938752255,0.00046063207933926936,0.000534896657965681,0.0005959830740806961,0.0006634335339114052],\"xaxis\":\"x\",\"y\":[69.744,75.114,75.3,77.862,80.376,79.012,79.21,81.932,82.362,82.526,82.82],\"yaxis\":\"y\",\"type\":\"scatter\"},{\"customdata\":[[224],[224],[240],[224],[224],[256],[260],[240],[288],[300],[320],[300],[300],[384]],\"hovertemplate\":\"<b>%{hovertext}</b><br><br>family=efficientnet<br>secs=%{x}<br>top1=%{y}<br>size=%{marker.size}<br>infer_img_size=%{customdata[0]}<extra></extra>\",\"hovertext\":[\"efficientnet_lite0\",\"efficientnet_b0\",\"efficientnet_b1_pruned\",\"efficientnet_es\",\"efficientnet_es_pruned\",\"efficientnet_b1\",\"efficientnet_b2_pruned\",\"efficientnet_em\",\"efficientnet_b2\",\"efficientnet_b3_pruned\",\"efficientnet_b3\",\"efficientnet_el\",\"efficientnet_el_pruned\",\"efficientnet_b4\"],\"legendgroup\":\"efficientnet\",\"marker\":{\"color\":\"#19d3f3\",\"size\":[50176,50176,57600,50176,50176,65536,67600,57600,82944,90000,102400,90000,90000,147456],\"sizemode\":\"area\",\"sizeref\":655.36,\"symbol\":\"circle\"},\"mode\":\"markers\",\"name\":\"efficientnet\",\"orientation\":\"v\",\"showlegend\":true,\"x\":[0.00011112172940969915,0.0001301779923689661,0.00016600486062231902,0.00017507769072525934,0.00017510804166170527,0.00024378530315921374,0.0002616848842960284,0.0002911538719097656,0.00032120258246876303,0.00032275451614256713,0.000539647933688062,0.0006642355645005945,0.0006644474123095528,0.0010264938051098862],\"xaxis\":\"x\",\"y\":[75.476,77.69,78.24,78.056,74.996,78.796,79.916,79.25,80.614,80.858,82.24,81.31,80.302,83.424],\"yaxis\":\"y\",\"type\":\"scatter\"},{\"customdata\":[[224],[224],[224],[224],[320],[320],[320]],\"hovertemplate\":\"<b>%{hovertext}</b><br><br>family=resnetd<br>secs=%{x}<br>top1=%{y}<br>size=%{marker.size}<br>infer_img_size=%{customdata[0]}<extra></extra>\",\"hovertext\":[\"resnet18d\",\"resnet34d\",\"resnet26d\",\"resnet50d\",\"resnet101d\",\"resnet152d\",\"resnet200d\"],\"legendgroup\":\"resnetd\",\"marker\":{\"color\":\"#FF6692\",\"size\":[50176,50176,50176,50176,102400,102400,102400],\"sizemode\":\"area\",\"sizeref\":655.36,\"symbol\":\"circle\"},\"mode\":\"markers\",\"name\":\"resnetd\",\"orientation\":\"v\",\"showlegend\":true,\"x\":[0.00011218547400045547,0.00017947263760167124,0.0002044542400742578,0.00031235065734195835,0.0010008807750820723,0.0014054023666975855,0.0019066503965832825],\"xaxis\":\"x\",\"y\":[72.25,77.114,76.704,80.522,83.022,83.678,83.964],\"yaxis\":\"y\",\"type\":\"scatter\"},{\"customdata\":[[256],[256],[256]],\"hovertemplate\":\"<b>%{hovertext}</b><br><br>family=mobilevit<br>secs=%{x}<br>top1=%{y}<br>size=%{marker.size}<br>infer_img_size=%{customdata[0]}<extra></extra>\",\"hovertext\":[\"mobilevit_xxs\",\"mobilevit_xs\",\"mobilevit_s\"],\"legendgroup\":\"mobilevit\",\"marker\":{\"color\":\"#B6E880\",\"size\":[65536,65536,65536],\"sizemode\":\"area\",\"sizeref\":655.36,\"symbol\":\"circle\"},\"mode\":\"markers\",\"name\":\"mobilevit\",\"orientation\":\"v\",\"showlegend\":true,\"x\":[0.00019510063290645313,0.00032276493352656195,0.0004140683875348853],\"xaxis\":\"x\",\"y\":[68.92,74.644,78.312],\"yaxis\":\"y\",\"type\":\"scatter\"},{\"customdata\":[[224],[224],[224],[224],[224],[224],[224],[224]],\"hovertemplate\":\"<b>%{hovertext}</b><br><br>family=repvgg<br>secs=%{x}<br>top1=%{y}<br>size=%{marker.size}<br>infer_img_size=%{customdata[0]}<extra></extra>\",\"hovertext\":[\"repvgg_b0\",\"repvgg_a2\",\"repvgg_b1\",\"repvgg_b1g4\",\"repvgg_b2\",\"repvgg_b3\",\"repvgg_b2g4\",\"repvgg_b3g4\"],\"legendgroup\":\"repvgg\",\"marker\":{\"color\":\"#FF97FF\",\"size\":[50176,50176,50176,50176,50176,50176,50176,50176],\"sizemode\":\"area\",\"sizeref\":655.36,\"symbol\":\"circle\"},\"mode\":\"markers\",\"name\":\"repvgg\",\"orientation\":\"v\",\"showlegend\":true,\"x\":[0.00019805588344807372,0.00025848743492578826,0.0005164995790528431,0.0006192755714365336,0.0008039813154742284,0.0009981932701809725,0.0012302090125112257,0.0015526503741887404],\"xaxis\":\"x\",\"y\":[75.16,76.458,78.368,77.586,78.792,80.496,79.37,80.212],\"yaxis\":\"y\",\"type\":\"scatter\"},{\"customdata\":[[240],[240],[240],[240],[240],[240],[240],[240],[240],[408],[408]],\"hovertemplate\":\"<b>%{hovertext}</b><br><br>family=crossvit<br>secs=%{x}<br>top1=%{y}<br>size=%{marker.size}<br>infer_img_size=%{customdata[0]}<extra></extra>\",\"hovertext\":[\"crossvit_tiny_240\",\"crossvit_9_240\",\"crossvit_9_dagger_240\",\"crossvit_small_240\",\"crossvit_15_240\",\"crossvit_15_dagger_240\",\"crossvit_18_240\",\"crossvit_18_dagger_240\",\"crossvit_base_240\",\"crossvit_15_dagger_408\",\"crossvit_18_dagger_408\"],\"legendgroup\":\"crossvit\",\"marker\":{\"color\":\"#FECB52\",\"size\":[57600,57600,57600,57600,57600,57600,57600,57600,57600,166464,166464],\"sizemode\":\"area\",\"sizeref\":655.36,\"symbol\":\"circle\"},\"mode\":\"markers\",\"name\":\"crossvit\",\"orientation\":\"v\",\"showlegend\":true,\"x\":[0.00025943432938820195,0.0002746551018558445,0.0002807190900209978,0.0005422640609070993,0.0005881107530170082,0.0006054331571522846,0.0008294969101240098,0.0008531185749507324,0.0013383297644539614,0.002823662289990117,0.0038593647485623862],\"xaxis\":\"x\",\"y\":[73.332,73.96,76.982,81.018,81.542,82.33,82.398,82.52,82.216,83.836,84.194],\"yaxis\":\"y\",\"type\":\"scatter\"},{\"customdata\":[[224],[224],[224],[384],[448],[448],[448],[480]],\"hovertemplate\":\"<b>%{hovertext}</b><br><br>family=resnetv2<br>secs=%{x}<br>top1=%{y}<br>size=%{marker.size}<br>infer_img_size=%{customdata[0]}<extra></extra>\",\"hovertext\":[\"resnetv2_50\",\"resnetv2_101\",\"resnetv2_152x2_bit_teacher\",\"resnetv2_152x2_bit_teacher_384\",\"resnetv2_50x3_bitm\",\"resnetv2_152x2_bitm\",\"resnetv2_101x3_bitm\",\"resnetv2_152x4_bitm\"],\"legendgroup\":\"resnetv2\",\"marker\":{\"color\":\"#636efa\",\"size\":[50176,50176,50176,147456,200704,200704,200704,230400],\"sizemode\":\"area\",\"sizeref\":655.36,\"symbol\":\"circle\"},\"mode\":\"markers\",\"name\":\"resnetv2\",\"orientation\":\"v\",\"showlegend\":true,\"x\":[0.00027003891260730673,0.0004473172150030194,0.0035710459593614975,0.010310341272296113,0.01076194575979337,0.014216661927779357,0.017295053614666205,0.05461496450027308],\"xaxis\":\"x\",\"y\":[80.42,82.042,82.872,83.844,84.014,84.506,84.442,84.916],\"yaxis\":\"y\",\"type\":\"scatter\"},{\"customdata\":[[224],[224],[224]],\"hovertemplate\":\"<b>%{hovertext}</b><br><br>family=convit<br>secs=%{x}<br>top1=%{y}<br>size=%{marker.size}<br>infer_img_size=%{customdata[0]}<extra></extra>\",\"hovertext\":[\"convit_tiny\",\"convit_small\",\"convit_base\"],\"legendgroup\":\"convit\",\"marker\":{\"color\":\"#EF553B\",\"size\":[50176,50176,50176],\"sizemode\":\"area\",\"sizeref\":655.36,\"symbol\":\"circle\"},\"mode\":\"markers\",\"name\":\"convit\",\"orientation\":\"v\",\"showlegend\":true,\"x\":[0.0003142578800163414,0.0007307163943530237,0.0014544608313698112],\"xaxis\":\"x\",\"y\":[73.114,81.42,82.286],\"yaxis\":\"y\",\"type\":\"scatter\"},{\"customdata\":[[224],[288],[320],[320],[352],[384],[416]],\"hovertemplate\":\"<b>%{hovertext}</b><br><br>family=resnetrs<br>secs=%{x}<br>top1=%{y}<br>size=%{marker.size}<br>infer_img_size=%{customdata[0]}<extra></extra>\",\"hovertext\":[\"resnetrs50\",\"resnetrs101\",\"resnetrs152\",\"resnetrs200\",\"resnetrs270\",\"resnetrs350\",\"resnetrs420\"],\"legendgroup\":\"resnetrs\",\"marker\":{\"color\":\"#00cc96\",\"size\":[50176,82944,102400,102400,123904,147456,173056],\"sizemode\":\"area\",\"sizeref\":655.36,\"symbol\":\"circle\"},\"mode\":\"markers\",\"name\":\"resnetrs\",\"orientation\":\"v\",\"showlegend\":true,\"x\":[0.000351576645466595,0.0009125586318920991,0.0015921792156925183,0.0021917327839389824,0.0034781398907864076,0.005297171310520182,0.007450454477723141],\"xaxis\":\"x\",\"y\":[79.886,82.288,83.714,84.438,84.436,84.718,85.01],\"yaxis\":\"y\",\"type\":\"scatter\"},{\"customdata\":[[288],[320],[320],[320],[320],[320],[320],[320],[320]],\"hovertemplate\":\"<b>%{hovertext}</b><br><br>family=regnetz<br>secs=%{x}<br>top1=%{y}<br>size=%{marker.size}<br>infer_img_size=%{customdata[0]}<extra></extra>\",\"hovertext\":[\"regnetz_b16\",\"regnetz_c16\",\"regnetz_d8\",\"regnetz_040\",\"regnetz_040h\",\"regnetz_d32\",\"regnetz_e8\",\"regnetz_c16_evos\",\"regnetz_d8_evos\"],\"legendgroup\":\"regnetz\",\"marker\":{\"color\":\"#ab63fa\",\"size\":[82944,102400,102400,102400,102400,102400,102400,102400,102400],\"sizemode\":\"area\",\"sizeref\":655.36,\"symbol\":\"circle\"},\"mode\":\"markers\",\"name\":\"regnetz\",\"orientation\":\"v\",\"showlegend\":true,\"x\":[0.00036824952587873543,0.0005641494319015222,0.0008748829844008363,0.000961917679085024,0.0009669590106075403,0.0009901872444079175,0.0016463344363774057,0.00167117884956048,0.002579646588417387],\"xaxis\":\"x\",\"y\":[80.714,82.516,84.052,84.234,84.496,84.022,85.03,82.632,84.054],\"yaxis\":\"y\",\"type\":\"scatter\"},{\"customdata\":[[224]],\"hovertemplate\":\"<b>%{hovertext}</b><br><br>family=resnetblur<br>secs=%{x}<br>top1=%{y}<br>size=%{marker.size}<br>infer_img_size=%{customdata[0]}<extra></extra>\",\"hovertext\":[\"resnetblur50\"],\"legendgroup\":\"resnetblur\",\"marker\":{\"color\":\"#FFA15A\",\"size\":[50176],\"sizemode\":\"area\",\"sizeref\":655.36,\"symbol\":\"circle\"},\"mode\":\"markers\",\"name\":\"resnetblur\",\"orientation\":\"v\",\"showlegend\":true,\"x\":[0.00038181346121538863],\"xaxis\":\"x\",\"y\":[79.304],\"yaxis\":\"y\",\"type\":\"scatter\"},{\"customdata\":[[224],[224],[224],[224],[224],[224],[224]],\"hovertemplate\":\"<b>%{hovertext}</b><br><br>family=vgg<br>secs=%{x}<br>top1=%{y}<br>size=%{marker.size}<br>infer_img_size=%{customdata[0]}<extra></extra>\",\"hovertext\":[\"vgg11_bn\",\"vgg13\",\"vgg13_bn\",\"vgg16\",\"vgg19\",\"vgg16_bn\",\"vgg19_bn\"],\"legendgroup\":\"vgg\",\"marker\":{\"color\":\"#19d3f3\",\"size\":[50176,50176,50176,50176,50176,50176,50176],\"sizemode\":\"area\",\"sizeref\":655.36,\"symbol\":\"circle\"},\"mode\":\"markers\",\"name\":\"vgg\",\"orientation\":\"v\",\"showlegend\":true,\"x\":[0.0003856239395341663,0.000495051955702751,0.000609002271578473,0.00061273383454961,0.0007314379338341244,0.0007335465508641178,0.0008591212907438273],\"xaxis\":\"x\",\"y\":[70.36,69.926,71.594,71.59,72.366,73.35,74.214],\"yaxis\":\"y\",\"type\":\"scatter\"},{\"customdata\":[[288],[384],[416]],\"hovertemplate\":\"<b>%{hovertext}</b><br><br>family=efficientnetv2<br>secs=%{x}<br>top1=%{y}<br>size=%{marker.size}<br>infer_img_size=%{customdata[0]}<extra></extra>\",\"hovertext\":[\"efficientnetv2_rw_t\",\"efficientnetv2_rw_s\",\"efficientnetv2_rw_m\"],\"legendgroup\":\"efficientnetv2\",\"marker\":{\"color\":\"#FF6692\",\"size\":[82944,147456,173056],\"sizemode\":\"area\",\"sizeref\":655.36,\"symbol\":\"circle\"},\"mode\":\"markers\",\"name\":\"efficientnetv2\",\"orientation\":\"v\",\"showlegend\":true,\"x\":[0.00039287790926091805,0.0009177342975661686,0.0025433643623785545],\"xaxis\":\"x\",\"y\":[82.344,83.81,84.812],\"yaxis\":\"y\",\"type\":\"scatter\"},{\"customdata\":[[224],[224],[224],[224],[224]],\"hovertemplate\":\"<b>%{hovertext}</b><br><br>family=convnext<br>secs=%{x}<br>top1=%{y}<br>size=%{marker.size}<br>infer_img_size=%{customdata[0]}<extra></extra>\",\"hovertext\":[\"convnext_tiny\",\"convnext_tiny_hnf\",\"convnext_small\",\"convnext_base\",\"convnext_large\"],\"legendgroup\":\"convnext\",\"marker\":{\"color\":\"#B6E880\",\"size\":[50176,50176,50176,50176,50176],\"sizemode\":\"area\",\"sizeref\":655.36,\"symbol\":\"circle\"},\"mode\":\"markers\",\"name\":\"convnext\",\"orientation\":\"v\",\"showlegend\":true,\"x\":[0.00043947351073414054,0.00048231356169272765,0.0007089131652263915,0.001017356094980365,0.001837424665588711],\"xaxis\":\"x\",\"y\":[82.064,82.222,83.15,83.838,84.292],\"yaxis\":\"y\",\"type\":\"scatter\"},{\"customdata\":[[224],[224],[224],[224],[224],[224],[224],[384],[384]],\"hovertemplate\":\"<b>%{hovertext}</b><br><br>family=swin<br>secs=%{x}<br>top1=%{y}<br>size=%{marker.size}<br>infer_img_size=%{customdata[0]}<extra></extra>\",\"hovertext\":[\"swin_tiny_patch4_window7_224\",\"swin_s3_tiny_224\",\"swin_small_patch4_window7_224\",\"swin_s3_small_224\",\"swin_base_patch4_window7_224\",\"swin_s3_base_224\",\"swin_large_patch4_window7_224\",\"swin_base_patch4_window12_384\",\"swin_large_patch4_window12_384\"],\"legendgroup\":\"swin\",\"marker\":{\"color\":\"#FF97FF\",\"size\":[50176,50176,50176,50176,50176,50176,50176,147456,147456],\"sizemode\":\"area\",\"sizeref\":655.36,\"symbol\":\"circle\"},\"mode\":\"markers\",\"name\":\"swin\",\"orientation\":\"v\",\"showlegend\":true,\"x\":[0.0005460184335823177,0.000599319173418996,0.0008899409969119047,0.0012179822905374956,0.001254390366281987,0.001502765087761481,0.002185123678000175,0.004700352526439483,0.007950389569088886],\"xaxis\":\"x\",\"y\":[81.374,82.126,83.216,83.768,85.248,83.932,86.314,86.432,87.15],\"yaxis\":\"y\",\"type\":\"scatter\"},{\"customdata\":[[224],[288]],\"hovertemplate\":\"<b>%{hovertext}</b><br><br>family=resnetv2d<br>secs=%{x}<br>top1=%{y}<br>size=%{marker.size}<br>infer_img_size=%{customdata[0]}<extra></extra>\",\"hovertext\":[\"resnetv2_50x1_bit_distilled\",\"resnetv2_50d_evos\"],\"legendgroup\":\"resnetv2d\",\"marker\":{\"color\":\"#FECB52\",\"size\":[50176,82944],\"sizemode\":\"area\",\"sizeref\":655.36,\"symbol\":\"circle\"},\"mode\":\"markers\",\"name\":\"resnetv2d\",\"orientation\":\"v\",\"showlegend\":true,\"x\":[0.0006401843730994526,0.0011976191331632715],\"xaxis\":\"x\",\"y\":[82.822,81.98],\"yaxis\":\"y\",\"type\":\"scatter\"},{\"customdata\":[[224],[224],[384],[384],[512]],\"hovertemplate\":\"<b>%{hovertext}</b><br><br>family=beit<br>secs=%{x}<br>top1=%{y}<br>size=%{marker.size}<br>infer_img_size=%{customdata[0]}<extra></extra>\",\"hovertext\":[\"beit_base_patch16_224\",\"beit_large_patch16_224\",\"beit_base_patch16_384\",\"beit_large_patch16_384\",\"beit_large_patch16_512\"],\"legendgroup\":\"beit\",\"marker\":{\"color\":\"#636efa\",\"size\":[50176,50176,147456,147456,262144],\"sizemode\":\"area\",\"sizeref\":655.36,\"symbol\":\"circle\"},\"mode\":\"markers\",\"name\":\"beit\",\"orientation\":\"v\",\"showlegend\":true,\"x\":[0.0010062791820962809,0.0030446034404018876,0.00418007774944614,0.0121580547112462,0.030184123151222455],\"xaxis\":\"x\",\"y\":[85.228,87.474,86.798,88.404,88.6],\"yaxis\":\"y\",\"type\":\"scatter\"},{\"customdata\":[[224],[224],[224],[384],[384],[384]],\"hovertemplate\":\"<b>%{hovertext}</b><br><br>family=convnext_in22<br>secs=%{x}<br>top1=%{y}<br>size=%{marker.size}<br>infer_img_size=%{customdata[0]}<extra></extra>\",\"hovertext\":[\"convnext_base_in22ft1k\",\"convnext_large_in22ft1k\",\"convnext_xlarge_in22ft1k\",\"convnext_base_384_in22ft1k\",\"convnext_large_384_in22ft1k\",\"convnext_xlarge_384_in22ft1k\"],\"legendgroup\":\"convnext_in22\",\"marker\":{\"color\":\"#EF553B\",\"size\":[50176,50176,50176,147456,147456,147456],\"sizemode\":\"area\",\"sizeref\":655.36,\"symbol\":\"circle\"},\"mode\":\"markers\",\"name\":\"convnext_in22\",\"orientation\":\"v\",\"showlegend\":true,\"x\":[0.001018091485700905,0.0018373571454819387,0.002782415136338342,0.0029778743932580925,0.0053671103477887505,0.008141333550435562],\"xaxis\":\"x\",\"y\":[85.824,86.636,87.002,86.544,87.396,87.546],\"yaxis\":\"y\",\"type\":\"scatter\"},{\"customdata\":[[288],[288]],\"hovertemplate\":\"<b>%{hovertext}</b><br><br>family=regnetv<br>secs=%{x}<br>top1=%{y}<br>size=%{marker.size}<br>infer_img_size=%{customdata[0]}<extra></extra>\",\"hovertext\":[\"regnetv_040\",\"regnetv_064\"],\"legendgroup\":\"regnetv\",\"marker\":{\"color\":\"#00cc96\",\"size\":[82944,82944],\"sizemode\":\"area\",\"sizeref\":655.36,\"symbol\":\"circle\"},\"mode\":\"markers\",\"name\":\"regnetv\",\"orientation\":\"v\",\"showlegend\":true,\"x\":[0.0011776343680813981,0.0021355201059217975],\"xaxis\":\"x\",\"y\":[83.2,83.714],\"yaxis\":\"y\",\"type\":\"scatter\"}],                        {\"template\":{\"data\":{\"histogram2dcontour\":[{\"type\":\"histogram2dcontour\",\"colorbar\":{\"outlinewidth\":0,\"ticks\":\"\"},\"colorscale\":[[0.0,\"#0d0887\"],[0.1111111111111111,\"#46039f\"],[0.2222222222222222,\"#7201a8\"],[0.3333333333333333,\"#9c179e\"],[0.4444444444444444,\"#bd3786\"],[0.5555555555555556,\"#d8576b\"],[0.6666666666666666,\"#ed7953\"],[0.7777777777777778,\"#fb9f3a\"],[0.8888888888888888,\"#fdca26\"],[1.0,\"#f0f921\"]]}],\"choropleth\":[{\"type\":\"choropleth\",\"colorbar\":{\"outlinewidth\":0,\"ticks\":\"\"}}],\"histogram2d\":[{\"type\":\"histogram2d\",\"colorbar\":{\"outlinewidth\":0,\"ticks\":\"\"},\"colorscale\":[[0.0,\"#0d0887\"],[0.1111111111111111,\"#46039f\"],[0.2222222222222222,\"#7201a8\"],[0.3333333333333333,\"#9c179e\"],[0.4444444444444444,\"#bd3786\"],[0.5555555555555556,\"#d8576b\"],[0.6666666666666666,\"#ed7953\"],[0.7777777777777778,\"#fb9f3a\"],[0.8888888888888888,\"#fdca26\"],[1.0,\"#f0f921\"]]}],\"heatmap\":[{\"type\":\"heatmap\",\"colorbar\":{\"outlinewidth\":0,\"ticks\":\"\"},\"colorscale\":[[0.0,\"#0d0887\"],[0.1111111111111111,\"#46039f\"],[0.2222222222222222,\"#7201a8\"],[0.3333333333333333,\"#9c179e\"],[0.4444444444444444,\"#bd3786\"],[0.5555555555555556,\"#d8576b\"],[0.6666666666666666,\"#ed7953\"],[0.7777777777777778,\"#fb9f3a\"],[0.8888888888888888,\"#fdca26\"],[1.0,\"#f0f921\"]]}],\"heatmapgl\":[{\"type\":\"heatmapgl\",\"colorbar\":{\"outlinewidth\":0,\"ticks\":\"\"},\"colorscale\":[[0.0,\"#0d0887\"],[0.1111111111111111,\"#46039f\"],[0.2222222222222222,\"#7201a8\"],[0.3333333333333333,\"#9c179e\"],[0.4444444444444444,\"#bd3786\"],[0.5555555555555556,\"#d8576b\"],[0.6666666666666666,\"#ed7953\"],[0.7777777777777778,\"#fb9f3a\"],[0.8888888888888888,\"#fdca26\"],[1.0,\"#f0f921\"]]}],\"contourcarpet\":[{\"type\":\"contourcarpet\",\"colorbar\":{\"outlinewidth\":0,\"ticks\":\"\"}}],\"contour\":[{\"type\":\"contour\",\"colorbar\":{\"outlinewidth\":0,\"ticks\":\"\"},\"colorscale\":[[0.0,\"#0d0887\"],[0.1111111111111111,\"#46039f\"],[0.2222222222222222,\"#7201a8\"],[0.3333333333333333,\"#9c179e\"],[0.4444444444444444,\"#bd3786\"],[0.5555555555555556,\"#d8576b\"],[0.6666666666666666,\"#ed7953\"],[0.7777777777777778,\"#fb9f3a\"],[0.8888888888888888,\"#fdca26\"],[1.0,\"#f0f921\"]]}],\"surface\":[{\"type\":\"surface\",\"colorbar\":{\"outlinewidth\":0,\"ticks\":\"\"},\"colorscale\":[[0.0,\"#0d0887\"],[0.1111111111111111,\"#46039f\"],[0.2222222222222222,\"#7201a8\"],[0.3333333333333333,\"#9c179e\"],[0.4444444444444444,\"#bd3786\"],[0.5555555555555556,\"#d8576b\"],[0.6666666666666666,\"#ed7953\"],[0.7777777777777778,\"#fb9f3a\"],[0.8888888888888888,\"#fdca26\"],[1.0,\"#f0f921\"]]}],\"mesh3d\":[{\"type\":\"mesh3d\",\"colorbar\":{\"outlinewidth\":0,\"ticks\":\"\"}}],\"scatter\":[{\"fillpattern\":{\"fillmode\":\"overlay\",\"size\":10,\"solidity\":0.2},\"type\":\"scatter\"}],\"parcoords\":[{\"type\":\"parcoords\",\"line\":{\"colorbar\":{\"outlinewidth\":0,\"ticks\":\"\"}}}],\"scatterpolargl\":[{\"type\":\"scatterpolargl\",\"marker\":{\"colorbar\":{\"outlinewidth\":0,\"ticks\":\"\"}}}],\"bar\":[{\"error_x\":{\"color\":\"#2a3f5f\"},\"error_y\":{\"color\":\"#2a3f5f\"},\"marker\":{\"line\":{\"color\":\"#E5ECF6\",\"width\":0.5},\"pattern\":{\"fillmode\":\"overlay\",\"size\":10,\"solidity\":0.2}},\"type\":\"bar\"}],\"scattergeo\":[{\"type\":\"scattergeo\",\"marker\":{\"colorbar\":{\"outlinewidth\":0,\"ticks\":\"\"}}}],\"scatterpolar\":[{\"type\":\"scatterpolar\",\"marker\":{\"colorbar\":{\"outlinewidth\":0,\"ticks\":\"\"}}}],\"histogram\":[{\"marker\":{\"pattern\":{\"fillmode\":\"overlay\",\"size\":10,\"solidity\":0.2}},\"type\":\"histogram\"}],\"scattergl\":[{\"type\":\"scattergl\",\"marker\":{\"colorbar\":{\"outlinewidth\":0,\"ticks\":\"\"}}}],\"scatter3d\":[{\"type\":\"scatter3d\",\"line\":{\"colorbar\":{\"outlinewidth\":0,\"ticks\":\"\"}},\"marker\":{\"colorbar\":{\"outlinewidth\":0,\"ticks\":\"\"}}}],\"scattermapbox\":[{\"type\":\"scattermapbox\",\"marker\":{\"colorbar\":{\"outlinewidth\":0,\"ticks\":\"\"}}}],\"scatterternary\":[{\"type\":\"scatterternary\",\"marker\":{\"colorbar\":{\"outlinewidth\":0,\"ticks\":\"\"}}}],\"scattercarpet\":[{\"type\":\"scattercarpet\",\"marker\":{\"colorbar\":{\"outlinewidth\":0,\"ticks\":\"\"}}}],\"carpet\":[{\"aaxis\":{\"endlinecolor\":\"#2a3f5f\",\"gridcolor\":\"white\",\"linecolor\":\"white\",\"minorgridcolor\":\"white\",\"startlinecolor\":\"#2a3f5f\"},\"baxis\":{\"endlinecolor\":\"#2a3f5f\",\"gridcolor\":\"white\",\"linecolor\":\"white\",\"minorgridcolor\":\"white\",\"startlinecolor\":\"#2a3f5f\"},\"type\":\"carpet\"}],\"table\":[{\"cells\":{\"fill\":{\"color\":\"#EBF0F8\"},\"line\":{\"color\":\"white\"}},\"header\":{\"fill\":{\"color\":\"#C8D4E3\"},\"line\":{\"color\":\"white\"}},\"type\":\"table\"}],\"barpolar\":[{\"marker\":{\"line\":{\"color\":\"#E5ECF6\",\"width\":0.5},\"pattern\":{\"fillmode\":\"overlay\",\"size\":10,\"solidity\":0.2}},\"type\":\"barpolar\"}],\"pie\":[{\"automargin\":true,\"type\":\"pie\"}]},\"layout\":{\"autotypenumbers\":\"strict\",\"colorway\":[\"#636efa\",\"#EF553B\",\"#00cc96\",\"#ab63fa\",\"#FFA15A\",\"#19d3f3\",\"#FF6692\",\"#B6E880\",\"#FF97FF\",\"#FECB52\"],\"font\":{\"color\":\"#2a3f5f\"},\"hovermode\":\"closest\",\"hoverlabel\":{\"align\":\"left\"},\"paper_bgcolor\":\"white\",\"plot_bgcolor\":\"#E5ECF6\",\"polar\":{\"bgcolor\":\"#E5ECF6\",\"angularaxis\":{\"gridcolor\":\"white\",\"linecolor\":\"white\",\"ticks\":\"\"},\"radialaxis\":{\"gridcolor\":\"white\",\"linecolor\":\"white\",\"ticks\":\"\"}},\"ternary\":{\"bgcolor\":\"#E5ECF6\",\"aaxis\":{\"gridcolor\":\"white\",\"linecolor\":\"white\",\"ticks\":\"\"},\"baxis\":{\"gridcolor\":\"white\",\"linecolor\":\"white\",\"ticks\":\"\"},\"caxis\":{\"gridcolor\":\"white\",\"linecolor\":\"white\",\"ticks\":\"\"}},\"coloraxis\":{\"colorbar\":{\"outlinewidth\":0,\"ticks\":\"\"}},\"colorscale\":{\"sequential\":[[0.0,\"#0d0887\"],[0.1111111111111111,\"#46039f\"],[0.2222222222222222,\"#7201a8\"],[0.3333333333333333,\"#9c179e\"],[0.4444444444444444,\"#bd3786\"],[0.5555555555555556,\"#d8576b\"],[0.6666666666666666,\"#ed7953\"],[0.7777777777777778,\"#fb9f3a\"],[0.8888888888888888,\"#fdca26\"],[1.0,\"#f0f921\"]],\"sequentialminus\":[[0.0,\"#0d0887\"],[0.1111111111111111,\"#46039f\"],[0.2222222222222222,\"#7201a8\"],[0.3333333333333333,\"#9c179e\"],[0.4444444444444444,\"#bd3786\"],[0.5555555555555556,\"#d8576b\"],[0.6666666666666666,\"#ed7953\"],[0.7777777777777778,\"#fb9f3a\"],[0.8888888888888888,\"#fdca26\"],[1.0,\"#f0f921\"]],\"diverging\":[[0,\"#8e0152\"],[0.1,\"#c51b7d\"],[0.2,\"#de77ae\"],[0.3,\"#f1b6da\"],[0.4,\"#fde0ef\"],[0.5,\"#f7f7f7\"],[0.6,\"#e6f5d0\"],[0.7,\"#b8e186\"],[0.8,\"#7fbc41\"],[0.9,\"#4d9221\"],[1,\"#276419\"]]},\"xaxis\":{\"gridcolor\":\"white\",\"linecolor\":\"white\",\"ticks\":\"\",\"title\":{\"standoff\":15},\"zerolinecolor\":\"white\",\"automargin\":true,\"zerolinewidth\":2},\"yaxis\":{\"gridcolor\":\"white\",\"linecolor\":\"white\",\"ticks\":\"\",\"title\":{\"standoff\":15},\"zerolinecolor\":\"white\",\"automargin\":true,\"zerolinewidth\":2},\"scene\":{\"xaxis\":{\"backgroundcolor\":\"#E5ECF6\",\"gridcolor\":\"white\",\"linecolor\":\"white\",\"showbackground\":true,\"ticks\":\"\",\"zerolinecolor\":\"white\",\"gridwidth\":2},\"yaxis\":{\"backgroundcolor\":\"#E5ECF6\",\"gridcolor\":\"white\",\"linecolor\":\"white\",\"showbackground\":true,\"ticks\":\"\",\"zerolinecolor\":\"white\",\"gridwidth\":2},\"zaxis\":{\"backgroundcolor\":\"#E5ECF6\",\"gridcolor\":\"white\",\"linecolor\":\"white\",\"showbackground\":true,\"ticks\":\"\",\"zerolinecolor\":\"white\",\"gridwidth\":2}},\"shapedefaults\":{\"line\":{\"color\":\"#2a3f5f\"}},\"annotationdefaults\":{\"arrowcolor\":\"#2a3f5f\",\"arrowhead\":0,\"arrowwidth\":1},\"geo\":{\"bgcolor\":\"white\",\"landcolor\":\"#E5ECF6\",\"subunitcolor\":\"white\",\"showland\":true,\"showlakes\":true,\"lakecolor\":\"white\"},\"title\":{\"x\":0.05},\"mapbox\":{\"style\":\"light\"}}},\"xaxis\":{\"anchor\":\"y\",\"domain\":[0.0,1.0],\"title\":{\"text\":\"secs\"},\"type\":\"log\"},\"yaxis\":{\"anchor\":\"x\",\"domain\":[0.0,1.0],\"title\":{\"text\":\"top1\"}},\"legend\":{\"title\":{\"text\":\"family\"},\"tracegroupgap\":0,\"itemsizing\":\"constant\"},\"title\":{\"text\":\"Inference\"},\"height\":800,\"width\":1000},                        {\"responsive\": true}                    ).then(function(){\n",
       "                            \n",
       "var gd = document.getElementById('1d462966-a2ac-419f-9f86-48837fc1eb38');\n",
       "var x = new MutationObserver(function (mutations, observer) {{\n",
       "        var display = window.getComputedStyle(gd).display;\n",
       "        if (!display || display === 'none') {{\n",
       "            console.log([gd, 'removed!']);\n",
       "            Plotly.purge(gd);\n",
       "            observer.disconnect();\n",
       "        }}\n",
       "}});\n",
       "\n",
       "// Listen for the removal of the full notebook cells\n",
       "var notebookContainer = gd.closest('#notebook-container');\n",
       "if (notebookContainer) {{\n",
       "    x.observe(notebookContainer, {childList: true});\n",
       "}}\n",
       "\n",
       "// Listen for the clearing of the current output cell\n",
       "var outputEl = gd.closest('.output');\n",
       "if (outputEl) {{\n",
       "    x.observe(outputEl, {childList: true});\n",
       "}}\n",
       "\n",
       "                        })                };                });            </script>        </div>"
      ]
     },
     "metadata": {},
     "output_type": "display_data"
    }
   ],
   "source": [
    "show_all(df, 'Inference', 'infer_img_size')"
   ]
  },
  {
   "cell_type": "markdown",
   "id": "4ded1c0a",
   "metadata": {
    "papermill": {
     "duration": 0.032998,
     "end_time": "2022-06-13T09:22:16.284566",
     "exception": false,
     "start_time": "2022-06-13T09:22:16.251568",
     "status": "completed"
    },
    "tags": []
   },
   "source": [
    "That number of families can be a bit overwhelming, so I'll just pick a subset which represents a single key model from each of the families that are looking best in our plot. I've also separated convnext models into those which have been pretrained on the larger 22,000 category imagenet sample (`convnext_in22`) vs those that haven't (`convnext`). (Note that many of the best performing models were trained on the larger sample -- see the papers for details before coming to conclusions about the effectiveness of these architectures more generally.)"
   ]
  },
  {
   "cell_type": "code",
   "execution_count": 7,
   "id": "31b2ede4",
   "metadata": {
    "execution": {
     "iopub.execute_input": "2022-06-13T09:22:16.351815Z",
     "iopub.status.busy": "2022-06-13T09:22:16.350993Z",
     "iopub.status.idle": "2022-06-13T09:22:16.354746Z",
     "shell.execute_reply": "2022-06-13T09:22:16.354096Z"
    },
    "papermill": {
     "duration": 0.03904,
     "end_time": "2022-06-13T09:22:16.356719",
     "exception": false,
     "start_time": "2022-06-13T09:22:16.317679",
     "status": "completed"
    },
    "tags": []
   },
   "outputs": [],
   "source": [
    "subs = 'levit|resnetd?|regnetx|vgg|convnext.*|efficientnetv2|beit|swin'"
   ]
  },
  {
   "cell_type": "markdown",
   "id": "c300fdaf",
   "metadata": {
    "papermill": {
     "duration": 0.048238,
     "end_time": "2022-06-13T09:22:16.437647",
     "exception": false,
     "start_time": "2022-06-13T09:22:16.389409",
     "status": "completed"
    },
    "tags": []
   },
   "source": [
    "In this chart, I'll add lines through the points of each family, to help see how they compare -- but note that we can see that a linear fit isn't actually ideal here! It's just there to help visually see the groups."
   ]
  },
  {
   "cell_type": "code",
   "execution_count": 8,
   "id": "918e0c16",
   "metadata": {
    "execution": {
     "iopub.execute_input": "2022-06-13T09:22:16.523559Z",
     "iopub.status.busy": "2022-06-13T09:22:16.522942Z",
     "iopub.status.idle": "2022-06-13T09:22:16.530775Z",
     "shell.execute_reply": "2022-06-13T09:22:16.529835Z"
    },
    "papermill": {
     "duration": 0.046534,
     "end_time": "2022-06-13T09:22:16.533083",
     "exception": false,
     "start_time": "2022-06-13T09:22:16.486549",
     "status": "completed"
    },
    "tags": []
   },
   "outputs": [],
   "source": [
    "def show_subs(df, title, size):\n",
    "    df_subs = df[df.family.str.fullmatch(subs)]\n",
    "    return px.scatter(df_subs, width=w, height=h, size=df_subs[size]**2, title=title,\n",
    "        trendline=\"ols\", trendline_options={'log_x':True},\n",
    "        x='secs',  y='top1', log_x=True, color='family', hover_name='model', hover_data=[size])"
   ]
  },
  {
   "cell_type": "code",
   "execution_count": 9,
   "id": "c81836c3",
   "metadata": {
    "execution": {
     "iopub.execute_input": "2022-06-13T09:22:16.615028Z",
     "iopub.status.busy": "2022-06-13T09:22:16.614358Z",
     "iopub.status.idle": "2022-06-13T09:22:18.061692Z",
     "shell.execute_reply": "2022-06-13T09:22:18.060643Z"
    },
    "papermill": {
     "duration": 1.496601,
     "end_time": "2022-06-13T09:22:18.063851",
     "exception": false,
     "start_time": "2022-06-13T09:22:16.567250",
     "status": "completed"
    },
    "tags": []
   },
   "outputs": [
    {
     "data": {
      "text/html": [
       "<div>                            <div id=\"103e1706-71b6-4783-9038-94ace5edcc56\" class=\"plotly-graph-div\" style=\"height:800px; width:1000px;\"></div>            <script type=\"text/javascript\">                require([\"plotly\"], function(Plotly) {                    window.PLOTLYENV=window.PLOTLYENV || {};                                    if (document.getElementById(\"103e1706-71b6-4783-9038-94ace5edcc56\")) {                    Plotly.newPlot(                        \"103e1706-71b6-4783-9038-94ace5edcc56\",                        [{\"customdata\":[[224],[224],[224],[224],[224]],\"hovertemplate\":\"<b>%{hovertext}</b><br><br>family=levit<br>secs=%{x}<br>top1=%{y}<br>size=%{marker.size}<br>infer_img_size=%{customdata[0]}<extra></extra>\",\"hovertext\":[\"levit_128s\",\"levit_128\",\"levit_192\",\"levit_256\",\"levit_384\"],\"legendgroup\":\"levit\",\"marker\":{\"color\":\"#636efa\",\"size\":[50176,50176,50176,50176,50176],\"sizemode\":\"area\",\"sizeref\":655.36,\"symbol\":\"circle\"},\"mode\":\"markers\",\"name\":\"levit\",\"orientation\":\"v\",\"showlegend\":true,\"x\":[0.00004654236751715086,0.00006822292249261998,0.00007756230968148262,0.00010599687945186893,0.00017720128293728847],\"xaxis\":\"x\",\"y\":[76.52,78.492,79.832,81.506,82.588],\"yaxis\":\"y\",\"type\":\"scatter\"},{\"hovertemplate\":\"<b>OLS trendline</b><br>top1 = 10.7078 * log10(secs) + 123.336<br>R<sup>2</sup>=0.941088<br><br>family=levit<br>secs=%{x}<br>top1=%{y} <b>(trend)</b><extra></extra>\",\"legendgroup\":\"levit\",\"marker\":{\"color\":\"#636efa\",\"symbol\":\"circle\"},\"mode\":\"lines\",\"name\":\"levit\",\"showlegend\":false,\"x\":[0.00004654236751715086,0.00006822292249261998,0.00007756230968148262,0.00010599687945186893,0.00017720128293728847],\"xaxis\":\"x\",\"y\":[76.94801224388054,78.72637873970933,79.32302020188789,80.77544746659518,83.16514134792676],\"yaxis\":\"y\",\"type\":\"scatter\"},{\"customdata\":[[224],[224],[224],[224],[224],[224],[224],[224],[224],[224],[224],[224]],\"hovertemplate\":\"<b>%{hovertext}</b><br><br>family=regnetx<br>secs=%{x}<br>top1=%{y}<br>size=%{marker.size}<br>infer_img_size=%{customdata[0]}<extra></extra>\",\"hovertext\":[\"regnetx_002\",\"regnetx_004\",\"regnetx_008\",\"regnetx_006\",\"regnetx_016\",\"regnetx_032\",\"regnetx_040\",\"regnetx_080\",\"regnetx_064\",\"regnetx_120\",\"regnetx_160\",\"regnetx_320\"],\"legendgroup\":\"regnetx\",\"marker\":{\"color\":\"#EF553B\",\"size\":[50176,50176,50176,50176,50176,50176,50176,50176,50176,50176,50176,50176],\"sizemode\":\"area\",\"sizeref\":655.36,\"symbol\":\"circle\"},\"mode\":\"markers\",\"name\":\"regnetx\",\"orientation\":\"v\",\"showlegend\":true,\"x\":[0.00005611048828469115,0.00006925193368711838,0.00011822399190402103,0.0001259786970023369,0.00026479614668647344,0.0006228278877415016,0.0006304057291272663,0.0007938902208602596,0.0008572212316554657,0.0012854296548621376,0.001604157977477622,0.0038134462113411888],\"xaxis\":\"x\",\"y\":[68.756,72.392,75.034,73.86,76.95,78.172,78.482,79.202,79.066,79.592,79.85,80.24],\"yaxis\":\"y\",\"type\":\"scatter\"},{\"hovertemplate\":\"<b>OLS trendline</b><br>top1 = 5.72373 * log10(secs) + 96.1135<br>R<sup>2</sup>=0.867405<br><br>family=regnetx<br>secs=%{x}<br>top1=%{y} <b>(trend)</b><extra></extra>\",\"legendgroup\":\"regnetx\",\"marker\":{\"color\":\"#EF553B\",\"symbol\":\"circle\"},\"mode\":\"lines\",\"name\":\"regnetx\",\"showlegend\":false,\"x\":[0.00005611048828469115,0.00006925193368711838,0.00011822399190402103,0.0001259786970023369,0.00026479614668647344,0.0006228278877415016,0.0006304057291272663,0.0007938902208602596,0.0008572212316554657,0.0012854296548621376,0.001604157977477622,0.0038134462113411888],\"xaxis\":\"x\",\"y\":[71.7821937315541,72.3052726977389,73.63474358605505,73.79266970461359,75.63922668956447,77.76534094209023,77.79540252469764,78.36857807707628,78.55936395317616,79.56648426516544,80.11709986698054,82.2696239612879],\"yaxis\":\"y\",\"type\":\"scatter\"},{\"customdata\":[[224],[224],[224],[256],[224],[256],[256],[224],[288],[288],[224]],\"hovertemplate\":\"<b>%{hovertext}</b><br><br>family=resnet<br>secs=%{x}<br>top1=%{y}<br>size=%{marker.size}<br>infer_img_size=%{customdata[0]}<extra></extra>\",\"hovertext\":[\"resnet18\",\"resnet34\",\"resnet26\",\"resnet26t\",\"resnet50\",\"resnet32ts\",\"resnet33ts\",\"resnet101\",\"resnet51q\",\"resnet61q\",\"resnet152\"],\"legendgroup\":\"resnet\",\"marker\":{\"color\":\"#00cc96\",\"size\":[50176,50176,50176,65536,50176,65536,65536,50176,82944,82944,50176],\"sizemode\":\"area\",\"sizeref\":655.36,\"symbol\":\"circle\"},\"mode\":\"markers\",\"name\":\"resnet\",\"orientation\":\"v\",\"showlegend\":true,\"x\":[0.00009236979323021786,0.00015969338869370808,0.00017561482751111642,0.0002638710409448694,0.00028338807446305045,0.00029286350217890445,0.00029674294938752255,0.00046063207933926936,0.000534896657965681,0.0005959830740806961,0.0006634335339114052],\"xaxis\":\"x\",\"y\":[69.744,75.114,75.3,77.862,80.376,79.012,79.21,81.932,82.362,82.526,82.82],\"yaxis\":\"y\",\"type\":\"scatter\"},{\"hovertemplate\":\"<b>OLS trendline</b><br>top1 = 14.912 * log10(secs) + 131.329<br>R<sup>2</sup>=0.949449<br><br>family=resnet<br>secs=%{x}<br>top1=%{y} <b>(trend)</b><extra></extra>\",\"legendgroup\":\"resnet\",\"marker\":{\"color\":\"#00cc96\",\"symbol\":\"circle\"},\"mode\":\"lines\",\"name\":\"resnet\",\"showlegend\":false,\"x\":[0.00009236979323021786,0.00015969338869370808,0.00017561482751111642,0.0002638710409448694,0.00028338807446305045,0.00029286350217890445,0.00029674294938752255,0.00046063207933926936,0.000534896657965681,0.0005959830740806961,0.0006634335339114052],\"xaxis\":\"x\",\"y\":[71.16727672325523,74.71270384735087,75.32818456188556,77.96507817954759,78.4271980555076,78.64019602502249,78.72542033779801,81.57321740068909,82.54123909318815,83.24156594367419,83.935919832081],\"yaxis\":\"y\",\"type\":\"scatter\"},{\"customdata\":[[224],[224],[224],[224],[320],[320],[320]],\"hovertemplate\":\"<b>%{hovertext}</b><br><br>family=resnetd<br>secs=%{x}<br>top1=%{y}<br>size=%{marker.size}<br>infer_img_size=%{customdata[0]}<extra></extra>\",\"hovertext\":[\"resnet18d\",\"resnet34d\",\"resnet26d\",\"resnet50d\",\"resnet101d\",\"resnet152d\",\"resnet200d\"],\"legendgroup\":\"resnetd\",\"marker\":{\"color\":\"#ab63fa\",\"size\":[50176,50176,50176,50176,102400,102400,102400],\"sizemode\":\"area\",\"sizeref\":655.36,\"symbol\":\"circle\"},\"mode\":\"markers\",\"name\":\"resnetd\",\"orientation\":\"v\",\"showlegend\":true,\"x\":[0.00011218547400045547,0.00017947263760167124,0.0002044542400742578,0.00031235065734195835,0.0010008807750820723,0.0014054023666975855,0.0019066503965832825],\"xaxis\":\"x\",\"y\":[72.25,77.114,76.704,80.522,83.022,83.678,83.964],\"yaxis\":\"y\",\"type\":\"scatter\"},{\"hovertemplate\":\"<b>OLS trendline</b><br>top1 = 8.57731 * log10(secs) + 108.357<br>R<sup>2</sup>=0.896780<br><br>family=resnetd<br>secs=%{x}<br>top1=%{y} <b>(trend)</b><extra></extra>\",\"legendgroup\":\"resnetd\",\"marker\":{\"color\":\"#ab63fa\",\"symbol\":\"circle\"},\"mode\":\"lines\",\"name\":\"resnetd\",\"showlegend\":false,\"x\":[0.00011218547400045547,0.00017947263760167124,0.0002044542400742578,0.00031235065734195835,0.0010008807750820723,0.0014054023666975855,0.0019066503965832825],\"xaxis\":\"x\",\"y\":[74.47594560565716,76.22624518989937,76.71170267093481,78.29032470622772,82.62821237517034,83.89266499259233,85.02890445951873],\"yaxis\":\"y\",\"type\":\"scatter\"},{\"customdata\":[[224],[224],[224],[224],[224],[224],[224]],\"hovertemplate\":\"<b>%{hovertext}</b><br><br>family=vgg<br>secs=%{x}<br>top1=%{y}<br>size=%{marker.size}<br>infer_img_size=%{customdata[0]}<extra></extra>\",\"hovertext\":[\"vgg11_bn\",\"vgg13\",\"vgg13_bn\",\"vgg16\",\"vgg19\",\"vgg16_bn\",\"vgg19_bn\"],\"legendgroup\":\"vgg\",\"marker\":{\"color\":\"#FFA15A\",\"size\":[50176,50176,50176,50176,50176,50176,50176],\"sizemode\":\"area\",\"sizeref\":655.36,\"symbol\":\"circle\"},\"mode\":\"markers\",\"name\":\"vgg\",\"orientation\":\"v\",\"showlegend\":true,\"x\":[0.0003856239395341663,0.000495051955702751,0.000609002271578473,0.00061273383454961,0.0007314379338341244,0.0007335465508641178,0.0008591212907438273],\"xaxis\":\"x\",\"y\":[70.36,69.926,71.594,71.59,72.366,73.35,74.214],\"yaxis\":\"y\",\"type\":\"scatter\"},{\"hovertemplate\":\"<b>OLS trendline</b><br>top1 = 11.8906 * log10(secs) + 110.106<br>R<sup>2</sup>=0.826399<br><br>family=vgg<br>secs=%{x}<br>top1=%{y} <b>(trend)</b><extra></extra>\",\"legendgroup\":\"vgg\",\"marker\":{\"color\":\"#FFA15A\",\"symbol\":\"circle\"},\"mode\":\"lines\",\"name\":\"vgg\",\"showlegend\":false,\"x\":[0.0003856239395341663,0.000495051955702751,0.000609002271578473,0.00061273383454961,0.0007314379338341244,0.0007335465508641178,0.0008591212907438273],\"xaxis\":\"x\",\"y\":[69.51370561583569,70.80368323967645,71.87346208984333,71.90500736555195,72.81946453374712,72.83433020743317,73.65034694791166],\"yaxis\":\"y\",\"type\":\"scatter\"},{\"customdata\":[[288],[384],[416]],\"hovertemplate\":\"<b>%{hovertext}</b><br><br>family=efficientnetv2<br>secs=%{x}<br>top1=%{y}<br>size=%{marker.size}<br>infer_img_size=%{customdata[0]}<extra></extra>\",\"hovertext\":[\"efficientnetv2_rw_t\",\"efficientnetv2_rw_s\",\"efficientnetv2_rw_m\"],\"legendgroup\":\"efficientnetv2\",\"marker\":{\"color\":\"#19d3f3\",\"size\":[82944,147456,173056],\"sizemode\":\"area\",\"sizeref\":655.36,\"symbol\":\"circle\"},\"mode\":\"markers\",\"name\":\"efficientnetv2\",\"orientation\":\"v\",\"showlegend\":true,\"x\":[0.00039287790926091805,0.0009177342975661686,0.0025433643623785545],\"xaxis\":\"x\",\"y\":[82.344,83.81,84.812],\"yaxis\":\"y\",\"type\":\"scatter\"},{\"hovertemplate\":\"<b>OLS trendline</b><br>top1 = 3.01672 * log10(secs) + 92.7433<br>R<sup>2</sup>=0.974331<br><br>family=efficientnetv2<br>secs=%{x}<br>top1=%{y} <b>(trend)</b><extra></extra>\",\"legendgroup\":\"efficientnetv2\",\"marker\":{\"color\":\"#19d3f3\",\"symbol\":\"circle\"},\"mode\":\"lines\",\"name\":\"efficientnetv2\",\"showlegend\":false,\"x\":[0.00039287790926091805,0.0009177342975661686,0.0025433643623785545],\"xaxis\":\"x\",\"y\":[82.46914905670994,83.58068737118242,84.91616357210768],\"yaxis\":\"y\",\"type\":\"scatter\"},{\"customdata\":[[224],[224],[224],[224],[224]],\"hovertemplate\":\"<b>%{hovertext}</b><br><br>family=convnext<br>secs=%{x}<br>top1=%{y}<br>size=%{marker.size}<br>infer_img_size=%{customdata[0]}<extra></extra>\",\"hovertext\":[\"convnext_tiny\",\"convnext_tiny_hnf\",\"convnext_small\",\"convnext_base\",\"convnext_large\"],\"legendgroup\":\"convnext\",\"marker\":{\"color\":\"#FF6692\",\"size\":[50176,50176,50176,50176,50176],\"sizemode\":\"area\",\"sizeref\":655.36,\"symbol\":\"circle\"},\"mode\":\"markers\",\"name\":\"convnext\",\"orientation\":\"v\",\"showlegend\":true,\"x\":[0.00043947351073414054,0.00048231356169272765,0.0007089131652263915,0.001017356094980365,0.001837424665588711],\"xaxis\":\"x\",\"y\":[82.064,82.222,83.15,83.838,84.292],\"yaxis\":\"y\",\"type\":\"scatter\"},{\"hovertemplate\":\"<b>OLS trendline</b><br>top1 = 3.73628 * log10(secs) + 94.7341<br>R<sup>2</sup>=0.949158<br><br>family=convnext<br>secs=%{x}<br>top1=%{y} <b>(trend)</b><extra></extra>\",\"legendgroup\":\"convnext\",\"marker\":{\"color\":\"#FF6692\",\"symbol\":\"circle\"},\"mode\":\"lines\",\"name\":\"convnext\",\"showlegend\":false,\"x\":[0.00043947351073414054,0.00048231356169272765,0.0007089131652263915,0.001017356094980365,0.001837424665588711],\"xaxis\":\"x\",\"y\":[82.19117989827632,82.34211357263284,82.96705721586375,83.55320474540885,84.51244456781811],\"yaxis\":\"y\",\"type\":\"scatter\"},{\"customdata\":[[224],[224],[224],[224],[224],[224],[224],[384],[384]],\"hovertemplate\":\"<b>%{hovertext}</b><br><br>family=swin<br>secs=%{x}<br>top1=%{y}<br>size=%{marker.size}<br>infer_img_size=%{customdata[0]}<extra></extra>\",\"hovertext\":[\"swin_tiny_patch4_window7_224\",\"swin_s3_tiny_224\",\"swin_small_patch4_window7_224\",\"swin_s3_small_224\",\"swin_base_patch4_window7_224\",\"swin_s3_base_224\",\"swin_large_patch4_window7_224\",\"swin_base_patch4_window12_384\",\"swin_large_patch4_window12_384\"],\"legendgroup\":\"swin\",\"marker\":{\"color\":\"#B6E880\",\"size\":[50176,50176,50176,50176,50176,50176,50176,147456,147456],\"sizemode\":\"area\",\"sizeref\":655.36,\"symbol\":\"circle\"},\"mode\":\"markers\",\"name\":\"swin\",\"orientation\":\"v\",\"showlegend\":true,\"x\":[0.0005460184335823177,0.000599319173418996,0.0008899409969119047,0.0012179822905374956,0.001254390366281987,0.001502765087761481,0.002185123678000175,0.004700352526439483,0.007950389569088886],\"xaxis\":\"x\",\"y\":[81.374,82.126,83.216,83.768,85.248,83.932,86.314,86.432,87.15],\"yaxis\":\"y\",\"type\":\"scatter\"},{\"hovertemplate\":\"<b>OLS trendline</b><br>top1 = 4.7919 * log10(secs) + 97.8463<br>R<sup>2</sup>=0.858212<br><br>family=swin<br>secs=%{x}<br>top1=%{y} <b>(trend)</b><extra></extra>\",\"legendgroup\":\"swin\",\"marker\":{\"color\":\"#B6E880\",\"symbol\":\"circle\"},\"mode\":\"lines\",\"name\":\"swin\",\"showlegend\":false,\"x\":[0.0005460184335823177,0.000599319173418996,0.0008899409969119047,0.0012179822905374956,0.001254390366281987,0.001502765087761481,0.002185123678000175,0.004700352526439483,0.007950389569088886],\"xaxis\":\"x\",\"y\":[82.21134408877877,82.40518053149323,83.22796405195112,83.88100280563695,83.94229950532501,84.31826411909557,85.0973545551081,86.69140065850245,87.78518968410914],\"yaxis\":\"y\",\"type\":\"scatter\"},{\"customdata\":[[224],[224],[384],[384],[512]],\"hovertemplate\":\"<b>%{hovertext}</b><br><br>family=beit<br>secs=%{x}<br>top1=%{y}<br>size=%{marker.size}<br>infer_img_size=%{customdata[0]}<extra></extra>\",\"hovertext\":[\"beit_base_patch16_224\",\"beit_large_patch16_224\",\"beit_base_patch16_384\",\"beit_large_patch16_384\",\"beit_large_patch16_512\"],\"legendgroup\":\"beit\",\"marker\":{\"color\":\"#FF97FF\",\"size\":[50176,50176,147456,147456,262144],\"sizemode\":\"area\",\"sizeref\":655.36,\"symbol\":\"circle\"},\"mode\":\"markers\",\"name\":\"beit\",\"orientation\":\"v\",\"showlegend\":true,\"x\":[0.0010062791820962809,0.0030446034404018876,0.00418007774944614,0.0121580547112462,0.030184123151222455],\"xaxis\":\"x\",\"y\":[85.228,87.474,86.798,88.404,88.6],\"yaxis\":\"y\",\"type\":\"scatter\"},{\"hovertemplate\":\"<b>OLS trendline</b><br>top1 = 2.23736 * log10(secs) + 92.3697<br>R<sup>2</sup>=0.862485<br><br>family=beit<br>secs=%{x}<br>top1=%{y} <b>(trend)</b><extra></extra>\",\"legendgroup\":\"beit\",\"marker\":{\"color\":\"#FF97FF\",\"symbol\":\"circle\"},\"mode\":\"lines\",\"name\":\"beit\",\"showlegend\":false,\"x\":[0.0010062791820962809,0.0030446034404018876,0.00418007774944614,0.0121580547112462,0.030184123151222455],\"xaxis\":\"x\",\"y\":[85.66373137777062,86.7394811746004,87.0474618083166,88.08488001829744,88.96844562101475],\"yaxis\":\"y\",\"type\":\"scatter\"},{\"customdata\":[[224],[224],[224],[384],[384],[384]],\"hovertemplate\":\"<b>%{hovertext}</b><br><br>family=convnext_in22<br>secs=%{x}<br>top1=%{y}<br>size=%{marker.size}<br>infer_img_size=%{customdata[0]}<extra></extra>\",\"hovertext\":[\"convnext_base_in22ft1k\",\"convnext_large_in22ft1k\",\"convnext_xlarge_in22ft1k\",\"convnext_base_384_in22ft1k\",\"convnext_large_384_in22ft1k\",\"convnext_xlarge_384_in22ft1k\"],\"legendgroup\":\"convnext_in22\",\"marker\":{\"color\":\"#FECB52\",\"size\":[50176,50176,50176,147456,147456,147456],\"sizemode\":\"area\",\"sizeref\":655.36,\"symbol\":\"circle\"},\"mode\":\"markers\",\"name\":\"convnext_in22\",\"orientation\":\"v\",\"showlegend\":true,\"x\":[0.001018091485700905,0.0018373571454819387,0.002782415136338342,0.0029778743932580925,0.0053671103477887505,0.008141333550435562],\"xaxis\":\"x\",\"y\":[85.824,86.636,87.002,86.544,87.396,87.546],\"yaxis\":\"y\",\"type\":\"scatter\"},{\"hovertemplate\":\"<b>OLS trendline</b><br>top1 = 1.85599 * log10(secs) + 91.517<br>R<sup>2</sup>=0.895468<br><br>family=convnext_in22<br>secs=%{x}<br>top1=%{y} <b>(trend)</b><extra></extra>\",\"legendgroup\":\"convnext_in22\",\"marker\":{\"color\":\"#FECB52\",\"symbol\":\"circle\"},\"mode\":\"lines\",\"name\":\"convnext_in22\",\"showlegend\":false,\"x\":[0.001018091485700905,0.0018373571454819387,0.002782415136338342,0.0029778743932580925,0.0053671103477887505,0.008141333550435562],\"xaxis\":\"x\",\"y\":[85.96348153012349,86.43936904609258,86.77387041976223,86.82859315715254,87.30341788327846,87.63926796359017],\"yaxis\":\"y\",\"type\":\"scatter\"}],                        {\"template\":{\"data\":{\"histogram2dcontour\":[{\"type\":\"histogram2dcontour\",\"colorbar\":{\"outlinewidth\":0,\"ticks\":\"\"},\"colorscale\":[[0.0,\"#0d0887\"],[0.1111111111111111,\"#46039f\"],[0.2222222222222222,\"#7201a8\"],[0.3333333333333333,\"#9c179e\"],[0.4444444444444444,\"#bd3786\"],[0.5555555555555556,\"#d8576b\"],[0.6666666666666666,\"#ed7953\"],[0.7777777777777778,\"#fb9f3a\"],[0.8888888888888888,\"#fdca26\"],[1.0,\"#f0f921\"]]}],\"choropleth\":[{\"type\":\"choropleth\",\"colorbar\":{\"outlinewidth\":0,\"ticks\":\"\"}}],\"histogram2d\":[{\"type\":\"histogram2d\",\"colorbar\":{\"outlinewidth\":0,\"ticks\":\"\"},\"colorscale\":[[0.0,\"#0d0887\"],[0.1111111111111111,\"#46039f\"],[0.2222222222222222,\"#7201a8\"],[0.3333333333333333,\"#9c179e\"],[0.4444444444444444,\"#bd3786\"],[0.5555555555555556,\"#d8576b\"],[0.6666666666666666,\"#ed7953\"],[0.7777777777777778,\"#fb9f3a\"],[0.8888888888888888,\"#fdca26\"],[1.0,\"#f0f921\"]]}],\"heatmap\":[{\"type\":\"heatmap\",\"colorbar\":{\"outlinewidth\":0,\"ticks\":\"\"},\"colorscale\":[[0.0,\"#0d0887\"],[0.1111111111111111,\"#46039f\"],[0.2222222222222222,\"#7201a8\"],[0.3333333333333333,\"#9c179e\"],[0.4444444444444444,\"#bd3786\"],[0.5555555555555556,\"#d8576b\"],[0.6666666666666666,\"#ed7953\"],[0.7777777777777778,\"#fb9f3a\"],[0.8888888888888888,\"#fdca26\"],[1.0,\"#f0f921\"]]}],\"heatmapgl\":[{\"type\":\"heatmapgl\",\"colorbar\":{\"outlinewidth\":0,\"ticks\":\"\"},\"colorscale\":[[0.0,\"#0d0887\"],[0.1111111111111111,\"#46039f\"],[0.2222222222222222,\"#7201a8\"],[0.3333333333333333,\"#9c179e\"],[0.4444444444444444,\"#bd3786\"],[0.5555555555555556,\"#d8576b\"],[0.6666666666666666,\"#ed7953\"],[0.7777777777777778,\"#fb9f3a\"],[0.8888888888888888,\"#fdca26\"],[1.0,\"#f0f921\"]]}],\"contourcarpet\":[{\"type\":\"contourcarpet\",\"colorbar\":{\"outlinewidth\":0,\"ticks\":\"\"}}],\"contour\":[{\"type\":\"contour\",\"colorbar\":{\"outlinewidth\":0,\"ticks\":\"\"},\"colorscale\":[[0.0,\"#0d0887\"],[0.1111111111111111,\"#46039f\"],[0.2222222222222222,\"#7201a8\"],[0.3333333333333333,\"#9c179e\"],[0.4444444444444444,\"#bd3786\"],[0.5555555555555556,\"#d8576b\"],[0.6666666666666666,\"#ed7953\"],[0.7777777777777778,\"#fb9f3a\"],[0.8888888888888888,\"#fdca26\"],[1.0,\"#f0f921\"]]}],\"surface\":[{\"type\":\"surface\",\"colorbar\":{\"outlinewidth\":0,\"ticks\":\"\"},\"colorscale\":[[0.0,\"#0d0887\"],[0.1111111111111111,\"#46039f\"],[0.2222222222222222,\"#7201a8\"],[0.3333333333333333,\"#9c179e\"],[0.4444444444444444,\"#bd3786\"],[0.5555555555555556,\"#d8576b\"],[0.6666666666666666,\"#ed7953\"],[0.7777777777777778,\"#fb9f3a\"],[0.8888888888888888,\"#fdca26\"],[1.0,\"#f0f921\"]]}],\"mesh3d\":[{\"type\":\"mesh3d\",\"colorbar\":{\"outlinewidth\":0,\"ticks\":\"\"}}],\"scatter\":[{\"fillpattern\":{\"fillmode\":\"overlay\",\"size\":10,\"solidity\":0.2},\"type\":\"scatter\"}],\"parcoords\":[{\"type\":\"parcoords\",\"line\":{\"colorbar\":{\"outlinewidth\":0,\"ticks\":\"\"}}}],\"scatterpolargl\":[{\"type\":\"scatterpolargl\",\"marker\":{\"colorbar\":{\"outlinewidth\":0,\"ticks\":\"\"}}}],\"bar\":[{\"error_x\":{\"color\":\"#2a3f5f\"},\"error_y\":{\"color\":\"#2a3f5f\"},\"marker\":{\"line\":{\"color\":\"#E5ECF6\",\"width\":0.5},\"pattern\":{\"fillmode\":\"overlay\",\"size\":10,\"solidity\":0.2}},\"type\":\"bar\"}],\"scattergeo\":[{\"type\":\"scattergeo\",\"marker\":{\"colorbar\":{\"outlinewidth\":0,\"ticks\":\"\"}}}],\"scatterpolar\":[{\"type\":\"scatterpolar\",\"marker\":{\"colorbar\":{\"outlinewidth\":0,\"ticks\":\"\"}}}],\"histogram\":[{\"marker\":{\"pattern\":{\"fillmode\":\"overlay\",\"size\":10,\"solidity\":0.2}},\"type\":\"histogram\"}],\"scattergl\":[{\"type\":\"scattergl\",\"marker\":{\"colorbar\":{\"outlinewidth\":0,\"ticks\":\"\"}}}],\"scatter3d\":[{\"type\":\"scatter3d\",\"line\":{\"colorbar\":{\"outlinewidth\":0,\"ticks\":\"\"}},\"marker\":{\"colorbar\":{\"outlinewidth\":0,\"ticks\":\"\"}}}],\"scattermapbox\":[{\"type\":\"scattermapbox\",\"marker\":{\"colorbar\":{\"outlinewidth\":0,\"ticks\":\"\"}}}],\"scatterternary\":[{\"type\":\"scatterternary\",\"marker\":{\"colorbar\":{\"outlinewidth\":0,\"ticks\":\"\"}}}],\"scattercarpet\":[{\"type\":\"scattercarpet\",\"marker\":{\"colorbar\":{\"outlinewidth\":0,\"ticks\":\"\"}}}],\"carpet\":[{\"aaxis\":{\"endlinecolor\":\"#2a3f5f\",\"gridcolor\":\"white\",\"linecolor\":\"white\",\"minorgridcolor\":\"white\",\"startlinecolor\":\"#2a3f5f\"},\"baxis\":{\"endlinecolor\":\"#2a3f5f\",\"gridcolor\":\"white\",\"linecolor\":\"white\",\"minorgridcolor\":\"white\",\"startlinecolor\":\"#2a3f5f\"},\"type\":\"carpet\"}],\"table\":[{\"cells\":{\"fill\":{\"color\":\"#EBF0F8\"},\"line\":{\"color\":\"white\"}},\"header\":{\"fill\":{\"color\":\"#C8D4E3\"},\"line\":{\"color\":\"white\"}},\"type\":\"table\"}],\"barpolar\":[{\"marker\":{\"line\":{\"color\":\"#E5ECF6\",\"width\":0.5},\"pattern\":{\"fillmode\":\"overlay\",\"size\":10,\"solidity\":0.2}},\"type\":\"barpolar\"}],\"pie\":[{\"automargin\":true,\"type\":\"pie\"}]},\"layout\":{\"autotypenumbers\":\"strict\",\"colorway\":[\"#636efa\",\"#EF553B\",\"#00cc96\",\"#ab63fa\",\"#FFA15A\",\"#19d3f3\",\"#FF6692\",\"#B6E880\",\"#FF97FF\",\"#FECB52\"],\"font\":{\"color\":\"#2a3f5f\"},\"hovermode\":\"closest\",\"hoverlabel\":{\"align\":\"left\"},\"paper_bgcolor\":\"white\",\"plot_bgcolor\":\"#E5ECF6\",\"polar\":{\"bgcolor\":\"#E5ECF6\",\"angularaxis\":{\"gridcolor\":\"white\",\"linecolor\":\"white\",\"ticks\":\"\"},\"radialaxis\":{\"gridcolor\":\"white\",\"linecolor\":\"white\",\"ticks\":\"\"}},\"ternary\":{\"bgcolor\":\"#E5ECF6\",\"aaxis\":{\"gridcolor\":\"white\",\"linecolor\":\"white\",\"ticks\":\"\"},\"baxis\":{\"gridcolor\":\"white\",\"linecolor\":\"white\",\"ticks\":\"\"},\"caxis\":{\"gridcolor\":\"white\",\"linecolor\":\"white\",\"ticks\":\"\"}},\"coloraxis\":{\"colorbar\":{\"outlinewidth\":0,\"ticks\":\"\"}},\"colorscale\":{\"sequential\":[[0.0,\"#0d0887\"],[0.1111111111111111,\"#46039f\"],[0.2222222222222222,\"#7201a8\"],[0.3333333333333333,\"#9c179e\"],[0.4444444444444444,\"#bd3786\"],[0.5555555555555556,\"#d8576b\"],[0.6666666666666666,\"#ed7953\"],[0.7777777777777778,\"#fb9f3a\"],[0.8888888888888888,\"#fdca26\"],[1.0,\"#f0f921\"]],\"sequentialminus\":[[0.0,\"#0d0887\"],[0.1111111111111111,\"#46039f\"],[0.2222222222222222,\"#7201a8\"],[0.3333333333333333,\"#9c179e\"],[0.4444444444444444,\"#bd3786\"],[0.5555555555555556,\"#d8576b\"],[0.6666666666666666,\"#ed7953\"],[0.7777777777777778,\"#fb9f3a\"],[0.8888888888888888,\"#fdca26\"],[1.0,\"#f0f921\"]],\"diverging\":[[0,\"#8e0152\"],[0.1,\"#c51b7d\"],[0.2,\"#de77ae\"],[0.3,\"#f1b6da\"],[0.4,\"#fde0ef\"],[0.5,\"#f7f7f7\"],[0.6,\"#e6f5d0\"],[0.7,\"#b8e186\"],[0.8,\"#7fbc41\"],[0.9,\"#4d9221\"],[1,\"#276419\"]]},\"xaxis\":{\"gridcolor\":\"white\",\"linecolor\":\"white\",\"ticks\":\"\",\"title\":{\"standoff\":15},\"zerolinecolor\":\"white\",\"automargin\":true,\"zerolinewidth\":2},\"yaxis\":{\"gridcolor\":\"white\",\"linecolor\":\"white\",\"ticks\":\"\",\"title\":{\"standoff\":15},\"zerolinecolor\":\"white\",\"automargin\":true,\"zerolinewidth\":2},\"scene\":{\"xaxis\":{\"backgroundcolor\":\"#E5ECF6\",\"gridcolor\":\"white\",\"linecolor\":\"white\",\"showbackground\":true,\"ticks\":\"\",\"zerolinecolor\":\"white\",\"gridwidth\":2},\"yaxis\":{\"backgroundcolor\":\"#E5ECF6\",\"gridcolor\":\"white\",\"linecolor\":\"white\",\"showbackground\":true,\"ticks\":\"\",\"zerolinecolor\":\"white\",\"gridwidth\":2},\"zaxis\":{\"backgroundcolor\":\"#E5ECF6\",\"gridcolor\":\"white\",\"linecolor\":\"white\",\"showbackground\":true,\"ticks\":\"\",\"zerolinecolor\":\"white\",\"gridwidth\":2}},\"shapedefaults\":{\"line\":{\"color\":\"#2a3f5f\"}},\"annotationdefaults\":{\"arrowcolor\":\"#2a3f5f\",\"arrowhead\":0,\"arrowwidth\":1},\"geo\":{\"bgcolor\":\"white\",\"landcolor\":\"#E5ECF6\",\"subunitcolor\":\"white\",\"showland\":true,\"showlakes\":true,\"lakecolor\":\"white\"},\"title\":{\"x\":0.05},\"mapbox\":{\"style\":\"light\"}}},\"xaxis\":{\"anchor\":\"y\",\"domain\":[0.0,1.0],\"title\":{\"text\":\"secs\"},\"type\":\"log\"},\"yaxis\":{\"anchor\":\"x\",\"domain\":[0.0,1.0],\"title\":{\"text\":\"top1\"}},\"legend\":{\"title\":{\"text\":\"family\"},\"tracegroupgap\":0,\"itemsizing\":\"constant\"},\"title\":{\"text\":\"Inference\"},\"height\":800,\"width\":1000},                        {\"responsive\": true}                    ).then(function(){\n",
       "                            \n",
       "var gd = document.getElementById('103e1706-71b6-4783-9038-94ace5edcc56');\n",
       "var x = new MutationObserver(function (mutations, observer) {{\n",
       "        var display = window.getComputedStyle(gd).display;\n",
       "        if (!display || display === 'none') {{\n",
       "            console.log([gd, 'removed!']);\n",
       "            Plotly.purge(gd);\n",
       "            observer.disconnect();\n",
       "        }}\n",
       "}});\n",
       "\n",
       "// Listen for the removal of the full notebook cells\n",
       "var notebookContainer = gd.closest('#notebook-container');\n",
       "if (notebookContainer) {{\n",
       "    x.observe(notebookContainer, {childList: true});\n",
       "}}\n",
       "\n",
       "// Listen for the clearing of the current output cell\n",
       "var outputEl = gd.closest('.output');\n",
       "if (outputEl) {{\n",
       "    x.observe(outputEl, {childList: true});\n",
       "}}\n",
       "\n",
       "                        })                };                });            </script>        </div>"
      ]
     },
     "metadata": {},
     "output_type": "display_data"
    }
   ],
   "source": [
    "show_subs(df, 'Inference', 'infer_img_size')"
   ]
  },
  {
   "cell_type": "markdown",
   "id": "d16dfd42",
   "metadata": {
    "papermill": {
     "duration": 0.033088,
     "end_time": "2022-06-13T09:22:18.130807",
     "exception": false,
     "start_time": "2022-06-13T09:22:18.097719",
     "status": "completed"
    },
    "tags": []
   },
   "source": [
    "From this, we can see that the *levit* family models are extremely fast for image recognition, and clearly the most accurate amongst the faster models. That's not surprising, since these models are a hybrid of the best ideas from CNNs and transformers, so get the benefit of each. In fact, we see a similar thing even in the middle category of speeds -- the best is the ConvNeXt, which is a pure CNN, but which takes advantage of ideas from the transformers literature.\n",
    "\n",
    "For the slowest models, *beit* is the most accurate -- although we need to be a bit careful of interpreting this, since it's trained on a larger dataset (ImageNet-21k, which is also used for *vit* models).\n",
    "\n",
    "I'll add one other plot here, which is of speed vs parameter count. Often, parameter count is used in papers as a proxy for speed. However, as we see, there is a wide variation in speeds at each level of parameter count, so it's really not a useful proxy.\n",
    "\n",
    "(Parameter count may be be useful for identifying how much memory a model needs, but even for that it's not always a great proxy.)"
   ]
  },
  {
   "cell_type": "code",
   "execution_count": 10,
   "id": "fcff346d",
   "metadata": {
    "execution": {
     "iopub.execute_input": "2022-06-13T09:22:18.199299Z",
     "iopub.status.busy": "2022-06-13T09:22:18.198974Z",
     "iopub.status.idle": "2022-06-13T09:22:18.298702Z",
     "shell.execute_reply": "2022-06-13T09:22:18.298073Z"
    },
    "papermill": {
     "duration": 0.136292,
     "end_time": "2022-06-13T09:22:18.300657",
     "exception": false,
     "start_time": "2022-06-13T09:22:18.164365",
     "status": "completed"
    },
    "tags": []
   },
   "outputs": [
    {
     "data": {
      "text/html": [
       "<div>                            <div id=\"01abfc27-a620-430f-a780-d920831168af\" class=\"plotly-graph-div\" style=\"height:800px; width:1000px;\"></div>            <script type=\"text/javascript\">                require([\"plotly\"], function(Plotly) {                    window.PLOTLYENV=window.PLOTLYENV || {};                                    if (document.getElementById(\"01abfc27-a620-430f-a780-d920831168af\")) {                    Plotly.newPlot(                        \"01abfc27-a620-430f-a780-d920831168af\",                        [{\"customdata\":[[21485.8,\"levit\"],[17821.98,\"regnetx\"],[16673.08,\"regnety\"],[14657.83,\"levit\"],[14440.03,\"regnetx\"],[12892.86,\"levit\"],[12098.59,\"vit\"],[10826.05,\"resnet\"],[9982.58,\"regnety\"],[9895.77,\"vit\"],[9552.58,\"regnety\"],[9434.24,\"levit\"],[8999.14,\"efficientnet\"],[8913.81,\"resnetd\"],[8458.52,\"regnetx\"],[7937.85,\"regnetx\"],[7871.11,\"regnety\"],[7681.79,\"efficientnet\"],[6262.0,\"resnet\"],[6224.71,\"vit\"],[6023.92,\"efficientnet\"],[5711.75,\"efficientnet\"],[5710.76,\"efficientnet\"],[5694.28,\"resnet\"],[5643.3,\"levit\"],[5571.88,\"resnetd\"],[5125.56,\"mobilevit\"],[5049.08,\"repvgg\"],[4891.07,\"resnetd\"],[4330.12,\"vit\"],[4316.0,\"vit\"],[4101.97,\"efficientnet\"],[3868.66,\"repvgg\"],[3854.54,\"crossvit\"],[3821.39,\"efficientnet\"],[3802.4,\"vit\"],[3789.73,\"resnet\"],[3776.49,\"regnetx\"],[3703.17,\"resnetv2\"],[3640.93,\"crossvit\"],[3562.28,\"crossvit\"],[3528.73,\"resnet\"],[3434.61,\"efficientnet\"],[3414.56,\"resnet\"],[3408.85,\"regnety\"],[3369.92,\"resnet\"],[3201.53,\"resnetd\"],[3182.1,\"convit\"],[3113.3,\"efficientnet\"],[3098.33,\"efficientnet\"],[3098.23,\"mobilevit\"],[2844.33,\"resnetrs\"],[2838.21,\"vit\"],[2715.55,\"regnetz\"],[2700.75,\"vit\"],[2619.08,\"resnetblur\"],[2593.2,\"vgg\"],[2545.32,\"efficientnetv2\"],[2415.06,\"mobilevit\"],[2275.45,\"convnext\"],[2235.55,\"resnetv2\"],[2170.93,\"resnet\"],[2073.34,\"convnext\"],[2019.99,\"vgg\"],[1936.11,\"repvgg\"],[1869.52,\"resnet\"],[1853.06,\"efficientnet\"],[1844.12,\"crossvit\"],[1831.44,\"swin\"],[1778.32,\"vit\"],[1772.58,\"regnetz\"],[1700.36,\"crossvit\"],[1677.9,\"resnet\"],[1668.56,\"swin\"],[1651.71,\"crossvit\"],[1642.03,\"vgg\"],[1632.03,\"vgg\"],[1614.79,\"repvgg\"],[1605.58,\"regnetx\"],[1586.28,\"regnetx\"],[1562.05,\"resnetv2d\"],[1507.31,\"resnet\"],[1505.49,\"efficientnet\"],[1505.01,\"efficientnet\"],[1460.68,\"vit\"],[1410.61,\"convnext\"],[1377.87,\"vit\"],[1368.52,\"convit\"],[1367.75,\"regnety\"],[1367.17,\"vgg\"],[1363.24,\"vgg\"],[1259.62,\"regnetx\"],[1243.81,\"repvgg\"],[1205.55,\"crossvit\"],[1172.17,\"crossvit\"],[1166.56,\"regnetx\"],[1163.98,\"vgg\"],[1143.01,\"regnetz\"],[1123.67,\"swin\"],[1108.89,\"vit\"],[1095.82,\"resnetrs\"],[1089.64,\"efficientnetv2\"],[1073.62,\"vit\"],[1073.46,\"vit\"],[1039.59,\"regnetz\"],[1034.17,\"regnetz\"],[1009.91,\"regnetz\"],[1001.81,\"repvgg\"],[999.12,\"resnetd\"],[993.76,\"beit\"],[982.94,\"convnext\"],[982.23,\"convnext_in22\"],[974.19,\"efficientnet\"],[849.33,\"regnety\"],[849.16,\"regnetv\"],[834.99,\"resnetv2d\"],[821.03,\"swin\"],[812.87,\"repvgg\"],[797.2,\"swin\"],[777.95,\"regnetx\"],[754.35,\"regnety\"],[747.2,\"crossvit\"],[721.71,\"vit\"],[711.54,\"resnetd\"],[687.54,\"convit\"],[683.58,\"vit\"],[665.44,\"swin\"],[644.06,\"repvgg\"],[628.07,\"resnetrs\"],[623.38,\"regnetx\"],[607.41,\"regnetz\"],[598.38,\"regnetz\"],[582.99,\"vit\"],[544.26,\"convnext_in22\"],[544.24,\"convnext\"],[536.38,\"regnety\"],[524.48,\"resnetd\"],[479.45,\"vit\"],[471.86,\"regnety\"],[468.27,\"regnetv\"],[457.64,\"swin\"],[456.26,\"resnetrs\"],[415.34,\"regnety\"],[414.45,\"regnety\"],[393.18,\"efficientnetv2\"],[387.65,\"regnetz\"],[359.4,\"convnext_in22\"],[354.58,\"vit\"],[354.15,\"crossvit\"],[335.81,\"convnext_in22\"],[328.45,\"beit\"],[287.51,\"resnetrs\"],[280.03,\"resnetv2\"],[277.57,\"vit\"],[262.23,\"regnetx\"],[259.11,\"crossvit\"],[239.23,\"beit\"],[236.31,\"vit\"],[212.75,\"swin\"],[188.78,\"resnetrs\"],[186.32,\"convnext_in22\"],[182.98,\"vit\"],[171.75,\"vit\"],[134.22,\"resnetrs\"],[125.78,\"swin\"],[122.83,\"convnext_in22\"],[96.99,\"resnetv2\"],[94.39,\"vit\"],[92.92,\"resnetv2\"],[82.25,\"beit\"],[70.34,\"resnetv2\"],[57.82,\"resnetv2\"],[33.13,\"beit\"],[18.31,\"resnetv2\"]],\"hovertemplate\":\"<b>%{hovertext}</b><br><br>param_count_x=%{x}<br>secs=%{y}<br>infer_samples_per_sec=%{customdata[0]}<br>family=%{customdata[1]}<br>infer_img_size=%{marker.color}<extra></extra>\",\"hovertext\":[\"levit_128s\",\"regnetx_002\",\"regnety_002\",\"levit_128\",\"regnetx_004\",\"levit_192\",\"vit_small_patch32_224\",\"resnet18\",\"regnety_006\",\"vit_tiny_r_s16_p8_224\",\"regnety_004\",\"levit_256\",\"efficientnet_lite0\",\"resnet18d\",\"regnetx_008\",\"regnetx_006\",\"regnety_008\",\"efficientnet_b0\",\"resnet34\",\"vit_tiny_patch16_224\",\"efficientnet_b1_pruned\",\"efficientnet_es\",\"efficientnet_es_pruned\",\"resnet26\",\"levit_384\",\"resnet34d\",\"mobilevit_xxs\",\"repvgg_b0\",\"resnet26d\",\"vit_base_patch32_224_sam\",\"vit_base_patch32_224\",\"efficientnet_b1\",\"repvgg_a2\",\"crossvit_tiny_240\",\"efficientnet_b2_pruned\",\"vit_small_patch32_384\",\"resnet26t\",\"regnetx_016\",\"resnetv2_50\",\"crossvit_9_240\",\"crossvit_9_dagger_240\",\"resnet50\",\"efficientnet_em\",\"resnet32ts\",\"regnety_016\",\"resnet33ts\",\"resnet50d\",\"convit_tiny\",\"efficientnet_b2\",\"efficientnet_b3_pruned\",\"mobilevit_xs\",\"resnetrs50\",\"vit_small_patch16_224\",\"regnetz_b16\",\"vit_tiny_r_s16_p8_384\",\"resnetblur50\",\"vgg11_bn\",\"efficientnetv2_rw_t\",\"mobilevit_s\",\"convnext_tiny\",\"resnetv2_101\",\"resnet101\",\"convnext_tiny_hnf\",\"vgg13\",\"repvgg_b1\",\"resnet51q\",\"efficientnet_b3\",\"crossvit_small_240\",\"swin_tiny_patch4_window7_224\",\"vit_small_r26_s32_224\",\"regnetz_c16\",\"crossvit_15_240\",\"resnet61q\",\"swin_s3_tiny_224\",\"crossvit_15_dagger_240\",\"vgg13_bn\",\"vgg16\",\"repvgg_b1g4\",\"regnetx_032\",\"regnetx_040\",\"resnetv2_50x1_bit_distilled\",\"resnet152\",\"efficientnet_el\",\"efficientnet_el_pruned\",\"vit_tiny_patch16_384\",\"convnext_small\",\"vit_base_patch32_384\",\"convit_small\",\"regnety_032\",\"vgg19\",\"vgg16_bn\",\"regnetx_080\",\"repvgg_b2\",\"crossvit_18_240\",\"crossvit_18_dagger_240\",\"regnetx_064\",\"vgg19_bn\",\"regnetz_d8\",\"swin_small_patch4_window7_224\",\"vit_base_patch16_224_miil\",\"resnetrs101\",\"efficientnetv2_rw_s\",\"vit_base_patch16_224_sam\",\"vit_base_patch16_224\",\"regnetz_040\",\"regnetz_040h\",\"regnetz_d32\",\"repvgg_b3\",\"resnet101d\",\"beit_base_patch16_224\",\"convnext_base\",\"convnext_base_in22ft1k\",\"efficientnet_b4\",\"regnety_040\",\"regnetv_040\",\"resnetv2_50d_evos\",\"swin_s3_small_224\",\"repvgg_b2g4\",\"swin_base_patch4_window7_224\",\"regnetx_120\",\"regnety_120\",\"crossvit_base_240\",\"vit_large_r50_s32_224\",\"resnet152d\",\"convit_base\",\"vit_small_patch16_384\",\"swin_s3_base_224\",\"repvgg_b3g4\",\"resnetrs152\",\"regnetx_160\",\"regnetz_e8\",\"regnetz_c16_evos\",\"vit_small_r26_s32_384\",\"convnext_large_in22ft1k\",\"convnext_large\",\"regnety_080\",\"resnet200d\",\"vit_large_patch32_384\",\"regnety_064\",\"regnetv_064\",\"swin_large_patch4_window7_224\",\"resnetrs200\",\"regnety_320\",\"regnety_160\",\"efficientnetv2_rw_m\",\"regnetz_d8_evos\",\"convnext_xlarge_in22ft1k\",\"vit_large_patch16_224\",\"crossvit_15_dagger_408\",\"convnext_base_384_in22ft1k\",\"beit_large_patch16_224\",\"resnetrs270\",\"resnetv2_152x2_bit_teacher\",\"vit_base_patch16_384\",\"regnetx_320\",\"crossvit_18_dagger_408\",\"beit_base_patch16_384\",\"vit_large_r50_s32_384\",\"swin_base_patch4_window12_384\",\"resnetrs350\",\"convnext_large_384_in22ft1k\",\"vit_base_patch8_224\",\"vit_base_r50_s16_384\",\"resnetrs420\",\"swin_large_patch4_window12_384\",\"convnext_xlarge_384_in22ft1k\",\"resnetv2_152x2_bit_teacher_384\",\"vit_large_patch16_384\",\"resnetv2_50x3_bitm\",\"beit_large_patch16_384\",\"resnetv2_152x2_bitm\",\"resnetv2_101x3_bitm\",\"beit_large_patch16_512\",\"resnetv2_152x4_bitm\"],\"legendgroup\":\"\",\"marker\":{\"color\":[224,224,224,224,224,224,224,224,224,224,224,224,224,224,224,224,224,224,224,224,240,224,224,224,224,224,256,224,224,224,224,256,224,240,260,384,256,224,224,240,240,224,240,256,224,256,224,224,288,300,256,224,224,288,384,224,224,288,256,224,224,224,224,224,224,288,320,240,224,224,320,240,288,224,240,224,224,224,224,224,224,224,300,300,384,224,384,224,288,224,224,224,224,240,240,224,224,320,224,224,288,384,224,224,320,320,320,224,320,224,224,224,384,288,288,288,224,224,224,224,224,240,224,320,224,384,224,224,320,224,320,320,384,224,224,288,320,384,288,288,224,320,224,288,416,320,224,224,408,384,224,352,224,384,224,408,384,384,384,384,384,224,384,416,384,384,384,384,448,384,448,448,512,480],\"coloraxis\":\"coloraxis\",\"symbol\":\"circle\"},\"mode\":\"markers\",\"name\":\"\",\"orientation\":\"v\",\"showlegend\":false,\"x\":[7.78,2.68,3.16,9.21,5.16,10.95,22.88,11.69,6.06,6.34,4.34,18.89,4.65,11.71,7.26,6.2,6.26,5.29,21.8,5.72,6.33,5.44,5.44,16.0,39.13,21.82,1.27,15.82,16.01,88.22,88.22,7.79,28.21,7.01,8.31,22.92,16.01,9.19,25.55,8.55,8.78,25.56,6.9,17.96,11.2,19.68,25.58,5.71,9.11,9.86,2.32,35.69,22.05,9.72,6.36,25.56,132.87,13.65,5.58,28.59,44.54,44.55,28.59,133.05,57.42,35.7,12.23,26.86,28.29,36.43,13.46,27.53,36.85,28.33,28.21,133.05,138.36,39.97,15.3,22.12,25.55,60.19,10.59,10.59,5.79,50.22,88.3,27.78,19.44,143.67,138.37,39.57,89.02,43.27,44.27,26.21,143.68,23.37,49.61,86.54,63.62,23.94,86.57,86.57,27.12,28.94,27.58,123.09,44.57,86.53,88.59,88.59,19.34,20.65,20.64,25.59,49.74,61.76,87.77,46.11,51.82,105.03,328.99,60.21,86.54,22.2,71.13,83.83,86.62,54.28,57.7,13.49,36.47,197.77,197.77,39.18,64.69,306.63,30.58,30.58,196.53,93.21,145.05,83.59,53.24,23.46,350.2,304.33,28.5,88.59,304.43,129.86,236.34,86.86,107.81,44.61,86.74,329.09,87.9,163.96,197.77,86.58,98.95,191.89,196.74,350.2,236.34,304.72,217.32,305.0,236.34,387.93,305.67,936.53],\"xaxis\":\"x\",\"y\":[0.00004654236751715086,0.00005611048828469115,0.000059976920880845045,0.00006822292249261998,0.00006925193368711838,0.00007756230968148262,0.0000826542597112556,0.00009236979323021786,0.00010017450398594352,0.00010105327831992861,0.00010468376082691796,0.00010599687945186893,0.00011112172940969915,0.00011218547400045547,0.00011822399190402103,0.0001259786970023369,0.00012704688411164372,0.0001301779923689661,0.00015969338869370808,0.0001606500543800434,0.00016600486062231902,0.00017507769072525934,0.00017510804166170527,0.00017561482751111642,0.00017720128293728847,0.00017947263760167124,0.00019510063290645313,0.00019805588344807372,0.0002044542400742578,0.0002309404820189741,0.00023169601482854495,0.00024378530315921374,0.00025848743492578826,0.00025943432938820195,0.0002616848842960284,0.0002629917946560067,0.0002638710409448694,0.00026479614668647344,0.00027003891260730673,0.0002746551018558445,0.0002807190900209978,0.00028338807446305045,0.0002911538719097656,0.00029286350217890445,0.00029335406368716726,0.00029674294938752255,0.00031235065734195835,0.0003142578800163414,0.00032120258246876303,0.00032275451614256713,0.00032276493352656195,0.000351576645466595,0.0003523347461956656,0.00036824952587873543,0.0003702675182819587,0.00038181346121538863,0.0003856239395341663,0.00039287790926091805,0.0004140683875348853,0.00043947351073414054,0.0004473172150030194,0.00046063207933926936,0.00048231356169272765,0.000495051955702751,0.0005164995790528431,0.000534896657965681,0.000539647933688062,0.0005422640609070993,0.0005460184335823177,0.0005623284898106078,0.0005641494319015222,0.0005881107530170082,0.0005959830740806961,0.000599319173418996,0.0006054331571522846,0.000609002271578473,0.00061273383454961,0.0006192755714365336,0.0006228278877415016,0.0006304057291272663,0.0006401843730994526,0.0006634335339114052,0.0006642355645005945,0.0006644474123095528,0.0006846126461648,0.0007089131652263915,0.0007257578726585237,0.0007307163943530237,0.0007311277645768598,0.0007314379338341244,0.0007335465508641178,0.0007938902208602596,0.0008039813154742284,0.0008294969101240098,0.0008531185749507324,0.0008572212316554657,0.0008591212907438273,0.0008748829844008363,0.0008899409969119047,0.0009018027036045053,0.0009125586318920991,0.0009177342975661686,0.0009314282520817422,0.0009315670821455853,0.000961917679085024,0.0009669590106075403,0.0009901872444079175,0.0009981932701809725,0.0010008807750820723,0.0010062791820962809,0.001017356094980365,0.001018091485700905,0.0010264938051098862,0.0011773986554107355,0.0011776343680813981,0.0011976191331632715,0.0012179822905374956,0.0012302090125112257,0.001254390366281987,0.0012854296548621376,0.0013256445946841651,0.0013383297644539614,0.0013855980934170233,0.0014054023666975855,0.0014544608313698112,0.0014628865677755345,0.001502765087761481,0.0015526503741887404,0.0015921792156925183,0.001604157977477622,0.0016463344363774057,0.00167117884956048,0.0017152952880838436,0.0018373571454819387,0.001837424665588711,0.0018643499011894553,0.0019066503965832825,0.002085723224528105,0.0021192726656211586,0.0021355201059217975,0.002185123678000175,0.0021917327839389824,0.002407666008571291,0.0024128362890577875,0.0025433643623785545,0.002579646588417387,0.002782415136338342,0.0028202380280895707,0.002823662289990117,0.0029778743932580925,0.0030446034404018876,0.0034781398907864076,0.0035710459593614975,0.0036026948157221604,0.0038134462113411888,0.0038593647485623862,0.00418007774944614,0.004231729507849859,0.004700352526439483,0.005297171310520182,0.0053671103477887505,0.005465078150617554,0.005822416302765648,0.007450454477723141,0.007950389569088886,0.008141333550435562,0.010310341272296113,0.010594342621040365,0.01076194575979337,0.0121580547112462,0.014216661927779357,0.017295053614666205,0.030184123151222455,0.05461496450027308],\"yaxis\":\"y\",\"type\":\"scatter\"}],                        {\"template\":{\"data\":{\"histogram2dcontour\":[{\"type\":\"histogram2dcontour\",\"colorbar\":{\"outlinewidth\":0,\"ticks\":\"\"},\"colorscale\":[[0.0,\"#0d0887\"],[0.1111111111111111,\"#46039f\"],[0.2222222222222222,\"#7201a8\"],[0.3333333333333333,\"#9c179e\"],[0.4444444444444444,\"#bd3786\"],[0.5555555555555556,\"#d8576b\"],[0.6666666666666666,\"#ed7953\"],[0.7777777777777778,\"#fb9f3a\"],[0.8888888888888888,\"#fdca26\"],[1.0,\"#f0f921\"]]}],\"choropleth\":[{\"type\":\"choropleth\",\"colorbar\":{\"outlinewidth\":0,\"ticks\":\"\"}}],\"histogram2d\":[{\"type\":\"histogram2d\",\"colorbar\":{\"outlinewidth\":0,\"ticks\":\"\"},\"colorscale\":[[0.0,\"#0d0887\"],[0.1111111111111111,\"#46039f\"],[0.2222222222222222,\"#7201a8\"],[0.3333333333333333,\"#9c179e\"],[0.4444444444444444,\"#bd3786\"],[0.5555555555555556,\"#d8576b\"],[0.6666666666666666,\"#ed7953\"],[0.7777777777777778,\"#fb9f3a\"],[0.8888888888888888,\"#fdca26\"],[1.0,\"#f0f921\"]]}],\"heatmap\":[{\"type\":\"heatmap\",\"colorbar\":{\"outlinewidth\":0,\"ticks\":\"\"},\"colorscale\":[[0.0,\"#0d0887\"],[0.1111111111111111,\"#46039f\"],[0.2222222222222222,\"#7201a8\"],[0.3333333333333333,\"#9c179e\"],[0.4444444444444444,\"#bd3786\"],[0.5555555555555556,\"#d8576b\"],[0.6666666666666666,\"#ed7953\"],[0.7777777777777778,\"#fb9f3a\"],[0.8888888888888888,\"#fdca26\"],[1.0,\"#f0f921\"]]}],\"heatmapgl\":[{\"type\":\"heatmapgl\",\"colorbar\":{\"outlinewidth\":0,\"ticks\":\"\"},\"colorscale\":[[0.0,\"#0d0887\"],[0.1111111111111111,\"#46039f\"],[0.2222222222222222,\"#7201a8\"],[0.3333333333333333,\"#9c179e\"],[0.4444444444444444,\"#bd3786\"],[0.5555555555555556,\"#d8576b\"],[0.6666666666666666,\"#ed7953\"],[0.7777777777777778,\"#fb9f3a\"],[0.8888888888888888,\"#fdca26\"],[1.0,\"#f0f921\"]]}],\"contourcarpet\":[{\"type\":\"contourcarpet\",\"colorbar\":{\"outlinewidth\":0,\"ticks\":\"\"}}],\"contour\":[{\"type\":\"contour\",\"colorbar\":{\"outlinewidth\":0,\"ticks\":\"\"},\"colorscale\":[[0.0,\"#0d0887\"],[0.1111111111111111,\"#46039f\"],[0.2222222222222222,\"#7201a8\"],[0.3333333333333333,\"#9c179e\"],[0.4444444444444444,\"#bd3786\"],[0.5555555555555556,\"#d8576b\"],[0.6666666666666666,\"#ed7953\"],[0.7777777777777778,\"#fb9f3a\"],[0.8888888888888888,\"#fdca26\"],[1.0,\"#f0f921\"]]}],\"surface\":[{\"type\":\"surface\",\"colorbar\":{\"outlinewidth\":0,\"ticks\":\"\"},\"colorscale\":[[0.0,\"#0d0887\"],[0.1111111111111111,\"#46039f\"],[0.2222222222222222,\"#7201a8\"],[0.3333333333333333,\"#9c179e\"],[0.4444444444444444,\"#bd3786\"],[0.5555555555555556,\"#d8576b\"],[0.6666666666666666,\"#ed7953\"],[0.7777777777777778,\"#fb9f3a\"],[0.8888888888888888,\"#fdca26\"],[1.0,\"#f0f921\"]]}],\"mesh3d\":[{\"type\":\"mesh3d\",\"colorbar\":{\"outlinewidth\":0,\"ticks\":\"\"}}],\"scatter\":[{\"fillpattern\":{\"fillmode\":\"overlay\",\"size\":10,\"solidity\":0.2},\"type\":\"scatter\"}],\"parcoords\":[{\"type\":\"parcoords\",\"line\":{\"colorbar\":{\"outlinewidth\":0,\"ticks\":\"\"}}}],\"scatterpolargl\":[{\"type\":\"scatterpolargl\",\"marker\":{\"colorbar\":{\"outlinewidth\":0,\"ticks\":\"\"}}}],\"bar\":[{\"error_x\":{\"color\":\"#2a3f5f\"},\"error_y\":{\"color\":\"#2a3f5f\"},\"marker\":{\"line\":{\"color\":\"#E5ECF6\",\"width\":0.5},\"pattern\":{\"fillmode\":\"overlay\",\"size\":10,\"solidity\":0.2}},\"type\":\"bar\"}],\"scattergeo\":[{\"type\":\"scattergeo\",\"marker\":{\"colorbar\":{\"outlinewidth\":0,\"ticks\":\"\"}}}],\"scatterpolar\":[{\"type\":\"scatterpolar\",\"marker\":{\"colorbar\":{\"outlinewidth\":0,\"ticks\":\"\"}}}],\"histogram\":[{\"marker\":{\"pattern\":{\"fillmode\":\"overlay\",\"size\":10,\"solidity\":0.2}},\"type\":\"histogram\"}],\"scattergl\":[{\"type\":\"scattergl\",\"marker\":{\"colorbar\":{\"outlinewidth\":0,\"ticks\":\"\"}}}],\"scatter3d\":[{\"type\":\"scatter3d\",\"line\":{\"colorbar\":{\"outlinewidth\":0,\"ticks\":\"\"}},\"marker\":{\"colorbar\":{\"outlinewidth\":0,\"ticks\":\"\"}}}],\"scattermapbox\":[{\"type\":\"scattermapbox\",\"marker\":{\"colorbar\":{\"outlinewidth\":0,\"ticks\":\"\"}}}],\"scatterternary\":[{\"type\":\"scatterternary\",\"marker\":{\"colorbar\":{\"outlinewidth\":0,\"ticks\":\"\"}}}],\"scattercarpet\":[{\"type\":\"scattercarpet\",\"marker\":{\"colorbar\":{\"outlinewidth\":0,\"ticks\":\"\"}}}],\"carpet\":[{\"aaxis\":{\"endlinecolor\":\"#2a3f5f\",\"gridcolor\":\"white\",\"linecolor\":\"white\",\"minorgridcolor\":\"white\",\"startlinecolor\":\"#2a3f5f\"},\"baxis\":{\"endlinecolor\":\"#2a3f5f\",\"gridcolor\":\"white\",\"linecolor\":\"white\",\"minorgridcolor\":\"white\",\"startlinecolor\":\"#2a3f5f\"},\"type\":\"carpet\"}],\"table\":[{\"cells\":{\"fill\":{\"color\":\"#EBF0F8\"},\"line\":{\"color\":\"white\"}},\"header\":{\"fill\":{\"color\":\"#C8D4E3\"},\"line\":{\"color\":\"white\"}},\"type\":\"table\"}],\"barpolar\":[{\"marker\":{\"line\":{\"color\":\"#E5ECF6\",\"width\":0.5},\"pattern\":{\"fillmode\":\"overlay\",\"size\":10,\"solidity\":0.2}},\"type\":\"barpolar\"}],\"pie\":[{\"automargin\":true,\"type\":\"pie\"}]},\"layout\":{\"autotypenumbers\":\"strict\",\"colorway\":[\"#636efa\",\"#EF553B\",\"#00cc96\",\"#ab63fa\",\"#FFA15A\",\"#19d3f3\",\"#FF6692\",\"#B6E880\",\"#FF97FF\",\"#FECB52\"],\"font\":{\"color\":\"#2a3f5f\"},\"hovermode\":\"closest\",\"hoverlabel\":{\"align\":\"left\"},\"paper_bgcolor\":\"white\",\"plot_bgcolor\":\"#E5ECF6\",\"polar\":{\"bgcolor\":\"#E5ECF6\",\"angularaxis\":{\"gridcolor\":\"white\",\"linecolor\":\"white\",\"ticks\":\"\"},\"radialaxis\":{\"gridcolor\":\"white\",\"linecolor\":\"white\",\"ticks\":\"\"}},\"ternary\":{\"bgcolor\":\"#E5ECF6\",\"aaxis\":{\"gridcolor\":\"white\",\"linecolor\":\"white\",\"ticks\":\"\"},\"baxis\":{\"gridcolor\":\"white\",\"linecolor\":\"white\",\"ticks\":\"\"},\"caxis\":{\"gridcolor\":\"white\",\"linecolor\":\"white\",\"ticks\":\"\"}},\"coloraxis\":{\"colorbar\":{\"outlinewidth\":0,\"ticks\":\"\"}},\"colorscale\":{\"sequential\":[[0.0,\"#0d0887\"],[0.1111111111111111,\"#46039f\"],[0.2222222222222222,\"#7201a8\"],[0.3333333333333333,\"#9c179e\"],[0.4444444444444444,\"#bd3786\"],[0.5555555555555556,\"#d8576b\"],[0.6666666666666666,\"#ed7953\"],[0.7777777777777778,\"#fb9f3a\"],[0.8888888888888888,\"#fdca26\"],[1.0,\"#f0f921\"]],\"sequentialminus\":[[0.0,\"#0d0887\"],[0.1111111111111111,\"#46039f\"],[0.2222222222222222,\"#7201a8\"],[0.3333333333333333,\"#9c179e\"],[0.4444444444444444,\"#bd3786\"],[0.5555555555555556,\"#d8576b\"],[0.6666666666666666,\"#ed7953\"],[0.7777777777777778,\"#fb9f3a\"],[0.8888888888888888,\"#fdca26\"],[1.0,\"#f0f921\"]],\"diverging\":[[0,\"#8e0152\"],[0.1,\"#c51b7d\"],[0.2,\"#de77ae\"],[0.3,\"#f1b6da\"],[0.4,\"#fde0ef\"],[0.5,\"#f7f7f7\"],[0.6,\"#e6f5d0\"],[0.7,\"#b8e186\"],[0.8,\"#7fbc41\"],[0.9,\"#4d9221\"],[1,\"#276419\"]]},\"xaxis\":{\"gridcolor\":\"white\",\"linecolor\":\"white\",\"ticks\":\"\",\"title\":{\"standoff\":15},\"zerolinecolor\":\"white\",\"automargin\":true,\"zerolinewidth\":2},\"yaxis\":{\"gridcolor\":\"white\",\"linecolor\":\"white\",\"ticks\":\"\",\"title\":{\"standoff\":15},\"zerolinecolor\":\"white\",\"automargin\":true,\"zerolinewidth\":2},\"scene\":{\"xaxis\":{\"backgroundcolor\":\"#E5ECF6\",\"gridcolor\":\"white\",\"linecolor\":\"white\",\"showbackground\":true,\"ticks\":\"\",\"zerolinecolor\":\"white\",\"gridwidth\":2},\"yaxis\":{\"backgroundcolor\":\"#E5ECF6\",\"gridcolor\":\"white\",\"linecolor\":\"white\",\"showbackground\":true,\"ticks\":\"\",\"zerolinecolor\":\"white\",\"gridwidth\":2},\"zaxis\":{\"backgroundcolor\":\"#E5ECF6\",\"gridcolor\":\"white\",\"linecolor\":\"white\",\"showbackground\":true,\"ticks\":\"\",\"zerolinecolor\":\"white\",\"gridwidth\":2}},\"shapedefaults\":{\"line\":{\"color\":\"#2a3f5f\"}},\"annotationdefaults\":{\"arrowcolor\":\"#2a3f5f\",\"arrowhead\":0,\"arrowwidth\":1},\"geo\":{\"bgcolor\":\"white\",\"landcolor\":\"#E5ECF6\",\"subunitcolor\":\"white\",\"showland\":true,\"showlakes\":true,\"lakecolor\":\"white\"},\"title\":{\"x\":0.05},\"mapbox\":{\"style\":\"light\"}}},\"xaxis\":{\"anchor\":\"y\",\"domain\":[0.0,1.0],\"title\":{\"text\":\"param_count_x\"},\"type\":\"log\"},\"yaxis\":{\"anchor\":\"x\",\"domain\":[0.0,1.0],\"title\":{\"text\":\"secs\"},\"type\":\"log\"},\"coloraxis\":{\"colorbar\":{\"title\":{\"text\":\"infer_img_size\"}},\"colorscale\":[[0.0,\"#0d0887\"],[0.1111111111111111,\"#46039f\"],[0.2222222222222222,\"#7201a8\"],[0.3333333333333333,\"#9c179e\"],[0.4444444444444444,\"#bd3786\"],[0.5555555555555556,\"#d8576b\"],[0.6666666666666666,\"#ed7953\"],[0.7777777777777778,\"#fb9f3a\"],[0.8888888888888888,\"#fdca26\"],[1.0,\"#f0f921\"]]},\"legend\":{\"tracegroupgap\":0},\"margin\":{\"t\":60},\"height\":800,\"width\":1000},                        {\"responsive\": true}                    ).then(function(){\n",
       "                            \n",
       "var gd = document.getElementById('01abfc27-a620-430f-a780-d920831168af');\n",
       "var x = new MutationObserver(function (mutations, observer) {{\n",
       "        var display = window.getComputedStyle(gd).display;\n",
       "        if (!display || display === 'none') {{\n",
       "            console.log([gd, 'removed!']);\n",
       "            Plotly.purge(gd);\n",
       "            observer.disconnect();\n",
       "        }}\n",
       "}});\n",
       "\n",
       "// Listen for the removal of the full notebook cells\n",
       "var notebookContainer = gd.closest('#notebook-container');\n",
       "if (notebookContainer) {{\n",
       "    x.observe(notebookContainer, {childList: true});\n",
       "}}\n",
       "\n",
       "// Listen for the clearing of the current output cell\n",
       "var outputEl = gd.closest('.output');\n",
       "if (outputEl) {{\n",
       "    x.observe(outputEl, {childList: true});\n",
       "}}\n",
       "\n",
       "                        })                };                });            </script>        </div>"
      ]
     },
     "metadata": {},
     "output_type": "display_data"
    }
   ],
   "source": [
    "px.scatter(df, width=w, height=h,\n",
    "    x='param_count_x',  y='secs', log_x=True, log_y=True, color='infer_img_size',\n",
    "    hover_name='model', hover_data=['infer_samples_per_sec', 'family']\n",
    ")"
   ]
  },
  {
   "cell_type": "markdown",
   "id": "3c56279c",
   "metadata": {
    "papermill": {
     "duration": 0.034959,
     "end_time": "2022-06-13T09:22:18.370413",
     "exception": false,
     "start_time": "2022-06-13T09:22:18.335454",
     "status": "completed"
    },
    "tags": []
   },
   "source": [
    "## Training results"
   ]
  },
  {
   "cell_type": "markdown",
   "id": "ad5f9a95",
   "metadata": {
    "papermill": {
     "duration": 0.034194,
     "end_time": "2022-06-13T09:22:18.439542",
     "exception": false,
     "start_time": "2022-06-13T09:22:18.405348",
     "status": "completed"
    },
    "tags": []
   },
   "source": [
    "We'll now replicate the above analysis for training performance. First we grab the data:"
   ]
  },
  {
   "cell_type": "code",
   "execution_count": 11,
   "id": "e0063d27",
   "metadata": {
    "execution": {
     "iopub.execute_input": "2022-06-13T09:22:18.510241Z",
     "iopub.status.busy": "2022-06-13T09:22:18.509795Z",
     "iopub.status.idle": "2022-06-13T09:22:18.532429Z",
     "shell.execute_reply": "2022-06-13T09:22:18.531583Z"
    },
    "papermill": {
     "duration": 0.060874,
     "end_time": "2022-06-13T09:22:18.534697",
     "exception": false,
     "start_time": "2022-06-13T09:22:18.473823",
     "status": "completed"
    },
    "tags": []
   },
   "outputs": [],
   "source": [
    "tdf = get_data('train', 'train_samples_per_sec')"
   ]
  },
  {
   "cell_type": "markdown",
   "id": "4c24f331",
   "metadata": {
    "papermill": {
     "duration": 0.034385,
     "end_time": "2022-06-13T09:22:18.603519",
     "exception": false,
     "start_time": "2022-06-13T09:22:18.569134",
     "status": "completed"
    },
    "tags": []
   },
   "source": [
    "Now we can repeat the same *family* plot we did above:"
   ]
  },
  {
   "cell_type": "code",
   "execution_count": 12,
   "id": "5bb324a3",
   "metadata": {
    "execution": {
     "iopub.execute_input": "2022-06-13T09:22:18.674881Z",
     "iopub.status.busy": "2022-06-13T09:22:18.674338Z",
     "iopub.status.idle": "2022-06-13T09:22:18.887001Z",
     "shell.execute_reply": "2022-06-13T09:22:18.886030Z"
    },
    "papermill": {
     "duration": 0.251115,
     "end_time": "2022-06-13T09:22:18.889218",
     "exception": false,
     "start_time": "2022-06-13T09:22:18.638103",
     "status": "completed"
    },
    "tags": []
   },
   "outputs": [
    {
     "data": {
      "text/html": [
       "<div>                            <div id=\"368b8d2f-8e40-413b-aafb-6be20537eed0\" class=\"plotly-graph-div\" style=\"height:800px; width:1000px;\"></div>            <script type=\"text/javascript\">                require([\"plotly\"], function(Plotly) {                    window.PLOTLYENV=window.PLOTLYENV || {};                                    if (document.getElementById(\"368b8d2f-8e40-413b-aafb-6be20537eed0\")) {                    Plotly.newPlot(                        \"368b8d2f-8e40-413b-aafb-6be20537eed0\",                        [{\"customdata\":[[224],[224],[224],[224],[224]],\"hovertemplate\":\"<b>%{hovertext}</b><br><br>family=levit<br>secs=%{x}<br>top1=%{y}<br>size=%{marker.size}<br>train_img_size=%{customdata[0]}<extra></extra>\",\"hovertext\":[\"levit_128s\",\"levit_128\",\"levit_192\",\"levit_256\",\"levit_384\"],\"legendgroup\":\"levit\",\"marker\":{\"color\":\"#636efa\",\"size\":[50176,50176,50176,50176,50176],\"sizemode\":\"area\",\"sizeref\":655.36,\"symbol\":\"circle\"},\"mode\":\"markers\",\"name\":\"levit\",\"orientation\":\"v\",\"showlegend\":true,\"x\":[0.00015865108501477042,0.00022550151537018326,0.00026151037934695625,0.000342053415061296,0.0005556697765651828],\"xaxis\":\"x\",\"y\":[76.52,78.492,79.832,81.506,82.588],\"yaxis\":\"y\",\"type\":\"scatter\"},{\"customdata\":[[224],[224],[224],[224],[224],[384],[384],[224],[224],[384],[384],[224],[224],[224],[384],[224],[384],[384],[224],[384],[384],[224],[384],[384]],\"hovertemplate\":\"<b>%{hovertext}</b><br><br>family=vit<br>secs=%{x}<br>top1=%{y}<br>size=%{marker.size}<br>train_img_size=%{customdata[0]}<extra></extra>\",\"hovertext\":[\"vit_small_patch32_224\",\"vit_tiny_r_s16_p8_224\",\"vit_tiny_patch16_224\",\"vit_base_patch32_224_sam\",\"vit_base_patch32_224\",\"vit_small_patch32_384\",\"vit_tiny_r_s16_p8_384\",\"vit_small_patch16_224\",\"vit_small_r26_s32_224\",\"vit_base_patch32_384\",\"vit_tiny_patch16_384\",\"vit_base_patch16_224_miil\",\"vit_base_patch16_224\",\"vit_base_patch16_224_sam\",\"vit_small_patch16_384\",\"vit_large_r50_s32_224\",\"vit_small_r26_s32_384\",\"vit_large_patch32_384\",\"vit_large_patch16_224\",\"vit_base_patch16_384\",\"vit_large_r50_s32_384\",\"vit_base_patch8_224\",\"vit_base_r50_s16_384\",\"vit_large_patch16_384\"],\"legendgroup\":\"vit\",\"marker\":{\"color\":\"#EF553B\",\"size\":[50176,50176,50176,50176,50176,147456,147456,50176,50176,147456,147456,50176,50176,50176,147456,50176,147456,147456,50176,147456,147456,50176,147456,147456],\"sizemode\":\"area\",\"sizeref\":655.36,\"symbol\":\"circle\"},\"mode\":\"markers\",\"name\":\"vit\",\"orientation\":\"v\",\"showlegend\":true,\"x\":[0.00023073053903268528,0.00025923592802573695,0.0004485431319075642,0.0006196708308546501,0.0006199781767681778,0.0007068736392682444,0.0008379069085424609,0.0009731128908264647,0.0014655450361989624,0.0019330395113276114,0.001984363217843394,0.002551866690484089,0.002595851828777613,0.0025975375344173724,0.004245923913043478,0.004369101712687872,0.004516507836141096,0.0061793239819563734,0.008666262241095415,0.010450412791305257,0.013199577613516367,0.01588310038119441,0.016992353440951572,0.03466204506065858],\"xaxis\":\"x\",\"y\":[75.986,71.792,75.462,73.694,80.722,80.484,75.954,81.396,81.856,83.348,78.434,84.272,84.528,80.242,83.804,84.424,84.042,81.506,85.838,86.01,86.182,85.794,84.97,87.08],\"yaxis\":\"y\",\"type\":\"scatter\"},{\"customdata\":[[224],[224],[224],[256],[224],[256],[256],[224],[224],[288],[288]],\"hovertemplate\":\"<b>%{hovertext}</b><br><br>family=resnet<br>secs=%{x}<br>top1=%{y}<br>size=%{marker.size}<br>train_img_size=%{customdata[0]}<extra></extra>\",\"hovertext\":[\"resnet18\",\"resnet34\",\"resnet26\",\"resnet26t\",\"resnet50\",\"resnet32ts\",\"resnet33ts\",\"resnet101\",\"resnet152\",\"resnet51q\",\"resnet61q\"],\"legendgroup\":\"resnet\",\"marker\":{\"color\":\"#00cc96\",\"size\":[50176,50176,50176,65536,50176,65536,65536,50176,50176,82944,82944],\"sizemode\":\"area\",\"sizeref\":655.36,\"symbol\":\"circle\"},\"mode\":\"markers\",\"name\":\"resnet\",\"orientation\":\"v\",\"showlegend\":true,\"x\":[0.000279003066243698,0.0004805543675183692,0.0005087349795997273,0.000814431730260211,0.0008179223137386412,0.0009786938352075321,0.0009906973518659784,0.0013745704467353953,0.0020006802312786346,0.0035980282805022847,0.004809773459670049],\"xaxis\":\"x\",\"y\":[69.744,75.114,75.3,77.862,80.376,79.012,79.21,81.932,82.82,82.362,82.526],\"yaxis\":\"y\",\"type\":\"scatter\"},{\"customdata\":[[224],[224],[224],[224],[320],[320],[320]],\"hovertemplate\":\"<b>%{hovertext}</b><br><br>family=resnetd<br>secs=%{x}<br>top1=%{y}<br>size=%{marker.size}<br>train_img_size=%{customdata[0]}<extra></extra>\",\"hovertext\":[\"resnet18d\",\"resnet34d\",\"resnet26d\",\"resnet50d\",\"resnet101d\",\"resnet152d\",\"resnet200d\"],\"legendgroup\":\"resnetd\",\"marker\":{\"color\":\"#ab63fa\",\"size\":[50176,50176,50176,50176,102400,102400,102400],\"sizemode\":\"area\",\"sizeref\":655.36,\"symbol\":\"circle\"},\"mode\":\"markers\",\"name\":\"resnetd\",\"orientation\":\"v\",\"showlegend\":true,\"x\":[0.0003533543932551713,0.0005558550996926121,0.0006213611537433903,0.0009343960531110716,0.003054274457102715,0.0046277014207043365,0.006017209218364523],\"xaxis\":\"x\",\"y\":[72.25,77.114,76.704,80.522,83.022,83.678,83.964],\"yaxis\":\"y\",\"type\":\"scatter\"},{\"customdata\":[[224],[224],[224],[224],[224],[224],[224],[224],[224],[224],[224],[224]],\"hovertemplate\":\"<b>%{hovertext}</b><br><br>family=regnetx<br>secs=%{x}<br>top1=%{y}<br>size=%{marker.size}<br>train_img_size=%{customdata[0]}<extra></extra>\",\"hovertext\":[\"regnetx_002\",\"regnetx_004\",\"regnetx_006\",\"regnetx_008\",\"regnetx_016\",\"regnetx_032\",\"regnetx_040\",\"regnetx_080\",\"regnetx_064\",\"regnetx_120\",\"regnetx_160\",\"regnetx_320\"],\"legendgroup\":\"regnetx\",\"marker\":{\"color\":\"#FFA15A\",\"size\":[50176,50176,50176,50176,50176,50176,50176,50176,50176,50176,50176,50176],\"sizemode\":\"area\",\"sizeref\":655.36,\"symbol\":\"circle\"},\"mode\":\"markers\",\"name\":\"regnetx\",\"orientation\":\"v\",\"showlegend\":true,\"x\":[0.0004215904922912179,0.0008689456213830139,0.0012649261283141065,0.001689760054072322,0.002637061258933045,0.005628095452498874,0.006177796997590659,0.0066657778962804955,0.008056070248932571,0.012896569512509672,0.015382248884786955,0.021663778162911613],\"xaxis\":\"x\",\"y\":[68.756,72.392,73.86,75.034,76.95,78.172,78.482,79.202,79.066,79.592,79.85,80.24],\"yaxis\":\"y\",\"type\":\"scatter\"},{\"customdata\":[[224],[224],[224],[224],[224],[288],[288],[224],[288],[224],[288],[288]],\"hovertemplate\":\"<b>%{hovertext}</b><br><br>family=regnety<br>secs=%{x}<br>top1=%{y}<br>size=%{marker.size}<br>train_img_size=%{customdata[0]}<extra></extra>\",\"hovertext\":[\"regnety_002\",\"regnety_004\",\"regnety_006\",\"regnety_008\",\"regnety_016\",\"regnety_032\",\"regnety_040\",\"regnety_120\",\"regnety_064\",\"regnety_320\",\"regnety_080\",\"regnety_160\"],\"legendgroup\":\"regnety\",\"marker\":{\"color\":\"#19d3f3\",\"size\":[50176,50176,50176,50176,50176,82944,82944,50176,82944,50176,82944,82944],\"sizemode\":\"area\",\"sizeref\":655.36,\"symbol\":\"circle\"},\"mode\":\"markers\",\"name\":\"regnety\",\"orientation\":\"v\",\"showlegend\":true,\"x\":[0.00044342751733801594,0.0009734728644439036,0.0012694221590332081,0.0015109848599317035,0.002829975096219153,0.005617661929105107,0.008316008316008316,0.013273161667109104,0.013757050488375293,0.014817009927396653,0.015278838808250572,0.02077274615704196],\"xaxis\":\"x\",\"y\":[70.254,74.024,75.25,76.31,77.86,82.726,83.036,80.376,83.72,80.81,83.926,83.69],\"yaxis\":\"y\",\"type\":\"scatter\"},{\"customdata\":[[224],[224],[224],[224],[240],[240],[256],[260],[288],[300],[300],[300],[320],[384]],\"hovertemplate\":\"<b>%{hovertext}</b><br><br>family=efficientnet<br>secs=%{x}<br>top1=%{y}<br>size=%{marker.size}<br>train_img_size=%{customdata[0]}<extra></extra>\",\"hovertext\":[\"efficientnet_lite0\",\"efficientnet_b0\",\"efficientnet_es\",\"efficientnet_es_pruned\",\"efficientnet_b1_pruned\",\"efficientnet_em\",\"efficientnet_b1\",\"efficientnet_b2_pruned\",\"efficientnet_b2\",\"efficientnet_b3_pruned\",\"efficientnet_el\",\"efficientnet_el_pruned\",\"efficientnet_b3\",\"efficientnet_b4\"],\"legendgroup\":\"efficientnet\",\"marker\":{\"color\":\"#FF6692\",\"size\":[50176,50176,50176,50176,57600,57600,65536,67600,82944,90000,90000,90000,102400,147456],\"sizemode\":\"area\",\"sizeref\":655.36,\"symbol\":\"circle\"},\"mode\":\"markers\",\"name\":\"efficientnet\",\"orientation\":\"v\",\"showlegend\":true,\"x\":[0.0004526361529548088,0.0005553796853218703,0.0006177300890149058,0.0006187850773790739,0.0007223763291724458,0.0010220141855568955,0.001047219109654313,0.0012109909538975743,0.0013808149569876141,0.0019251872244575787,0.0021957753282684117,0.002201091741503786,0.0028314174075542214,0.004141301196836046],\"xaxis\":\"x\",\"y\":[75.476,77.69,78.056,74.996,78.24,79.25,78.796,79.916,80.614,80.858,81.31,80.302,82.24,83.424],\"yaxis\":\"y\",\"type\":\"scatter\"},{\"customdata\":[[224],[224],[224],[224],[224],[224],[224],[224]],\"hovertemplate\":\"<b>%{hovertext}</b><br><br>family=repvgg<br>secs=%{x}<br>top1=%{y}<br>size=%{marker.size}<br>train_img_size=%{customdata[0]}<extra></extra>\",\"hovertext\":[\"repvgg_b0\",\"repvgg_a2\",\"repvgg_b1\",\"repvgg_b2\",\"repvgg_b3\",\"repvgg_b1g4\",\"repvgg_b2g4\",\"repvgg_b3g4\"],\"legendgroup\":\"repvgg\",\"marker\":{\"color\":\"#B6E880\",\"size\":[50176,50176,50176,50176,50176,50176,50176,50176],\"sizemode\":\"area\",\"sizeref\":655.36,\"symbol\":\"circle\"},\"mode\":\"markers\",\"name\":\"repvgg\",\"orientation\":\"v\",\"showlegend\":true,\"x\":[0.0006304573968414084,0.0008755494072530513,0.0015941081761808359,0.0026313712075362473,0.003168969451134491,0.0056050669805504175,0.00977230528681716,0.011799410029498525],\"xaxis\":\"x\",\"y\":[75.16,76.458,78.368,78.792,80.496,77.586,79.37,80.212],\"yaxis\":\"y\",\"type\":\"scatter\"},{\"customdata\":[[256],[256],[256]],\"hovertemplate\":\"<b>%{hovertext}</b><br><br>family=mobilevit<br>secs=%{x}<br>top1=%{y}<br>size=%{marker.size}<br>train_img_size=%{customdata[0]}<extra></extra>\",\"hovertext\":[\"mobilevit_xxs\",\"mobilevit_xs\",\"mobilevit_s\"],\"legendgroup\":\"mobilevit\",\"marker\":{\"color\":\"#FF97FF\",\"size\":[65536,65536,65536],\"sizemode\":\"area\",\"sizeref\":655.36,\"symbol\":\"circle\"},\"mode\":\"markers\",\"name\":\"mobilevit\",\"orientation\":\"v\",\"showlegend\":true,\"x\":[0.0006599091964945623,0.0010994931336653802,0.0013611738763509651],\"xaxis\":\"x\",\"y\":[68.92,74.644,78.312],\"yaxis\":\"y\",\"type\":\"scatter\"},{\"customdata\":[[240],[240],[240],[240],[240],[240],[240],[240],[240],[408],[408]],\"hovertemplate\":\"<b>%{hovertext}</b><br><br>family=crossvit<br>secs=%{x}<br>top1=%{y}<br>size=%{marker.size}<br>train_img_size=%{customdata[0]}<extra></extra>\",\"hovertext\":[\"crossvit_tiny_240\",\"crossvit_9_240\",\"crossvit_9_dagger_240\",\"crossvit_small_240\",\"crossvit_15_240\",\"crossvit_15_dagger_240\",\"crossvit_18_240\",\"crossvit_18_dagger_240\",\"crossvit_base_240\",\"crossvit_15_dagger_408\",\"crossvit_18_dagger_408\"],\"legendgroup\":\"crossvit\",\"marker\":{\"color\":\"#FECB52\",\"size\":[57600,57600,57600,57600,57600,57600,57600,57600,57600,166464,166464],\"sizemode\":\"area\",\"sizeref\":655.36,\"symbol\":\"circle\"},\"mode\":\"markers\",\"name\":\"crossvit\",\"orientation\":\"v\",\"showlegend\":true,\"x\":[0.0007573864109730144,0.0008087343307723412,0.0008364071295343722,0.0016024613806807258,0.001759138725679907,0.0018183140592043056,0.0024990628514307135,0.002577651759247326,0.004000160006400256,0.008588851670531649,0.011364927832708264],\"xaxis\":\"x\",\"y\":[73.332,73.96,76.982,81.018,81.542,82.33,82.398,82.52,82.216,83.836,84.194],\"yaxis\":\"y\",\"type\":\"scatter\"},{\"customdata\":[[224],[224],[448],[448],[224],[448],[384],[448],[448],[480]],\"hovertemplate\":\"<b>%{hovertext}</b><br><br>family=resnetv2<br>secs=%{x}<br>top1=%{y}<br>size=%{marker.size}<br>train_img_size=%{customdata[0]}<extra></extra>\",\"hovertext\":[\"resnetv2_50\",\"resnetv2_101\",\"resnetv2_50x1_bitm\",\"resnetv2_101x1_bitm\",\"resnetv2_152x2_bit_teacher\",\"resnetv2_50x3_bitm\",\"resnetv2_152x2_bit_teacher_384\",\"resnetv2_152x2_bitm\",\"resnetv2_101x3_bitm\",\"resnetv2_152x4_bitm\"],\"legendgroup\":\"resnetv2\",\"marker\":{\"color\":\"#636efa\",\"size\":[50176,50176,200704,200704,50176,200704,147456,200704,200704,230400],\"sizemode\":\"area\",\"sizeref\":655.36,\"symbol\":\"circle\"},\"mode\":\"markers\",\"name\":\"resnetv2\",\"orientation\":\"v\",\"showlegend\":true,\"x\":[0.0007716049382716049,0.0013201494409167118,0.007103786318107551,0.011508804235239959,0.011574074074074073,0.03143665513989312,0.03342245989304812,0.04599816007359706,0.057045065601825436,0.22271714922048996],\"xaxis\":\"x\",\"y\":[80.42,82.042,80.342,82.336,82.872,84.014,83.844,84.506,84.442,84.916],\"yaxis\":\"y\",\"type\":\"scatter\"},{\"customdata\":[[224],[224],[224]],\"hovertemplate\":\"<b>%{hovertext}</b><br><br>family=convit<br>secs=%{x}<br>top1=%{y}<br>size=%{marker.size}<br>train_img_size=%{customdata[0]}<extra></extra>\",\"hovertext\":[\"convit_tiny\",\"convit_small\",\"convit_base\"],\"legendgroup\":\"convit\",\"marker\":{\"color\":\"#EF553B\",\"size\":[50176,50176,50176],\"sizemode\":\"area\",\"sizeref\":655.36,\"symbol\":\"circle\"},\"mode\":\"markers\",\"name\":\"convit\",\"orientation\":\"v\",\"showlegend\":true,\"x\":[0.0009024537718055393,0.0022212843466092097,0.004373496610540126],\"xaxis\":\"x\",\"y\":[73.114,81.42,82.286],\"yaxis\":\"y\",\"type\":\"scatter\"},{\"customdata\":[[224],[224],[224],[224],[224],[224],[224],[224]],\"hovertemplate\":\"<b>%{hovertext}</b><br><br>family=vgg<br>secs=%{x}<br>top1=%{y}<br>size=%{marker.size}<br>train_img_size=%{customdata[0]}<extra></extra>\",\"hovertext\":[\"vgg11\",\"vgg11_bn\",\"vgg13\",\"vgg13_bn\",\"vgg16\",\"vgg16_bn\",\"vgg19\",\"vgg19_bn\"],\"legendgroup\":\"vgg\",\"marker\":{\"color\":\"#00cc96\",\"size\":[50176,50176,50176,50176,50176,50176,50176,50176],\"sizemode\":\"area\",\"sizeref\":655.36,\"symbol\":\"circle\"},\"mode\":\"markers\",\"name\":\"vgg\",\"orientation\":\"v\",\"showlegend\":true,\"x\":[0.001074575542660649,0.0012416499043929573,0.0015078180365193528,0.001758118110374655,0.001863967641521743,0.0021277953911951826,0.0022130748461912982,0.002501626056937009],\"xaxis\":\"x\",\"y\":[69.028,70.36,69.926,71.594,71.59,73.35,72.366,74.214],\"yaxis\":\"y\",\"type\":\"scatter\"},{\"customdata\":[[224]],\"hovertemplate\":\"<b>%{hovertext}</b><br><br>family=resnetblur<br>secs=%{x}<br>top1=%{y}<br>size=%{marker.size}<br>train_img_size=%{customdata[0]}<extra></extra>\",\"hovertext\":[\"resnetblur50\"],\"legendgroup\":\"resnetblur\",\"marker\":{\"color\":\"#ab63fa\",\"size\":[50176],\"sizemode\":\"area\",\"sizeref\":655.36,\"symbol\":\"circle\"},\"mode\":\"markers\",\"name\":\"resnetblur\",\"orientation\":\"v\",\"showlegend\":true,\"x\":[0.001099408518217199],\"xaxis\":\"x\",\"y\":[79.304],\"yaxis\":\"y\",\"type\":\"scatter\"},{\"customdata\":[[224],[288],[320],[320],[352],[384],[416]],\"hovertemplate\":\"<b>%{hovertext}</b><br><br>family=resnetrs<br>secs=%{x}<br>top1=%{y}<br>size=%{marker.size}<br>train_img_size=%{customdata[0]}<extra></extra>\",\"hovertext\":[\"resnetrs50\",\"resnetrs101\",\"resnetrs152\",\"resnetrs200\",\"resnetrs270\",\"resnetrs350\",\"resnetrs420\"],\"legendgroup\":\"resnetrs\",\"marker\":{\"color\":\"#FFA15A\",\"size\":[50176,82944,102400,102400,123904,147456,173056],\"sizemode\":\"area\",\"sizeref\":655.36,\"symbol\":\"circle\"},\"mode\":\"markers\",\"name\":\"resnetrs\",\"orientation\":\"v\",\"showlegend\":true,\"x\":[0.0011601466425356164,0.0031080997078386276,0.00584316933504733,0.00808080808080808,0.013285505513484789,0.021177467174925878,0.03105590062111801],\"xaxis\":\"x\",\"y\":[79.886,82.288,83.714,84.438,84.436,84.718,85.01],\"yaxis\":\"y\",\"type\":\"scatter\"},{\"customdata\":[[224],[224],[224],[224],[224]],\"hovertemplate\":\"<b>%{hovertext}</b><br><br>family=convnext<br>secs=%{x}<br>top1=%{y}<br>size=%{marker.size}<br>train_img_size=%{customdata[0]}<extra></extra>\",\"hovertext\":[\"convnext_tiny\",\"convnext_tiny_hnf\",\"convnext_small\",\"convnext_base\",\"convnext_large\"],\"legendgroup\":\"convnext\",\"marker\":{\"color\":\"#19d3f3\",\"size\":[50176,50176,50176,50176,50176],\"sizemode\":\"area\",\"sizeref\":655.36,\"symbol\":\"circle\"},\"mode\":\"markers\",\"name\":\"convnext\",\"orientation\":\"v\",\"showlegend\":true,\"x\":[0.0012801310854231474,0.0014666412448850886,0.0021101943488995335,0.0030553009471432934,0.005535872453498672],\"xaxis\":\"x\",\"y\":[82.064,82.222,83.15,83.838,84.292],\"yaxis\":\"y\",\"type\":\"scatter\"},{\"customdata\":[[288],[384],[416]],\"hovertemplate\":\"<b>%{hovertext}</b><br><br>family=efficientnetv2<br>secs=%{x}<br>top1=%{y}<br>size=%{marker.size}<br>train_img_size=%{customdata[0]}<extra></extra>\",\"hovertext\":[\"efficientnetv2_rw_t\",\"efficientnetv2_rw_s\",\"efficientnetv2_rw_m\"],\"legendgroup\":\"efficientnetv2\",\"marker\":{\"color\":\"#FF6692\",\"size\":[82944,147456,173056],\"sizemode\":\"area\",\"sizeref\":655.36,\"symbol\":\"circle\"},\"mode\":\"markers\",\"name\":\"efficientnetv2\",\"orientation\":\"v\",\"showlegend\":true,\"x\":[0.00146096306685367,0.0033831788348332096,0.007923302432453847],\"xaxis\":\"x\",\"y\":[82.344,83.81,84.812],\"yaxis\":\"y\",\"type\":\"scatter\"},{\"customdata\":[[224],[224],[224],[224],[224],[224],[224],[384],[384]],\"hovertemplate\":\"<b>%{hovertext}</b><br><br>family=swin<br>secs=%{x}<br>top1=%{y}<br>size=%{marker.size}<br>train_img_size=%{customdata[0]}<extra></extra>\",\"hovertext\":[\"swin_tiny_patch4_window7_224\",\"swin_s3_tiny_224\",\"swin_small_patch4_window7_224\",\"swin_s3_small_224\",\"swin_base_patch4_window7_224\",\"swin_s3_base_224\",\"swin_large_patch4_window7_224\",\"swin_base_patch4_window12_384\",\"swin_large_patch4_window12_384\"],\"legendgroup\":\"swin\",\"marker\":{\"color\":\"#B6E880\",\"size\":[50176,50176,50176,50176,50176,50176,50176,147456,147456],\"sizemode\":\"area\",\"sizeref\":655.36,\"symbol\":\"circle\"},\"mode\":\"markers\",\"name\":\"swin\",\"orientation\":\"v\",\"showlegend\":true,\"x\":[0.0015640885274106513,0.0017278319165111619,0.002542071279678682,0.003609456776755098,0.0036254214552441724,0.004564750992833341,0.006607201850016518,0.013585110718652357,0.024378352023403216],\"xaxis\":\"x\",\"y\":[81.374,82.126,83.216,83.768,85.248,83.932,86.314,86.432,87.15],\"yaxis\":\"y\",\"type\":\"scatter\"},{\"customdata\":[[224],[288]],\"hovertemplate\":\"<b>%{hovertext}</b><br><br>family=resnetv2d<br>secs=%{x}<br>top1=%{y}<br>size=%{marker.size}<br>train_img_size=%{customdata[0]}<extra></extra>\",\"hovertext\":[\"resnetv2_50x1_bit_distilled\",\"resnetv2_50d_evos\"],\"legendgroup\":\"resnetv2d\",\"marker\":{\"color\":\"#FF97FF\",\"size\":[50176,82944],\"sizemode\":\"area\",\"sizeref\":655.36,\"symbol\":\"circle\"},\"mode\":\"markers\",\"name\":\"resnetv2d\",\"orientation\":\"v\",\"showlegend\":true,\"x\":[0.001695950071229903,0.004472271914132379],\"xaxis\":\"x\",\"y\":[82.822,81.98],\"yaxis\":\"y\",\"type\":\"scatter\"},{\"customdata\":[[224],[224],[384],[384],[512]],\"hovertemplate\":\"<b>%{hovertext}</b><br><br>family=beit<br>secs=%{x}<br>top1=%{y}<br>size=%{marker.size}<br>train_img_size=%{customdata[0]}<extra></extra>\",\"hovertext\":[\"beit_base_patch16_224\",\"beit_large_patch16_224\",\"beit_base_patch16_384\",\"beit_large_patch16_384\",\"beit_large_patch16_512\"],\"legendgroup\":\"beit\",\"marker\":{\"color\":\"#FECB52\",\"size\":[50176,50176,147456,147456,262144],\"sizemode\":\"area\",\"sizeref\":655.36,\"symbol\":\"circle\"},\"mode\":\"markers\",\"name\":\"beit\",\"orientation\":\"v\",\"showlegend\":true,\"x\":[0.0028385704958982655,0.009381743127873158,0.012087513598452797,0.039824771007566706,0.10615711252653928],\"xaxis\":\"x\",\"y\":[85.228,87.474,86.798,88.404,88.6],\"yaxis\":\"y\",\"type\":\"scatter\"},{\"customdata\":[[224],[224],[224],[384],[384],[384]],\"hovertemplate\":\"<b>%{hovertext}</b><br><br>family=convnext_in22<br>secs=%{x}<br>top1=%{y}<br>size=%{marker.size}<br>train_img_size=%{customdata[0]}<extra></extra>\",\"hovertext\":[\"convnext_base_in22ft1k\",\"convnext_large_in22ft1k\",\"convnext_xlarge_in22ft1k\",\"convnext_base_384_in22ft1k\",\"convnext_large_384_in22ft1k\",\"convnext_xlarge_384_in22ft1k\"],\"legendgroup\":\"convnext_in22\",\"marker\":{\"color\":\"#636efa\",\"size\":[50176,50176,50176,147456,147456,147456],\"sizemode\":\"area\",\"sizeref\":655.36,\"symbol\":\"circle\"},\"mode\":\"markers\",\"name\":\"convnext_in22\",\"orientation\":\"v\",\"showlegend\":true,\"x\":[0.0030617556106671564,0.005529138560212319,0.008769622029290538,0.008894423196655697,0.01620745542949757,0.026997840172786176],\"xaxis\":\"x\",\"y\":[85.824,86.636,87.002,86.544,87.396,87.546],\"yaxis\":\"y\",\"type\":\"scatter\"},{\"customdata\":[[320],[320],[288],[320],[320],[320],[320],[320],[320]],\"hovertemplate\":\"<b>%{hovertext}</b><br><br>family=regnetz<br>secs=%{x}<br>top1=%{y}<br>size=%{marker.size}<br>train_img_size=%{customdata[0]}<extra></extra>\",\"hovertext\":[\"regnetz_d8\",\"regnetz_c16\",\"regnetz_b16\",\"regnetz_e8\",\"regnetz_c16_evos\",\"regnetz_d8_evos\",\"regnetz_040\",\"regnetz_040h\",\"regnetz_d32\"],\"legendgroup\":\"regnetz\",\"marker\":{\"color\":\"#EF553B\",\"size\":[102400,102400,82944,102400,102400,102400,102400,102400,102400],\"sizemode\":\"area\",\"sizeref\":655.36,\"symbol\":\"circle\"},\"mode\":\"markers\",\"name\":\"regnetz\",\"orientation\":\"v\",\"showlegend\":true,\"x\":[0.0032123353678123997,0.003997441637352095,0.005506607929515419,0.006836671908115129,0.008684324793747285,0.010453690152623877,0.010575296108291032,0.010622477161674103,0.013854253255749514],\"xaxis\":\"x\",\"y\":[84.052,82.516,80.714,85.03,82.632,84.054,84.234,84.496,84.022],\"yaxis\":\"y\",\"type\":\"scatter\"},{\"customdata\":[[288],[288]],\"hovertemplate\":\"<b>%{hovertext}</b><br><br>family=regnetv<br>secs=%{x}<br>top1=%{y}<br>size=%{marker.size}<br>train_img_size=%{customdata[0]}<extra></extra>\",\"hovertext\":[\"regnetv_040\",\"regnetv_064\"],\"legendgroup\":\"regnetv\",\"marker\":{\"color\":\"#00cc96\",\"size\":[82944,82944],\"sizemode\":\"area\",\"sizeref\":655.36,\"symbol\":\"circle\"},\"mode\":\"markers\",\"name\":\"regnetv\",\"orientation\":\"v\",\"showlegend\":true,\"x\":[0.008409014463504878,0.013925637097897228],\"xaxis\":\"x\",\"y\":[83.2,83.714],\"yaxis\":\"y\",\"type\":\"scatter\"}],                        {\"template\":{\"data\":{\"histogram2dcontour\":[{\"type\":\"histogram2dcontour\",\"colorbar\":{\"outlinewidth\":0,\"ticks\":\"\"},\"colorscale\":[[0.0,\"#0d0887\"],[0.1111111111111111,\"#46039f\"],[0.2222222222222222,\"#7201a8\"],[0.3333333333333333,\"#9c179e\"],[0.4444444444444444,\"#bd3786\"],[0.5555555555555556,\"#d8576b\"],[0.6666666666666666,\"#ed7953\"],[0.7777777777777778,\"#fb9f3a\"],[0.8888888888888888,\"#fdca26\"],[1.0,\"#f0f921\"]]}],\"choropleth\":[{\"type\":\"choropleth\",\"colorbar\":{\"outlinewidth\":0,\"ticks\":\"\"}}],\"histogram2d\":[{\"type\":\"histogram2d\",\"colorbar\":{\"outlinewidth\":0,\"ticks\":\"\"},\"colorscale\":[[0.0,\"#0d0887\"],[0.1111111111111111,\"#46039f\"],[0.2222222222222222,\"#7201a8\"],[0.3333333333333333,\"#9c179e\"],[0.4444444444444444,\"#bd3786\"],[0.5555555555555556,\"#d8576b\"],[0.6666666666666666,\"#ed7953\"],[0.7777777777777778,\"#fb9f3a\"],[0.8888888888888888,\"#fdca26\"],[1.0,\"#f0f921\"]]}],\"heatmap\":[{\"type\":\"heatmap\",\"colorbar\":{\"outlinewidth\":0,\"ticks\":\"\"},\"colorscale\":[[0.0,\"#0d0887\"],[0.1111111111111111,\"#46039f\"],[0.2222222222222222,\"#7201a8\"],[0.3333333333333333,\"#9c179e\"],[0.4444444444444444,\"#bd3786\"],[0.5555555555555556,\"#d8576b\"],[0.6666666666666666,\"#ed7953\"],[0.7777777777777778,\"#fb9f3a\"],[0.8888888888888888,\"#fdca26\"],[1.0,\"#f0f921\"]]}],\"heatmapgl\":[{\"type\":\"heatmapgl\",\"colorbar\":{\"outlinewidth\":0,\"ticks\":\"\"},\"colorscale\":[[0.0,\"#0d0887\"],[0.1111111111111111,\"#46039f\"],[0.2222222222222222,\"#7201a8\"],[0.3333333333333333,\"#9c179e\"],[0.4444444444444444,\"#bd3786\"],[0.5555555555555556,\"#d8576b\"],[0.6666666666666666,\"#ed7953\"],[0.7777777777777778,\"#fb9f3a\"],[0.8888888888888888,\"#fdca26\"],[1.0,\"#f0f921\"]]}],\"contourcarpet\":[{\"type\":\"contourcarpet\",\"colorbar\":{\"outlinewidth\":0,\"ticks\":\"\"}}],\"contour\":[{\"type\":\"contour\",\"colorbar\":{\"outlinewidth\":0,\"ticks\":\"\"},\"colorscale\":[[0.0,\"#0d0887\"],[0.1111111111111111,\"#46039f\"],[0.2222222222222222,\"#7201a8\"],[0.3333333333333333,\"#9c179e\"],[0.4444444444444444,\"#bd3786\"],[0.5555555555555556,\"#d8576b\"],[0.6666666666666666,\"#ed7953\"],[0.7777777777777778,\"#fb9f3a\"],[0.8888888888888888,\"#fdca26\"],[1.0,\"#f0f921\"]]}],\"surface\":[{\"type\":\"surface\",\"colorbar\":{\"outlinewidth\":0,\"ticks\":\"\"},\"colorscale\":[[0.0,\"#0d0887\"],[0.1111111111111111,\"#46039f\"],[0.2222222222222222,\"#7201a8\"],[0.3333333333333333,\"#9c179e\"],[0.4444444444444444,\"#bd3786\"],[0.5555555555555556,\"#d8576b\"],[0.6666666666666666,\"#ed7953\"],[0.7777777777777778,\"#fb9f3a\"],[0.8888888888888888,\"#fdca26\"],[1.0,\"#f0f921\"]]}],\"mesh3d\":[{\"type\":\"mesh3d\",\"colorbar\":{\"outlinewidth\":0,\"ticks\":\"\"}}],\"scatter\":[{\"fillpattern\":{\"fillmode\":\"overlay\",\"size\":10,\"solidity\":0.2},\"type\":\"scatter\"}],\"parcoords\":[{\"type\":\"parcoords\",\"line\":{\"colorbar\":{\"outlinewidth\":0,\"ticks\":\"\"}}}],\"scatterpolargl\":[{\"type\":\"scatterpolargl\",\"marker\":{\"colorbar\":{\"outlinewidth\":0,\"ticks\":\"\"}}}],\"bar\":[{\"error_x\":{\"color\":\"#2a3f5f\"},\"error_y\":{\"color\":\"#2a3f5f\"},\"marker\":{\"line\":{\"color\":\"#E5ECF6\",\"width\":0.5},\"pattern\":{\"fillmode\":\"overlay\",\"size\":10,\"solidity\":0.2}},\"type\":\"bar\"}],\"scattergeo\":[{\"type\":\"scattergeo\",\"marker\":{\"colorbar\":{\"outlinewidth\":0,\"ticks\":\"\"}}}],\"scatterpolar\":[{\"type\":\"scatterpolar\",\"marker\":{\"colorbar\":{\"outlinewidth\":0,\"ticks\":\"\"}}}],\"histogram\":[{\"marker\":{\"pattern\":{\"fillmode\":\"overlay\",\"size\":10,\"solidity\":0.2}},\"type\":\"histogram\"}],\"scattergl\":[{\"type\":\"scattergl\",\"marker\":{\"colorbar\":{\"outlinewidth\":0,\"ticks\":\"\"}}}],\"scatter3d\":[{\"type\":\"scatter3d\",\"line\":{\"colorbar\":{\"outlinewidth\":0,\"ticks\":\"\"}},\"marker\":{\"colorbar\":{\"outlinewidth\":0,\"ticks\":\"\"}}}],\"scattermapbox\":[{\"type\":\"scattermapbox\",\"marker\":{\"colorbar\":{\"outlinewidth\":0,\"ticks\":\"\"}}}],\"scatterternary\":[{\"type\":\"scatterternary\",\"marker\":{\"colorbar\":{\"outlinewidth\":0,\"ticks\":\"\"}}}],\"scattercarpet\":[{\"type\":\"scattercarpet\",\"marker\":{\"colorbar\":{\"outlinewidth\":0,\"ticks\":\"\"}}}],\"carpet\":[{\"aaxis\":{\"endlinecolor\":\"#2a3f5f\",\"gridcolor\":\"white\",\"linecolor\":\"white\",\"minorgridcolor\":\"white\",\"startlinecolor\":\"#2a3f5f\"},\"baxis\":{\"endlinecolor\":\"#2a3f5f\",\"gridcolor\":\"white\",\"linecolor\":\"white\",\"minorgridcolor\":\"white\",\"startlinecolor\":\"#2a3f5f\"},\"type\":\"carpet\"}],\"table\":[{\"cells\":{\"fill\":{\"color\":\"#EBF0F8\"},\"line\":{\"color\":\"white\"}},\"header\":{\"fill\":{\"color\":\"#C8D4E3\"},\"line\":{\"color\":\"white\"}},\"type\":\"table\"}],\"barpolar\":[{\"marker\":{\"line\":{\"color\":\"#E5ECF6\",\"width\":0.5},\"pattern\":{\"fillmode\":\"overlay\",\"size\":10,\"solidity\":0.2}},\"type\":\"barpolar\"}],\"pie\":[{\"automargin\":true,\"type\":\"pie\"}]},\"layout\":{\"autotypenumbers\":\"strict\",\"colorway\":[\"#636efa\",\"#EF553B\",\"#00cc96\",\"#ab63fa\",\"#FFA15A\",\"#19d3f3\",\"#FF6692\",\"#B6E880\",\"#FF97FF\",\"#FECB52\"],\"font\":{\"color\":\"#2a3f5f\"},\"hovermode\":\"closest\",\"hoverlabel\":{\"align\":\"left\"},\"paper_bgcolor\":\"white\",\"plot_bgcolor\":\"#E5ECF6\",\"polar\":{\"bgcolor\":\"#E5ECF6\",\"angularaxis\":{\"gridcolor\":\"white\",\"linecolor\":\"white\",\"ticks\":\"\"},\"radialaxis\":{\"gridcolor\":\"white\",\"linecolor\":\"white\",\"ticks\":\"\"}},\"ternary\":{\"bgcolor\":\"#E5ECF6\",\"aaxis\":{\"gridcolor\":\"white\",\"linecolor\":\"white\",\"ticks\":\"\"},\"baxis\":{\"gridcolor\":\"white\",\"linecolor\":\"white\",\"ticks\":\"\"},\"caxis\":{\"gridcolor\":\"white\",\"linecolor\":\"white\",\"ticks\":\"\"}},\"coloraxis\":{\"colorbar\":{\"outlinewidth\":0,\"ticks\":\"\"}},\"colorscale\":{\"sequential\":[[0.0,\"#0d0887\"],[0.1111111111111111,\"#46039f\"],[0.2222222222222222,\"#7201a8\"],[0.3333333333333333,\"#9c179e\"],[0.4444444444444444,\"#bd3786\"],[0.5555555555555556,\"#d8576b\"],[0.6666666666666666,\"#ed7953\"],[0.7777777777777778,\"#fb9f3a\"],[0.8888888888888888,\"#fdca26\"],[1.0,\"#f0f921\"]],\"sequentialminus\":[[0.0,\"#0d0887\"],[0.1111111111111111,\"#46039f\"],[0.2222222222222222,\"#7201a8\"],[0.3333333333333333,\"#9c179e\"],[0.4444444444444444,\"#bd3786\"],[0.5555555555555556,\"#d8576b\"],[0.6666666666666666,\"#ed7953\"],[0.7777777777777778,\"#fb9f3a\"],[0.8888888888888888,\"#fdca26\"],[1.0,\"#f0f921\"]],\"diverging\":[[0,\"#8e0152\"],[0.1,\"#c51b7d\"],[0.2,\"#de77ae\"],[0.3,\"#f1b6da\"],[0.4,\"#fde0ef\"],[0.5,\"#f7f7f7\"],[0.6,\"#e6f5d0\"],[0.7,\"#b8e186\"],[0.8,\"#7fbc41\"],[0.9,\"#4d9221\"],[1,\"#276419\"]]},\"xaxis\":{\"gridcolor\":\"white\",\"linecolor\":\"white\",\"ticks\":\"\",\"title\":{\"standoff\":15},\"zerolinecolor\":\"white\",\"automargin\":true,\"zerolinewidth\":2},\"yaxis\":{\"gridcolor\":\"white\",\"linecolor\":\"white\",\"ticks\":\"\",\"title\":{\"standoff\":15},\"zerolinecolor\":\"white\",\"automargin\":true,\"zerolinewidth\":2},\"scene\":{\"xaxis\":{\"backgroundcolor\":\"#E5ECF6\",\"gridcolor\":\"white\",\"linecolor\":\"white\",\"showbackground\":true,\"ticks\":\"\",\"zerolinecolor\":\"white\",\"gridwidth\":2},\"yaxis\":{\"backgroundcolor\":\"#E5ECF6\",\"gridcolor\":\"white\",\"linecolor\":\"white\",\"showbackground\":true,\"ticks\":\"\",\"zerolinecolor\":\"white\",\"gridwidth\":2},\"zaxis\":{\"backgroundcolor\":\"#E5ECF6\",\"gridcolor\":\"white\",\"linecolor\":\"white\",\"showbackground\":true,\"ticks\":\"\",\"zerolinecolor\":\"white\",\"gridwidth\":2}},\"shapedefaults\":{\"line\":{\"color\":\"#2a3f5f\"}},\"annotationdefaults\":{\"arrowcolor\":\"#2a3f5f\",\"arrowhead\":0,\"arrowwidth\":1},\"geo\":{\"bgcolor\":\"white\",\"landcolor\":\"#E5ECF6\",\"subunitcolor\":\"white\",\"showland\":true,\"showlakes\":true,\"lakecolor\":\"white\"},\"title\":{\"x\":0.05},\"mapbox\":{\"style\":\"light\"}}},\"xaxis\":{\"anchor\":\"y\",\"domain\":[0.0,1.0],\"title\":{\"text\":\"secs\"},\"type\":\"log\"},\"yaxis\":{\"anchor\":\"x\",\"domain\":[0.0,1.0],\"title\":{\"text\":\"top1\"}},\"legend\":{\"title\":{\"text\":\"family\"},\"tracegroupgap\":0,\"itemsizing\":\"constant\"},\"title\":{\"text\":\"Training\"},\"height\":800,\"width\":1000},                        {\"responsive\": true}                    ).then(function(){\n",
       "                            \n",
       "var gd = document.getElementById('368b8d2f-8e40-413b-aafb-6be20537eed0');\n",
       "var x = new MutationObserver(function (mutations, observer) {{\n",
       "        var display = window.getComputedStyle(gd).display;\n",
       "        if (!display || display === 'none') {{\n",
       "            console.log([gd, 'removed!']);\n",
       "            Plotly.purge(gd);\n",
       "            observer.disconnect();\n",
       "        }}\n",
       "}});\n",
       "\n",
       "// Listen for the removal of the full notebook cells\n",
       "var notebookContainer = gd.closest('#notebook-container');\n",
       "if (notebookContainer) {{\n",
       "    x.observe(notebookContainer, {childList: true});\n",
       "}}\n",
       "\n",
       "// Listen for the clearing of the current output cell\n",
       "var outputEl = gd.closest('.output');\n",
       "if (outputEl) {{\n",
       "    x.observe(outputEl, {childList: true});\n",
       "}}\n",
       "\n",
       "                        })                };                });            </script>        </div>"
      ]
     },
     "metadata": {},
     "output_type": "display_data"
    }
   ],
   "source": [
    "show_all(tdf, 'Training', 'train_img_size')"
   ]
  },
  {
   "cell_type": "markdown",
   "id": "978f8047",
   "metadata": {
    "papermill": {
     "duration": 0.036311,
     "end_time": "2022-06-13T09:22:18.961549",
     "exception": false,
     "start_time": "2022-06-13T09:22:18.925238",
     "status": "completed"
    },
    "tags": []
   },
   "source": [
    "...and we'll also look at our chosen subset of models:"
   ]
  },
  {
   "cell_type": "code",
   "execution_count": 13,
   "id": "f6b7a154",
   "metadata": {
    "execution": {
     "iopub.execute_input": "2022-06-13T09:22:19.036151Z",
     "iopub.status.busy": "2022-06-13T09:22:19.035541Z",
     "iopub.status.idle": "2022-06-13T09:22:19.232139Z",
     "shell.execute_reply": "2022-06-13T09:22:19.230975Z"
    },
    "papermill": {
     "duration": 0.236872,
     "end_time": "2022-06-13T09:22:19.234451",
     "exception": false,
     "start_time": "2022-06-13T09:22:18.997579",
     "status": "completed"
    },
    "tags": []
   },
   "outputs": [
    {
     "data": {
      "text/html": [
       "<div>                            <div id=\"0dc8f019-ff22-4fa4-bf1a-001d3f6a0134\" class=\"plotly-graph-div\" style=\"height:800px; width:1000px;\"></div>            <script type=\"text/javascript\">                require([\"plotly\"], function(Plotly) {                    window.PLOTLYENV=window.PLOTLYENV || {};                                    if (document.getElementById(\"0dc8f019-ff22-4fa4-bf1a-001d3f6a0134\")) {                    Plotly.newPlot(                        \"0dc8f019-ff22-4fa4-bf1a-001d3f6a0134\",                        [{\"customdata\":[[224],[224],[224],[224],[224]],\"hovertemplate\":\"<b>%{hovertext}</b><br><br>family=levit<br>secs=%{x}<br>top1=%{y}<br>size=%{marker.size}<br>train_img_size=%{customdata[0]}<extra></extra>\",\"hovertext\":[\"levit_128s\",\"levit_128\",\"levit_192\",\"levit_256\",\"levit_384\"],\"legendgroup\":\"levit\",\"marker\":{\"color\":\"#636efa\",\"size\":[50176,50176,50176,50176,50176],\"sizemode\":\"area\",\"sizeref\":655.36,\"symbol\":\"circle\"},\"mode\":\"markers\",\"name\":\"levit\",\"orientation\":\"v\",\"showlegend\":true,\"x\":[0.00015865108501477042,0.00022550151537018326,0.00026151037934695625,0.000342053415061296,0.0005556697765651828],\"xaxis\":\"x\",\"y\":[76.52,78.492,79.832,81.506,82.588],\"yaxis\":\"y\",\"type\":\"scatter\"},{\"hovertemplate\":\"<b>OLS trendline</b><br>top1 = 11.455 * log10(secs) + 120.453<br>R<sup>2</sup>=0.944784<br><br>family=levit<br>secs=%{x}<br>top1=%{y} <b>(trend)</b><extra></extra>\",\"legendgroup\":\"levit\",\"marker\":{\"color\":\"#636efa\",\"symbol\":\"circle\"},\"mode\":\"lines\",\"name\":\"levit\",\"showlegend\":false,\"x\":[0.00015865108501477042,0.00022550151537018326,0.00026151037934695625,0.000342053415061296,0.0005556697765651828],\"xaxis\":\"x\",\"y\":[76.92894085052804,78.67819423806188,79.41520339769255,80.75091471844115,83.16474679527593],\"yaxis\":\"y\",\"type\":\"scatter\"},{\"customdata\":[[224],[224],[224],[256],[224],[256],[256],[224],[224],[288],[288]],\"hovertemplate\":\"<b>%{hovertext}</b><br><br>family=resnet<br>secs=%{x}<br>top1=%{y}<br>size=%{marker.size}<br>train_img_size=%{customdata[0]}<extra></extra>\",\"hovertext\":[\"resnet18\",\"resnet34\",\"resnet26\",\"resnet26t\",\"resnet50\",\"resnet32ts\",\"resnet33ts\",\"resnet101\",\"resnet152\",\"resnet51q\",\"resnet61q\"],\"legendgroup\":\"resnet\",\"marker\":{\"color\":\"#EF553B\",\"size\":[50176,50176,50176,65536,50176,65536,65536,50176,50176,82944,82944],\"sizemode\":\"area\",\"sizeref\":655.36,\"symbol\":\"circle\"},\"mode\":\"markers\",\"name\":\"resnet\",\"orientation\":\"v\",\"showlegend\":true,\"x\":[0.000279003066243698,0.0004805543675183692,0.0005087349795997273,0.000814431730260211,0.0008179223137386412,0.0009786938352075321,0.0009906973518659784,0.0013745704467353953,0.0020006802312786346,0.0035980282805022847,0.004809773459670049],\"xaxis\":\"x\",\"y\":[69.744,75.114,75.3,77.862,80.376,79.012,79.21,81.932,82.82,82.362,82.526],\"yaxis\":\"y\",\"type\":\"scatter\"},{\"hovertemplate\":\"<b>OLS trendline</b><br>top1 = 9.63288 * log10(secs) + 107.368<br>R<sup>2</sup>=0.784138<br><br>family=resnet<br>secs=%{x}<br>top1=%{y} <b>(trend)</b><extra></extra>\",\"legendgroup\":\"resnet\",\"marker\":{\"color\":\"#EF553B\",\"symbol\":\"circle\"},\"mode\":\"lines\",\"name\":\"resnet\",\"showlegend\":false,\"x\":[0.000279003066243698,0.0004805543675183692,0.0005087349795997273,0.000814431730260211,0.0008179223137386412,0.0009786938352075321,0.0009906973518659784,0.0013745704467353953,0.0020006802312786346,0.0035980282805022847,0.004809773459670049],\"xaxis\":\"x\",\"y\":[73.12877719931336,75.40342232374691,75.6418270464835,77.6104312167384,77.62832303951636,78.37905923395309,78.4300571164456,79.800102476558,81.37036405644032,83.82565776342159,85.03997852738271],\"yaxis\":\"y\",\"type\":\"scatter\"},{\"customdata\":[[224],[224],[224],[224],[320],[320],[320]],\"hovertemplate\":\"<b>%{hovertext}</b><br><br>family=resnetd<br>secs=%{x}<br>top1=%{y}<br>size=%{marker.size}<br>train_img_size=%{customdata[0]}<extra></extra>\",\"hovertext\":[\"resnet18d\",\"resnet34d\",\"resnet26d\",\"resnet50d\",\"resnet101d\",\"resnet152d\",\"resnet200d\"],\"legendgroup\":\"resnetd\",\"marker\":{\"color\":\"#00cc96\",\"size\":[50176,50176,50176,50176,102400,102400,102400],\"sizemode\":\"area\",\"sizeref\":655.36,\"symbol\":\"circle\"},\"mode\":\"markers\",\"name\":\"resnetd\",\"orientation\":\"v\",\"showlegend\":true,\"x\":[0.0003533543932551713,0.0005558550996926121,0.0006213611537433903,0.0009343960531110716,0.003054274457102715,0.0046277014207043365,0.006017209218364523],\"xaxis\":\"x\",\"y\":[72.25,77.114,76.704,80.522,83.022,83.678,83.964],\"yaxis\":\"y\",\"type\":\"scatter\"},{\"hovertemplate\":\"<b>OLS trendline</b><br>top1 = 8.42549 * log10(secs) + 103.697<br>R<sup>2</sup>=0.886542<br><br>family=resnetd<br>secs=%{x}<br>top1=%{y} <b>(trend)</b><extra></extra>\",\"legendgroup\":\"resnetd\",\"marker\":{\"color\":\"#00cc96\",\"symbol\":\"circle\"},\"mode\":\"lines\",\"name\":\"resnetd\",\"showlegend\":false,\"x\":[0.0003533543932551713,0.0005558550996926121,0.0006213611537433903,0.0009343960531110716,0.003054274457102715,0.0046277014207043365,0.006017209218364523],\"xaxis\":\"x\",\"y\":[74.61351572149532,76.27123971912057,76.67888592001687,78.1717719676992,82.50564968322989,84.02609022364413,84.98684676479338],\"yaxis\":\"y\",\"type\":\"scatter\"},{\"customdata\":[[224],[224],[224],[224],[224],[224],[224],[224],[224],[224],[224],[224]],\"hovertemplate\":\"<b>%{hovertext}</b><br><br>family=regnetx<br>secs=%{x}<br>top1=%{y}<br>size=%{marker.size}<br>train_img_size=%{customdata[0]}<extra></extra>\",\"hovertext\":[\"regnetx_002\",\"regnetx_004\",\"regnetx_006\",\"regnetx_008\",\"regnetx_016\",\"regnetx_032\",\"regnetx_040\",\"regnetx_080\",\"regnetx_064\",\"regnetx_120\",\"regnetx_160\",\"regnetx_320\"],\"legendgroup\":\"regnetx\",\"marker\":{\"color\":\"#ab63fa\",\"size\":[50176,50176,50176,50176,50176,50176,50176,50176,50176,50176,50176,50176],\"sizemode\":\"area\",\"sizeref\":655.36,\"symbol\":\"circle\"},\"mode\":\"markers\",\"name\":\"regnetx\",\"orientation\":\"v\",\"showlegend\":true,\"x\":[0.0004215904922912179,0.0008689456213830139,0.0012649261283141065,0.001689760054072322,0.002637061258933045,0.005628095452498874,0.006177796997590659,0.0066657778962804955,0.008056070248932571,0.012896569512509672,0.015382248884786955,0.021663778162911613],\"xaxis\":\"x\",\"y\":[68.756,72.392,73.86,75.034,76.95,78.172,78.482,79.202,79.066,79.592,79.85,80.24],\"yaxis\":\"y\",\"type\":\"scatter\"},{\"hovertemplate\":\"<b>OLS trendline</b><br>top1 = 6.45127 * log10(secs) + 92.2723<br>R<sup>2</sup>=0.934936<br><br>family=regnetx<br>secs=%{x}<br>top1=%{y} <b>(trend)</b><extra></extra>\",\"legendgroup\":\"regnetx\",\"marker\":{\"color\":\"#ab63fa\",\"symbol\":\"circle\"},\"mode\":\"lines\",\"name\":\"regnetx\",\"showlegend\":false,\"x\":[0.0004215904922912179,0.0008689456213830139,0.0012649261283141065,0.001689760054072322,0.002637061258933045,0.005628095452498874,0.006177796997590659,0.0066657778962804955,0.008056070248932571,0.012896569512509672,0.015382248884786955,0.021663778162911613],\"xaxis\":\"x\",\"y\":[70.49860416759472,72.52495922430009,73.5769841560555,74.38829490742006,75.6352940502882,77.75931773381816,78.02041463473817,78.23341750009446,78.7641788970195,80.08250184311109,80.57631827498635,81.53571461057368],\"yaxis\":\"y\",\"type\":\"scatter\"},{\"customdata\":[[224],[224],[224],[224],[224],[224],[224],[224]],\"hovertemplate\":\"<b>%{hovertext}</b><br><br>family=vgg<br>secs=%{x}<br>top1=%{y}<br>size=%{marker.size}<br>train_img_size=%{customdata[0]}<extra></extra>\",\"hovertext\":[\"vgg11\",\"vgg11_bn\",\"vgg13\",\"vgg13_bn\",\"vgg16\",\"vgg16_bn\",\"vgg19\",\"vgg19_bn\"],\"legendgroup\":\"vgg\",\"marker\":{\"color\":\"#FFA15A\",\"size\":[50176,50176,50176,50176,50176,50176,50176,50176],\"sizemode\":\"area\",\"sizeref\":655.36,\"symbol\":\"circle\"},\"mode\":\"markers\",\"name\":\"vgg\",\"orientation\":\"v\",\"showlegend\":true,\"x\":[0.001074575542660649,0.0012416499043929573,0.0015078180365193528,0.001758118110374655,0.001863967641521743,0.0021277953911951826,0.0022130748461912982,0.002501626056937009],\"xaxis\":\"x\",\"y\":[69.028,70.36,69.926,71.594,71.59,73.35,72.366,74.214],\"yaxis\":\"y\",\"type\":\"scatter\"},{\"hovertemplate\":\"<b>OLS trendline</b><br>top1 = 12.9476 * log10(secs) + 107.337<br>R<sup>2</sup>=0.886963<br><br>family=vgg<br>secs=%{x}<br>top1=%{y} <b>(trend)</b><extra></extra>\",\"legendgroup\":\"vgg\",\"marker\":{\"color\":\"#FFA15A\",\"symbol\":\"circle\"},\"mode\":\"lines\",\"name\":\"vgg\",\"showlegend\":false,\"x\":[0.001074575542660649,0.0012416499043929573,0.0015078180365193528,0.001758118110374655,0.001863967641521743,0.0021277953911951826,0.0022130748461912982,0.002501626056937009],\"xaxis\":\"x\",\"y\":[68.89870825189375,69.71133097803404,70.80346183806867,71.66705822132776,71.99580306218834,72.7401824790305,72.96115005630631,73.65030511314981],\"yaxis\":\"y\",\"type\":\"scatter\"},{\"customdata\":[[224],[224],[224],[224],[224]],\"hovertemplate\":\"<b>%{hovertext}</b><br><br>family=convnext<br>secs=%{x}<br>top1=%{y}<br>size=%{marker.size}<br>train_img_size=%{customdata[0]}<extra></extra>\",\"hovertext\":[\"convnext_tiny\",\"convnext_tiny_hnf\",\"convnext_small\",\"convnext_base\",\"convnext_large\"],\"legendgroup\":\"convnext\",\"marker\":{\"color\":\"#19d3f3\",\"size\":[50176,50176,50176,50176,50176],\"sizemode\":\"area\",\"sizeref\":655.36,\"symbol\":\"circle\"},\"mode\":\"markers\",\"name\":\"convnext\",\"orientation\":\"v\",\"showlegend\":true,\"x\":[0.0012801310854231474,0.0014666412448850886,0.0021101943488995335,0.0030553009471432934,0.005535872453498672],\"xaxis\":\"x\",\"y\":[82.064,82.222,83.15,83.838,84.292],\"yaxis\":\"y\",\"type\":\"scatter\"},{\"hovertemplate\":\"<b>OLS trendline</b><br>top1 = 3.69367 * log10(secs) + 92.8452<br>R<sup>2</sup>=0.948596<br><br>family=convnext<br>secs=%{x}<br>top1=%{y} <b>(trend)</b><extra></extra>\",\"legendgroup\":\"convnext\",\"marker\":{\"color\":\"#19d3f3\",\"symbol\":\"circle\"},\"mode\":\"lines\",\"name\":\"convnext\",\"showlegend\":false,\"x\":[0.0012801310854231474,0.0014666412448850886,0.0021101943488995335,0.0030553009471432934,0.005535872453498672],\"xaxis\":\"x\",\"y\":[82.16033103329355,82.37851389385656,82.96210791602297,83.55579664585333,84.50925051097369],\"yaxis\":\"y\",\"type\":\"scatter\"},{\"customdata\":[[288],[384],[416]],\"hovertemplate\":\"<b>%{hovertext}</b><br><br>family=efficientnetv2<br>secs=%{x}<br>top1=%{y}<br>size=%{marker.size}<br>train_img_size=%{customdata[0]}<extra></extra>\",\"hovertext\":[\"efficientnetv2_rw_t\",\"efficientnetv2_rw_s\",\"efficientnetv2_rw_m\"],\"legendgroup\":\"efficientnetv2\",\"marker\":{\"color\":\"#FF6692\",\"size\":[82944,147456,173056],\"sizemode\":\"area\",\"sizeref\":655.36,\"symbol\":\"circle\"},\"mode\":\"markers\",\"name\":\"efficientnetv2\",\"orientation\":\"v\",\"showlegend\":true,\"x\":[0.00146096306685367,0.0033831788348332096,0.007923302432453847],\"xaxis\":\"x\",\"y\":[82.344,83.81,84.812],\"yaxis\":\"y\",\"type\":\"scatter\"},{\"hovertemplate\":\"<b>OLS trendline</b><br>top1 = 3.35972 * log10(secs) + 91.9506<br>R<sup>2</sup>=0.987515<br><br>family=efficientnetv2<br>secs=%{x}<br>top1=%{y} <b>(trend)</b><extra></extra>\",\"legendgroup\":\"efficientnetv2\",\"marker\":{\"color\":\"#FF6692\",\"symbol\":\"circle\"},\"mode\":\"lines\",\"name\":\"efficientnetv2\",\"showlegend\":false,\"x\":[0.00146096306685367,0.0033831788348332096,0.007923302432453847],\"xaxis\":\"x\",\"y\":[82.42460849877196,83.6498507614667,84.89154073976133],\"yaxis\":\"y\",\"type\":\"scatter\"},{\"customdata\":[[224],[224],[224],[224],[224],[224],[224],[384],[384]],\"hovertemplate\":\"<b>%{hovertext}</b><br><br>family=swin<br>secs=%{x}<br>top1=%{y}<br>size=%{marker.size}<br>train_img_size=%{customdata[0]}<extra></extra>\",\"hovertext\":[\"swin_tiny_patch4_window7_224\",\"swin_s3_tiny_224\",\"swin_small_patch4_window7_224\",\"swin_s3_small_224\",\"swin_base_patch4_window7_224\",\"swin_s3_base_224\",\"swin_large_patch4_window7_224\",\"swin_base_patch4_window12_384\",\"swin_large_patch4_window12_384\"],\"legendgroup\":\"swin\",\"marker\":{\"color\":\"#B6E880\",\"size\":[50176,50176,50176,50176,50176,50176,50176,147456,147456],\"sizemode\":\"area\",\"sizeref\":655.36,\"symbol\":\"circle\"},\"mode\":\"markers\",\"name\":\"swin\",\"orientation\":\"v\",\"showlegend\":true,\"x\":[0.0015640885274106513,0.0017278319165111619,0.002542071279678682,0.003609456776755098,0.0036254214552441724,0.004564750992833341,0.006607201850016518,0.013585110718652357,0.024378352023403216],\"xaxis\":\"x\",\"y\":[81.374,82.126,83.216,83.768,85.248,83.932,86.314,86.432,87.15],\"yaxis\":\"y\",\"type\":\"scatter\"},{\"hovertemplate\":\"<b>OLS trendline</b><br>top1 = 4.70122 * log10(secs) + 95.3895<br>R<sup>2</sup>=0.858175<br><br>family=swin<br>secs=%{x}<br>top1=%{y} <b>(trend)</b><extra></extra>\",\"legendgroup\":\"swin\",\"marker\":{\"color\":\"#B6E880\",\"symbol\":\"circle\"},\"mode\":\"lines\",\"name\":\"swin\",\"showlegend\":false,\"x\":[0.0015640885274106513,0.0017278319165111619,0.002542071279678682,0.003609456776755098,0.0036254214552441724,0.004564750992833341,0.006607201850016518,0.013585110718652357,0.024378352023403216],\"xaxis\":\"x\",\"y\":[82.19909153010882,82.40237315576724,83.19070346305269,83.90648398344506,83.9154946056259,84.3858923180676,85.1409109417585,86.6126080339738,87.80644196819968],\"yaxis\":\"y\",\"type\":\"scatter\"},{\"customdata\":[[224],[224],[384],[384],[512]],\"hovertemplate\":\"<b>%{hovertext}</b><br><br>family=beit<br>secs=%{x}<br>top1=%{y}<br>size=%{marker.size}<br>train_img_size=%{customdata[0]}<extra></extra>\",\"hovertext\":[\"beit_base_patch16_224\",\"beit_large_patch16_224\",\"beit_base_patch16_384\",\"beit_large_patch16_384\",\"beit_large_patch16_512\"],\"legendgroup\":\"beit\",\"marker\":{\"color\":\"#FF97FF\",\"size\":[50176,50176,147456,147456,262144],\"sizemode\":\"area\",\"sizeref\":655.36,\"symbol\":\"circle\"},\"mode\":\"markers\",\"name\":\"beit\",\"orientation\":\"v\",\"showlegend\":true,\"x\":[0.0028385704958982655,0.009381743127873158,0.012087513598452797,0.039824771007566706,0.10615711252653928],\"xaxis\":\"x\",\"y\":[85.228,87.474,86.798,88.404,88.6],\"yaxis\":\"y\",\"type\":\"scatter\"},{\"hovertemplate\":\"<b>OLS trendline</b><br>top1 = 2.10794 * log10(secs) + 91.0387<br>R<sup>2</sup>=0.868158<br><br>family=beit<br>secs=%{x}<br>top1=%{y} <b>(trend)</b><extra></extra>\",\"legendgroup\":\"beit\",\"marker\":{\"color\":\"#FF97FF\",\"symbol\":\"circle\"},\"mode\":\"lines\",\"name\":\"beit\",\"showlegend\":false,\"x\":[0.0028385704958982655,0.009381743127873158,0.012087513598452797,0.039824771007566706,0.10615711252653928],\"xaxis\":\"x\",\"y\":[85.66996458103317,86.76437055887693,86.99635608676452,88.08787937500475,88.98542939832052],\"yaxis\":\"y\",\"type\":\"scatter\"},{\"customdata\":[[224],[224],[224],[384],[384],[384]],\"hovertemplate\":\"<b>%{hovertext}</b><br><br>family=convnext_in22<br>secs=%{x}<br>top1=%{y}<br>size=%{marker.size}<br>train_img_size=%{customdata[0]}<extra></extra>\",\"hovertext\":[\"convnext_base_in22ft1k\",\"convnext_large_in22ft1k\",\"convnext_xlarge_in22ft1k\",\"convnext_base_384_in22ft1k\",\"convnext_large_384_in22ft1k\",\"convnext_xlarge_384_in22ft1k\"],\"legendgroup\":\"convnext_in22\",\"marker\":{\"color\":\"#FECB52\",\"size\":[50176,50176,50176,147456,147456,147456],\"sizemode\":\"area\",\"sizeref\":655.36,\"symbol\":\"circle\"},\"mode\":\"markers\",\"name\":\"convnext_in22\",\"orientation\":\"v\",\"showlegend\":true,\"x\":[0.0030617556106671564,0.005529138560212319,0.008769622029290538,0.008894423196655697,0.01620745542949757,0.026997840172786176],\"xaxis\":\"x\",\"y\":[85.824,86.636,87.002,86.544,87.396,87.546],\"yaxis\":\"y\",\"type\":\"scatter\"},{\"hovertemplate\":\"<b>OLS trendline</b><br>top1 = 1.79228 * log10(secs) + 90.4804<br>R<sup>2</sup>=0.897123<br><br>family=convnext_in22<br>secs=%{x}<br>top1=%{y} <b>(trend)</b><extra></extra>\",\"legendgroup\":\"convnext_in22\",\"marker\":{\"color\":\"#FECB52\",\"symbol\":\"circle\"},\"mode\":\"lines\",\"name\":\"convnext_in22\",\"showlegend\":false,\"x\":[0.0030617556106671564,0.005529138560212319,0.008769622029290538,0.008894423196655697,0.01620745542949757,0.026997840172786176],\"xaxis\":\"x\",\"y\":[85.97454626417725,86.43460005587056,86.79363482694686,86.80463386832982,87.27169562926699,87.66888935540838],\"yaxis\":\"y\",\"type\":\"scatter\"}],                        {\"template\":{\"data\":{\"histogram2dcontour\":[{\"type\":\"histogram2dcontour\",\"colorbar\":{\"outlinewidth\":0,\"ticks\":\"\"},\"colorscale\":[[0.0,\"#0d0887\"],[0.1111111111111111,\"#46039f\"],[0.2222222222222222,\"#7201a8\"],[0.3333333333333333,\"#9c179e\"],[0.4444444444444444,\"#bd3786\"],[0.5555555555555556,\"#d8576b\"],[0.6666666666666666,\"#ed7953\"],[0.7777777777777778,\"#fb9f3a\"],[0.8888888888888888,\"#fdca26\"],[1.0,\"#f0f921\"]]}],\"choropleth\":[{\"type\":\"choropleth\",\"colorbar\":{\"outlinewidth\":0,\"ticks\":\"\"}}],\"histogram2d\":[{\"type\":\"histogram2d\",\"colorbar\":{\"outlinewidth\":0,\"ticks\":\"\"},\"colorscale\":[[0.0,\"#0d0887\"],[0.1111111111111111,\"#46039f\"],[0.2222222222222222,\"#7201a8\"],[0.3333333333333333,\"#9c179e\"],[0.4444444444444444,\"#bd3786\"],[0.5555555555555556,\"#d8576b\"],[0.6666666666666666,\"#ed7953\"],[0.7777777777777778,\"#fb9f3a\"],[0.8888888888888888,\"#fdca26\"],[1.0,\"#f0f921\"]]}],\"heatmap\":[{\"type\":\"heatmap\",\"colorbar\":{\"outlinewidth\":0,\"ticks\":\"\"},\"colorscale\":[[0.0,\"#0d0887\"],[0.1111111111111111,\"#46039f\"],[0.2222222222222222,\"#7201a8\"],[0.3333333333333333,\"#9c179e\"],[0.4444444444444444,\"#bd3786\"],[0.5555555555555556,\"#d8576b\"],[0.6666666666666666,\"#ed7953\"],[0.7777777777777778,\"#fb9f3a\"],[0.8888888888888888,\"#fdca26\"],[1.0,\"#f0f921\"]]}],\"heatmapgl\":[{\"type\":\"heatmapgl\",\"colorbar\":{\"outlinewidth\":0,\"ticks\":\"\"},\"colorscale\":[[0.0,\"#0d0887\"],[0.1111111111111111,\"#46039f\"],[0.2222222222222222,\"#7201a8\"],[0.3333333333333333,\"#9c179e\"],[0.4444444444444444,\"#bd3786\"],[0.5555555555555556,\"#d8576b\"],[0.6666666666666666,\"#ed7953\"],[0.7777777777777778,\"#fb9f3a\"],[0.8888888888888888,\"#fdca26\"],[1.0,\"#f0f921\"]]}],\"contourcarpet\":[{\"type\":\"contourcarpet\",\"colorbar\":{\"outlinewidth\":0,\"ticks\":\"\"}}],\"contour\":[{\"type\":\"contour\",\"colorbar\":{\"outlinewidth\":0,\"ticks\":\"\"},\"colorscale\":[[0.0,\"#0d0887\"],[0.1111111111111111,\"#46039f\"],[0.2222222222222222,\"#7201a8\"],[0.3333333333333333,\"#9c179e\"],[0.4444444444444444,\"#bd3786\"],[0.5555555555555556,\"#d8576b\"],[0.6666666666666666,\"#ed7953\"],[0.7777777777777778,\"#fb9f3a\"],[0.8888888888888888,\"#fdca26\"],[1.0,\"#f0f921\"]]}],\"surface\":[{\"type\":\"surface\",\"colorbar\":{\"outlinewidth\":0,\"ticks\":\"\"},\"colorscale\":[[0.0,\"#0d0887\"],[0.1111111111111111,\"#46039f\"],[0.2222222222222222,\"#7201a8\"],[0.3333333333333333,\"#9c179e\"],[0.4444444444444444,\"#bd3786\"],[0.5555555555555556,\"#d8576b\"],[0.6666666666666666,\"#ed7953\"],[0.7777777777777778,\"#fb9f3a\"],[0.8888888888888888,\"#fdca26\"],[1.0,\"#f0f921\"]]}],\"mesh3d\":[{\"type\":\"mesh3d\",\"colorbar\":{\"outlinewidth\":0,\"ticks\":\"\"}}],\"scatter\":[{\"fillpattern\":{\"fillmode\":\"overlay\",\"size\":10,\"solidity\":0.2},\"type\":\"scatter\"}],\"parcoords\":[{\"type\":\"parcoords\",\"line\":{\"colorbar\":{\"outlinewidth\":0,\"ticks\":\"\"}}}],\"scatterpolargl\":[{\"type\":\"scatterpolargl\",\"marker\":{\"colorbar\":{\"outlinewidth\":0,\"ticks\":\"\"}}}],\"bar\":[{\"error_x\":{\"color\":\"#2a3f5f\"},\"error_y\":{\"color\":\"#2a3f5f\"},\"marker\":{\"line\":{\"color\":\"#E5ECF6\",\"width\":0.5},\"pattern\":{\"fillmode\":\"overlay\",\"size\":10,\"solidity\":0.2}},\"type\":\"bar\"}],\"scattergeo\":[{\"type\":\"scattergeo\",\"marker\":{\"colorbar\":{\"outlinewidth\":0,\"ticks\":\"\"}}}],\"scatterpolar\":[{\"type\":\"scatterpolar\",\"marker\":{\"colorbar\":{\"outlinewidth\":0,\"ticks\":\"\"}}}],\"histogram\":[{\"marker\":{\"pattern\":{\"fillmode\":\"overlay\",\"size\":10,\"solidity\":0.2}},\"type\":\"histogram\"}],\"scattergl\":[{\"type\":\"scattergl\",\"marker\":{\"colorbar\":{\"outlinewidth\":0,\"ticks\":\"\"}}}],\"scatter3d\":[{\"type\":\"scatter3d\",\"line\":{\"colorbar\":{\"outlinewidth\":0,\"ticks\":\"\"}},\"marker\":{\"colorbar\":{\"outlinewidth\":0,\"ticks\":\"\"}}}],\"scattermapbox\":[{\"type\":\"scattermapbox\",\"marker\":{\"colorbar\":{\"outlinewidth\":0,\"ticks\":\"\"}}}],\"scatterternary\":[{\"type\":\"scatterternary\",\"marker\":{\"colorbar\":{\"outlinewidth\":0,\"ticks\":\"\"}}}],\"scattercarpet\":[{\"type\":\"scattercarpet\",\"marker\":{\"colorbar\":{\"outlinewidth\":0,\"ticks\":\"\"}}}],\"carpet\":[{\"aaxis\":{\"endlinecolor\":\"#2a3f5f\",\"gridcolor\":\"white\",\"linecolor\":\"white\",\"minorgridcolor\":\"white\",\"startlinecolor\":\"#2a3f5f\"},\"baxis\":{\"endlinecolor\":\"#2a3f5f\",\"gridcolor\":\"white\",\"linecolor\":\"white\",\"minorgridcolor\":\"white\",\"startlinecolor\":\"#2a3f5f\"},\"type\":\"carpet\"}],\"table\":[{\"cells\":{\"fill\":{\"color\":\"#EBF0F8\"},\"line\":{\"color\":\"white\"}},\"header\":{\"fill\":{\"color\":\"#C8D4E3\"},\"line\":{\"color\":\"white\"}},\"type\":\"table\"}],\"barpolar\":[{\"marker\":{\"line\":{\"color\":\"#E5ECF6\",\"width\":0.5},\"pattern\":{\"fillmode\":\"overlay\",\"size\":10,\"solidity\":0.2}},\"type\":\"barpolar\"}],\"pie\":[{\"automargin\":true,\"type\":\"pie\"}]},\"layout\":{\"autotypenumbers\":\"strict\",\"colorway\":[\"#636efa\",\"#EF553B\",\"#00cc96\",\"#ab63fa\",\"#FFA15A\",\"#19d3f3\",\"#FF6692\",\"#B6E880\",\"#FF97FF\",\"#FECB52\"],\"font\":{\"color\":\"#2a3f5f\"},\"hovermode\":\"closest\",\"hoverlabel\":{\"align\":\"left\"},\"paper_bgcolor\":\"white\",\"plot_bgcolor\":\"#E5ECF6\",\"polar\":{\"bgcolor\":\"#E5ECF6\",\"angularaxis\":{\"gridcolor\":\"white\",\"linecolor\":\"white\",\"ticks\":\"\"},\"radialaxis\":{\"gridcolor\":\"white\",\"linecolor\":\"white\",\"ticks\":\"\"}},\"ternary\":{\"bgcolor\":\"#E5ECF6\",\"aaxis\":{\"gridcolor\":\"white\",\"linecolor\":\"white\",\"ticks\":\"\"},\"baxis\":{\"gridcolor\":\"white\",\"linecolor\":\"white\",\"ticks\":\"\"},\"caxis\":{\"gridcolor\":\"white\",\"linecolor\":\"white\",\"ticks\":\"\"}},\"coloraxis\":{\"colorbar\":{\"outlinewidth\":0,\"ticks\":\"\"}},\"colorscale\":{\"sequential\":[[0.0,\"#0d0887\"],[0.1111111111111111,\"#46039f\"],[0.2222222222222222,\"#7201a8\"],[0.3333333333333333,\"#9c179e\"],[0.4444444444444444,\"#bd3786\"],[0.5555555555555556,\"#d8576b\"],[0.6666666666666666,\"#ed7953\"],[0.7777777777777778,\"#fb9f3a\"],[0.8888888888888888,\"#fdca26\"],[1.0,\"#f0f921\"]],\"sequentialminus\":[[0.0,\"#0d0887\"],[0.1111111111111111,\"#46039f\"],[0.2222222222222222,\"#7201a8\"],[0.3333333333333333,\"#9c179e\"],[0.4444444444444444,\"#bd3786\"],[0.5555555555555556,\"#d8576b\"],[0.6666666666666666,\"#ed7953\"],[0.7777777777777778,\"#fb9f3a\"],[0.8888888888888888,\"#fdca26\"],[1.0,\"#f0f921\"]],\"diverging\":[[0,\"#8e0152\"],[0.1,\"#c51b7d\"],[0.2,\"#de77ae\"],[0.3,\"#f1b6da\"],[0.4,\"#fde0ef\"],[0.5,\"#f7f7f7\"],[0.6,\"#e6f5d0\"],[0.7,\"#b8e186\"],[0.8,\"#7fbc41\"],[0.9,\"#4d9221\"],[1,\"#276419\"]]},\"xaxis\":{\"gridcolor\":\"white\",\"linecolor\":\"white\",\"ticks\":\"\",\"title\":{\"standoff\":15},\"zerolinecolor\":\"white\",\"automargin\":true,\"zerolinewidth\":2},\"yaxis\":{\"gridcolor\":\"white\",\"linecolor\":\"white\",\"ticks\":\"\",\"title\":{\"standoff\":15},\"zerolinecolor\":\"white\",\"automargin\":true,\"zerolinewidth\":2},\"scene\":{\"xaxis\":{\"backgroundcolor\":\"#E5ECF6\",\"gridcolor\":\"white\",\"linecolor\":\"white\",\"showbackground\":true,\"ticks\":\"\",\"zerolinecolor\":\"white\",\"gridwidth\":2},\"yaxis\":{\"backgroundcolor\":\"#E5ECF6\",\"gridcolor\":\"white\",\"linecolor\":\"white\",\"showbackground\":true,\"ticks\":\"\",\"zerolinecolor\":\"white\",\"gridwidth\":2},\"zaxis\":{\"backgroundcolor\":\"#E5ECF6\",\"gridcolor\":\"white\",\"linecolor\":\"white\",\"showbackground\":true,\"ticks\":\"\",\"zerolinecolor\":\"white\",\"gridwidth\":2}},\"shapedefaults\":{\"line\":{\"color\":\"#2a3f5f\"}},\"annotationdefaults\":{\"arrowcolor\":\"#2a3f5f\",\"arrowhead\":0,\"arrowwidth\":1},\"geo\":{\"bgcolor\":\"white\",\"landcolor\":\"#E5ECF6\",\"subunitcolor\":\"white\",\"showland\":true,\"showlakes\":true,\"lakecolor\":\"white\"},\"title\":{\"x\":0.05},\"mapbox\":{\"style\":\"light\"}}},\"xaxis\":{\"anchor\":\"y\",\"domain\":[0.0,1.0],\"title\":{\"text\":\"secs\"},\"type\":\"log\"},\"yaxis\":{\"anchor\":\"x\",\"domain\":[0.0,1.0],\"title\":{\"text\":\"top1\"}},\"legend\":{\"title\":{\"text\":\"family\"},\"tracegroupgap\":0,\"itemsizing\":\"constant\"},\"title\":{\"text\":\"Training\"},\"height\":800,\"width\":1000},                        {\"responsive\": true}                    ).then(function(){\n",
       "                            \n",
       "var gd = document.getElementById('0dc8f019-ff22-4fa4-bf1a-001d3f6a0134');\n",
       "var x = new MutationObserver(function (mutations, observer) {{\n",
       "        var display = window.getComputedStyle(gd).display;\n",
       "        if (!display || display === 'none') {{\n",
       "            console.log([gd, 'removed!']);\n",
       "            Plotly.purge(gd);\n",
       "            observer.disconnect();\n",
       "        }}\n",
       "}});\n",
       "\n",
       "// Listen for the removal of the full notebook cells\n",
       "var notebookContainer = gd.closest('#notebook-container');\n",
       "if (notebookContainer) {{\n",
       "    x.observe(notebookContainer, {childList: true});\n",
       "}}\n",
       "\n",
       "// Listen for the clearing of the current output cell\n",
       "var outputEl = gd.closest('.output');\n",
       "if (outputEl) {{\n",
       "    x.observe(outputEl, {childList: true});\n",
       "}}\n",
       "\n",
       "                        })                };                });            </script>        </div>"
      ]
     },
     "metadata": {},
     "output_type": "display_data"
    }
   ],
   "source": [
    "show_subs(tdf, 'Training', 'train_img_size')"
   ]
  },
  {
   "cell_type": "markdown",
   "id": "6d9cef51",
   "metadata": {
    "papermill": {
     "duration": 0.036557,
     "end_time": "2022-06-13T09:22:19.307649",
     "exception": false,
     "start_time": "2022-06-13T09:22:19.271092",
     "status": "completed"
    },
    "tags": []
   },
   "source": [
    "Finally, we should remember that speed depends on hardware. If you're using something other than a modern NVIDIA GPU, your results may be different. In particular, I suspect that transformers-based models might have worse performance in general on CPUs (although I need to study this more to be sure)."
   ]
  },
  {
   "cell_type": "code",
   "execution_count": null,
   "id": "93c492ac",
   "metadata": {
    "papermill": {
     "duration": 0.037039,
     "end_time": "2022-06-13T09:22:19.382765",
     "exception": false,
     "start_time": "2022-06-13T09:22:19.345726",
     "status": "completed"
    },
    "tags": []
   },
   "outputs": [],
   "source": []
  }
 ],
 "metadata": {
  "kernelspec": {
   "display_name": "Python 3",
   "language": "python",
   "name": "python3"
  },
  "language_info": {
   "codemirror_mode": {
    "name": "ipython",
    "version": 3
   },
   "file_extension": ".py",
   "mimetype": "text/x-python",
   "name": "python",
   "nbconvert_exporter": "python",
   "pygments_lexer": "ipython3",
   "version": "3.7.12"
  },
  "papermill": {
   "default_parameters": {},
   "duration": 20.778291,
   "end_time": "2022-06-13T09:22:20.241524",
   "environment_variables": {},
   "exception": null,
   "input_path": "__notebook__.ipynb",
   "output_path": "__notebook__.ipynb",
   "parameters": {},
   "start_time": "2022-06-13T09:21:59.463233",
   "version": "2.3.4"
  }
 },
 "nbformat": 4,
 "nbformat_minor": 5
}
